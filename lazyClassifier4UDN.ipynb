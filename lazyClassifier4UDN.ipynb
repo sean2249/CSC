{
 "cells": [
  {
   "cell_type": "code",
   "execution_count": 1,
   "metadata": {
    "collapsed": true
   },
   "outputs": [],
   "source": [
    "import os"
   ]
  },
  {
   "cell_type": "code",
   "execution_count": 2,
   "metadata": {
    "collapsed": true
   },
   "outputs": [],
   "source": [
    "filename = './withError_format.txt'\n",
    "outputname = './withError_label.txt'"
   ]
  },
  {
   "cell_type": "code",
   "execution_count": 3,
   "metadata": {
    "collapsed": false
   },
   "outputs": [],
   "source": [
    "with open(filename, 'r', encoding='utf8') as fp:\n",
    "    seqs = [i.strip() for i in fp.readlines()]"
   ]
  },
  {
   "cell_type": "code",
   "execution_count": 5,
   "metadata": {
    "collapsed": true
   },
   "outputs": [],
   "source": [
    "SPELL = '1'\n",
    "EDITOR = '2'\n",
    "\n",
    "SPELL_TAG = 'S'\n",
    "EDITOR_TAG = 'E'"
   ]
  },
  {
   "cell_type": "code",
   "execution_count": 16,
   "metadata": {
    "collapsed": false
   },
   "outputs": [
    {
     "data": {
      "text/plain": [
       "1"
      ]
     },
     "execution_count": 16,
     "metadata": {},
     "output_type": "execute_result"
    }
   ],
   "source": [
    "if os.path.exists(outputname):\n",
    "    with open(outputname, 'r', encoding='utf8') as fp:\n",
    "        end_idx = len(fp.readlines())-1\n",
    "else:\n",
    "    end_idx = -1\n",
    "print('Start from {}'.format(end_idx))"
   ]
  },
  {
   "cell_type": "code",
   "execution_count": 17,
   "metadata": {
    "collapsed": false
   },
   "outputs": [
    {
     "name": "stdout",
     "output_type": "stream",
     "text": [
      "1 == spelling error\n",
      "2 == editor error\n",
      "1 0\n",
      "1 1\n",
      "1 2\n",
      "2看過(多)人生的悲歡離合，\t3\n",
      "2看過(多)人生的悲歡離合，\t2\n"
     ]
    }
   ],
   "source": [
    "a = 0\n",
    "print('{} == spelling error'.format(SPELL))\n",
    "print('{} == editor error'.format(EDITOR))\n",
    "for idx, s in enumerate(seqs):    \n",
    "    if idx <= end_idx:\n",
    "        continue\n",
    "    \n",
    "    while a!=SPELL and a!=EDITOR:    \n",
    "        a = input('{}{}\\t'.format(idx, s))\n",
    "    \n",
    "    if a == SPELL:\n",
    "        sp = '{}{}\\n'.format(SPELL_TAG, s)\n",
    "        \n",
    "    elif a == EDITOR:\n",
    "        sp = '{}{}\\n'.format(EDITOR_TAG, s)\n",
    "        \n",
    "    with open(outputname, 'a', encoding='utf8') as wp:\n",
    "        wp.write(sp)\n",
    "    \n",
    "    a = 0\n",
    "        \n",
    "    \n",
    "    \n",
    "    "
   ]
  }
 ],
 "metadata": {
  "kernelspec": {
   "display_name": "Python 3",
   "language": "python",
   "name": "python3"
  },
  "language_info": {
   "codemirror_mode": {
    "name": "ipython",
    "version": 3
   },
   "file_extension": ".py",
   "mimetype": "text/x-python",
   "name": "python",
   "nbconvert_exporter": "python",
   "pygments_lexer": "ipython3",
   "version": "3.6.0"
  }
 },
 "nbformat": 4,
 "nbformat_minor": 2
}
