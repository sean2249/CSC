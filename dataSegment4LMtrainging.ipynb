{
 "cells": [
  {
   "cell_type": "code",
   "execution_count": 3,
   "metadata": {
    "collapsed": false
   },
   "outputs": [],
   "source": [
    "import os\n",
    "import re \n",
    "import jieba\n",
    "from bs4 import BeautifulSoup"
   ]
  },
  {
   "cell_type": "code",
   "execution_count": 4,
   "metadata": {
    "collapsed": false
   },
   "outputs": [],
   "source": [
    "def runCharSegment(dataroot, outputfile):\n",
    "    if os.path.exists(outputfile):\n",
    "        print('Clean %s' %(outputfile))\n",
    "        os.remove(outputfile)\n",
    "    \n",
    "    pattern = re.compile('TEXT')\n",
    "    for dirPath, dirName, filelist in os.walk(dataroot, topdown=False):\n",
    "        if pattern.search(dirPath):        \n",
    "            print(dirPath)\n",
    "            for file in filelist:\n",
    "                inputfile = dirPath+'/'+file\n",
    "    #             print(inputfile)\n",
    "                with open(inputfile, 'rb') as fp:\n",
    "                    data = fp.read().decode('big5-hkscs', 'ignore')\n",
    "                    soup = BeautifulSoup(data)\n",
    "                content = contentExtract(soup)\n",
    "                seperateSeq = seperate(content)\n",
    "\n",
    "                with open(outputfile, 'a', encoding='utf8') as wp:\n",
    "                    wp.write(seperateSeq+'\\n')"
   ]
  },
  {
   "cell_type": "code",
   "execution_count": 56,
   "metadata": {
    "collapsed": true
   },
   "outputs": [],
   "source": [
    "def runWordSegment(dataroot, outputfile):\n",
    "    # Turn all the number into 0 for better nubmer count\n",
    "    \n",
    "    if os.path.exists(outputfile):\n",
    "        print('Clean %s' %(outputfile))\n",
    "        os.remove(outputfile)\n",
    "    \n",
    "    pattern = re.compile('TEXT')\n",
    "    for dirPath, dirName, filelist in os.walk(dataroot, topdown=False):\n",
    "        if pattern.search(dirPath):\n",
    "            print(dirPath)\n",
    "            for file in filelist:\n",
    "                inputfile = dirPath+'/'+file\n",
    "                with open(inputfile, 'rb') as fp:\n",
    "                    data = fp.read().decode('big5-hkscs', 'ignore')\n",
    "                    soup = BeautifulSoup(data)\n",
    "                content = contentExtract(soup)\n",
    "                seg = wordSegment(content)\n",
    "                \n",
    "                with open(outputfile, 'a', encoding='utf8') as wp:\n",
    "                    wp.write(seg+'\\n')"
   ]
  },
  {
   "cell_type": "code",
   "execution_count": 11,
   "metadata": {
    "collapsed": true
   },
   "outputs": [],
   "source": [
    "def seperateSeq(seq):\n",
    "    pattern = re.compile('[，。！？]')\n",
    "    \n",
    "    pre_idx=0\n",
    "    output = []\n",
    "    for idx, ch in enumerate(seq):\n",
    "        if pattern.search(ch):\n",
    "            tmp = seq[pre_idx:idx+1]\n",
    "            output.append(tmp)\n",
    "            pre_idx = idx+1\n",
    "    \n",
    "#     print(pre_idx, len(seq))\n",
    "    if pre_idx<len(seq):\n",
    "        tmp = seq[pre_idx:len(seq)]\n",
    "        output.append(tmp)\n",
    "        \n",
    "    return output "
   ]
  },
  {
   "cell_type": "code",
   "execution_count": 54,
   "metadata": {
    "collapsed": true
   },
   "outputs": [],
   "source": [
    "def wordSegment(content):\n",
    "    segs = list(jieba.cut(content))\n",
    "    \n",
    "    for idx, seg in enumerate(segs):\n",
    "        if re.search('[0-9]', seg):\n",
    "            segs[idx] = '0'\n",
    "    \n",
    "    return ' '.join(segs)"
   ]
  },
  {
   "cell_type": "code",
   "execution_count": 7,
   "metadata": {
    "collapsed": true
   },
   "outputs": [],
   "source": [
    "def extractStrOnly(element):\n",
    "    \n",
    "    flag = element.name\n",
    "    output = ''    \n",
    "    res = []\n",
    "    if flag!=None:\n",
    "        for item in element.contents:\n",
    "            output += extractStrOnly(item)\n",
    "    else:\n",
    "        return element.string\n",
    "    \n",
    "    return output"
   ]
  },
  {
   "cell_type": "code",
   "execution_count": 8,
   "metadata": {
    "collapsed": true
   },
   "outputs": [],
   "source": [
    "def contentExtract(soup):\n",
    "    output = ''\n",
    "    for pTxt in soup.find_all('p'):\n",
    "        res = ''\n",
    "        for tag_c in pTxt.contents:\n",
    "            try:\n",
    "                if tag_c.get('class')==1:\n",
    "                    res = res+tag_c.string\n",
    "            except:\n",
    "                res = res + tag_c\n",
    "        res = res.strip('.\\f\\n\\r\\t\\v')\n",
    "        if len(res)==0:\n",
    "            continue\n",
    "        output = output + res+'\\n'\n",
    "#         print(output)\n",
    "    return output"
   ]
  },
  {
   "cell_type": "code",
   "execution_count": 9,
   "metadata": {
    "collapsed": false
   },
   "outputs": [],
   "source": [
    "def seperate(content):\n",
    "    seqs = content.split('\\n')\n",
    "    output = []\n",
    "    pattern = re.compile('[A-Za-z0-9.\\s]')\n",
    "    for seq in seqs:\n",
    "        if len(seq)==0:\n",
    "            continue\n",
    "        \n",
    "        tmpSeq = seq[0]\n",
    "        preflag = 0\n",
    "        for ch in seq[1:]:\n",
    "            if pattern.search(ch):\n",
    "                continue\n",
    "#                 if preflag ==0:\n",
    "#                     tmpSeq = tmpSeq+' '\n",
    "#                     preflag = 1\n",
    "#                 tmpSeq = tmpSeq+ch\n",
    "                \n",
    "            else:                \n",
    "                preflag=0\n",
    "                tmpSeq = tmpSeq + ' '+ ch\n",
    "        output.append(tmpSeq)\n",
    "        \n",
    "    return '\\n'.join(output)"
   ]
  },
  {
   "cell_type": "code",
   "execution_count": 21,
   "metadata": {
    "collapsed": false
   },
   "outputs": [],
   "source": [
    "def runSinica(inputfile, outputfile):\n",
    "    with open(inputfile, 'r', encoding='utf8') as fp,\\\n",
    "    open(outputfile, 'w', encoding='utf8') as wp:\n",
    "        for line in fp:\n",
    "            data = line.strip('\\n').split(' ')\n",
    "            output = []\n",
    "            for item in data:\n",
    "                tmp = item.split('|')\n",
    "                if len(tmp)==2:\n",
    "                    output.append(tmp[0])\n",
    "\n",
    "            wp.write(' '.join(output))\n",
    "            wp.write('\\n')\n",
    "    #         print(' '.join(output))\n",
    "        "
   ]
  },
  {
   "cell_type": "code",
   "execution_count": 22,
   "metadata": {
    "collapsed": true
   },
   "outputs": [],
   "source": [
    "if __name__=='__main__':\n",
    "#     dataroot = '/home/kiwi/Documents/udn_data/Files/'\n",
    "#     dataroot = 'G:/UDN/Files/'\n",
    "#     outputfile = 'all_content.txt'\n",
    "#     runCharSegment(dataroot,outputfile)\n",
    "#     runWordSegment(dataroot,'./lm_data/seg_all.txt')\n",
    "    inputfile = '/home/kiwi/udn_data/training/sinica.corpus.txt'\n",
    "    runSinica(inputfile,'./lm_data/sinica_word.txt')"
   ]
  },
  {
   "cell_type": "code",
   "execution_count": null,
   "metadata": {
    "collapsed": true
   },
   "outputs": [],
   "source": []
  }
 ],
 "metadata": {
  "kernelspec": {
   "display_name": "Python 3",
   "language": "python",
   "name": "python3"
  },
  "language_info": {
   "codemirror_mode": {
    "name": "ipython",
    "version": 3
   },
   "file_extension": ".py",
   "mimetype": "text/x-python",
   "name": "python",
   "nbconvert_exporter": "python",
   "pygments_lexer": "ipython3",
   "version": "3.6.0"
  }
 },
 "nbformat": 4,
 "nbformat_minor": 2
}
