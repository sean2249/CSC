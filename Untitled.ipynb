{
 "cells": [
  {
   "cell_type": "code",
   "execution_count": 2,
   "metadata": {
    "collapsed": true
   },
   "outputs": [],
   "source": [
    "import os\n",
    "import pickle\n",
    "from collections import defaultdict"
   ]
  },
  {
   "cell_type": "markdown",
   "metadata": {},
   "source": [
    "### confusion Check"
   ]
  },
  {
   "cell_type": "code",
   "execution_count": 11,
   "metadata": {
    "collapsed": true
   },
   "outputs": [],
   "source": [
    "filename = './confusionTable/0601/confu_9999995_8_50.pkl'"
   ]
  },
  {
   "cell_type": "code",
   "execution_count": 14,
   "metadata": {
    "collapsed": true
   },
   "outputs": [],
   "source": [
    "filename = './confusionTable/0627_select/confu_preFnbF_preFnbF_1000_5_0225_9995.pkl'"
   ]
  },
  {
   "cell_type": "code",
   "execution_count": 15,
   "metadata": {
    "collapsed": true
   },
   "outputs": [],
   "source": [
    "bigDict = pickle.load(open(filename, 'rb'))"
   ]
  },
  {
   "cell_type": "code",
   "execution_count": 18,
   "metadata": {},
   "outputs": [
    {
     "data": {
      "text/plain": [
       "dict_keys(['進', '今', '小', '四', '斤', '六', '共', '經', '更', '近', '青', '精', '欽', '筋', '盡', '僅', '儘', '錦', '禁', '緊', '勁', '晶', '請', '津', '京', '驚', '新', '巾', '襟', '矜', '浸', '晉', '將', '心', '謹', '相', '菁', '興', '睛', '軍', '觔', '星', '莖', '瑾', '清', '荊', '香', '江', '境', '欣', '金'])"
      ]
     },
     "execution_count": 18,
     "metadata": {},
     "output_type": "execute_result"
    }
   ],
   "source": [
    "bigDict['金'].keys()"
   ]
  },
  {
   "cell_type": "markdown",
   "metadata": {},
   "source": [
    "### Sequence count"
   ]
  },
  {
   "cell_type": "code",
   "execution_count": 1,
   "metadata": {
    "collapsed": true
   },
   "outputs": [],
   "source": [
    "filename = './extractUDN/all_input.txt'"
   ]
  },
  {
   "cell_type": "code",
   "execution_count": 5,
   "metadata": {
    "collapsed": true
   },
   "outputs": [],
   "source": [
    "total = 0\n",
    "with open(filename, 'r', encoding='utf8') as fp:\n",
    "    for idx, line in enumerate(fp):\n",
    "        seq = ','.join(line.strip().split(', ')[1:])\n",
    "        total += len(seq)\n",
    "#     print(fp.readline().strip())\n",
    "#     for line in fp:\n",
    "#         total += len(line.strip())"
   ]
  },
  {
   "cell_type": "code",
   "execution_count": 6,
   "metadata": {},
   "outputs": [
    {
     "data": {
      "text/plain": [
       "1053481"
      ]
     },
     "execution_count": 6,
     "metadata": {},
     "output_type": "execute_result"
    }
   ],
   "source": [
    "total"
   ]
  },
  {
   "cell_type": "code",
   "execution_count": 7,
   "metadata": {},
   "outputs": [
    {
     "data": {
      "text/plain": [
       "54624"
      ]
     },
     "execution_count": 7,
     "metadata": {},
     "output_type": "execute_result"
    }
   ],
   "source": [
    "idx"
   ]
  },
  {
   "cell_type": "code",
   "execution_count": 8,
   "metadata": {
    "collapsed": true
   },
   "outputs": [],
   "source": [
    "filename = './extractUDN/all_groundtruth.txt'"
   ]
  },
  {
   "cell_type": "code",
   "execution_count": 10,
   "metadata": {
    "collapsed": true
   },
   "outputs": [],
   "source": [
    "total = 0\n",
    "with open(filename, 'r', encoding='utf8') as fp:\n",
    "    for line in fp:\n",
    "        lst = line.strip().split()[1:]\n",
    "        total += len(lst)/2\n",
    "#     print(fp.readline().strip())"
   ]
  },
  {
   "cell_type": "code",
   "execution_count": 11,
   "metadata": {},
   "outputs": [
    {
     "data": {
      "text/plain": [
       "58540.5"
      ]
     },
     "execution_count": 11,
     "metadata": {},
     "output_type": "execute_result"
    }
   ],
   "source": [
    "total"
   ]
  },
  {
   "cell_type": "code",
   "execution_count": null,
   "metadata": {
    "collapsed": true
   },
   "outputs": [],
   "source": []
  },
  {
   "cell_type": "code",
   "execution_count": null,
   "metadata": {
    "collapsed": true
   },
   "outputs": [],
   "source": []
  },
  {
   "cell_type": "code",
   "execution_count": null,
   "metadata": {
    "collapsed": true
   },
   "outputs": [],
   "source": []
  },
  {
   "cell_type": "code",
   "execution_count": null,
   "metadata": {
    "collapsed": true
   },
   "outputs": [],
   "source": []
  },
  {
   "cell_type": "code",
   "execution_count": null,
   "metadata": {
    "collapsed": true
   },
   "outputs": [],
   "source": []
  },
  {
   "cell_type": "code",
   "execution_count": 2,
   "metadata": {
    "collapsed": true
   },
   "outputs": [],
   "source": [
    "data_root = './confusionTable/basicExtact/'"
   ]
  },
  {
   "cell_type": "code",
   "execution_count": 6,
   "metadata": {
    "collapsed": true
   },
   "outputs": [],
   "source": [
    "os.path.splitext"
   ]
  },
  {
   "cell_type": "code",
   "execution_count": null,
   "metadata": {
    "collapsed": true
   },
   "outputs": [],
   "source": [
    "os.w"
   ]
  },
  {
   "cell_type": "code",
   "execution_count": 16,
   "metadata": {
    "collapsed": true
   },
   "outputs": [],
   "source": [
    "filelist = {file:os.path.join(data_root,file) \n",
    "            for _,_,files in os.walk(data_root) \n",
    "                for file in files \n",
    "                    if os.path.splitext(file)[1] == '.pkl'}"
   ]
  },
  {
   "cell_type": "code",
   "execution_count": 18,
   "metadata": {},
   "outputs": [
    {
     "data": {
      "text/plain": [
       "'./confusionTable/basicExtact/in_1.pkl'"
      ]
     },
     "execution_count": 18,
     "metadata": {},
     "output_type": "execute_result"
    }
   ],
   "source": [
    "filelist['in_1.pkl']"
   ]
  },
  {
   "cell_type": "code",
   "execution_count": 20,
   "metadata": {
    "collapsed": true
   },
   "outputs": [],
   "source": [
    "bigDict = pickle.load(open(filelist['in_1.pkl'], 'rb'))"
   ]
  },
  {
   "cell_type": "code",
   "execution_count": 24,
   "metadata": {
    "collapsed": true
   },
   "outputs": [],
   "source": [
    "NCM_CORRSETTING = [0.9995, 0.99995, 0.999995, 0.9999995]"
   ]
  },
  {
   "cell_type": "code",
   "execution_count": 28,
   "metadata": {
    "collapsed": true
   },
   "outputs": [],
   "source": [
    "NCM_WRONGSETTING = [1-i for i in NCM_CORRSETTING]"
   ]
  },
  {
   "cell_type": "code",
   "execution_count": 57,
   "metadata": {},
   "outputs": [
    {
     "name": "stdout",
     "output_type": "stream",
     "text": [
      "all.pkl\n",
      "in_1.pkl\n",
      "in_2.pkl\n",
      "in_3.pkl\n",
      "in_4.pkl\n",
      "in_5.pkl\n",
      "in_6.pkl\n"
     ]
    }
   ],
   "source": [
    "for file, path in filelist.items():\n",
    "    print(file)    \n",
    "    token = os.path.splitext(file)[0]\n",
    "    \n",
    "    output2PKL(path, token)"
   ]
  },
  {
   "cell_type": "code",
   "execution_count": 51,
   "metadata": {},
   "outputs": [
    {
     "data": {
      "text/plain": [
       "'./confusionTable/basicExtact/all.pkl'"
      ]
     },
     "execution_count": 51,
     "metadata": {},
     "output_type": "execute_result"
    }
   ],
   "source": [
    "path"
   ]
  },
  {
   "cell_type": "code",
   "execution_count": 53,
   "metadata": {
    "collapsed": true
   },
   "outputs": [],
   "source": [
    "t= output2PKL(path,'asdfasdf')"
   ]
  },
  {
   "cell_type": "code",
   "execution_count": 56,
   "metadata": {
    "collapsed": true
   },
   "outputs": [],
   "source": [
    "def output2PKL(path, token):\n",
    "    outputfile = './confusionTable/basicExtact/confu_{}.pkl'.format\n",
    "    \n",
    "    \n",
    "    bigDict = pickle.load(open(path, 'rb'))\n",
    "    NCM_CORRSETTINGs = [0.9995, 0.99995, 0.999995, 0.9999995]\n",
    "    NCM_WRONGSETTINGs = [1-i for i in NCM_CORRSETTINGs]\n",
    "\n",
    "    for NCM_CORRSETTING, NCM_WRONGSETTING in zip(NCM_CORRSETTINGs,NCM_WRONGSETTINGs):\n",
    "    # NCM_CORRSETTING = NCM_CORRSETTINGs[0]\n",
    "    # NCM_WRONGSETTING = NCM_WRONGSETTINGs[0]\n",
    "\n",
    "        output = defaultdict(dict)\n",
    "        for ch, cands in bigDict.items():\n",
    "            output[ch] = {ca:NCM_WRONGSETTING for ca in cands}\n",
    "            output[ch][ch] = NCM_CORRSETTING\n",
    "        \n",
    "                    \n",
    "        pickle.dump(file=open(outputfile(token, str(NCM_CORRSETTING)[2:]), 'wb'), obj=output)"
   ]
  }
 ],
 "metadata": {
  "kernelspec": {
   "display_name": "Python 3",
   "language": "python",
   "name": "python3"
  },
  "language_info": {
   "codemirror_mode": {
    "name": "ipython",
    "version": 3
   },
   "file_extension": ".py",
   "mimetype": "text/x-python",
   "name": "python",
   "nbconvert_exporter": "python",
   "pygments_lexer": "ipython3",
   "version": "3.6.1"
  }
 },
 "nbformat": 4,
 "nbformat_minor": 2
}
