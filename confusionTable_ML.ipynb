{
 "cells": [
  {
   "cell_type": "code",
   "execution_count": 1,
   "metadata": {
    "collapsed": true
   },
   "outputs": [],
   "source": [
    "# import confusionTable_extractFeature as CTF"
   ]
  },
  {
   "cell_type": "code",
   "execution_count": 2,
   "metadata": {
    "collapsed": true
   },
   "outputs": [],
   "source": [
    "import math"
   ]
  },
  {
   "cell_type": "code",
   "execution_count": 3,
   "metadata": {
    "collapsed": true
   },
   "outputs": [],
   "source": [
    "import sys\n",
    "import os\n",
    "import argparse"
   ]
  },
  {
   "cell_type": "code",
   "execution_count": 4,
   "metadata": {
    "collapsed": true
   },
   "outputs": [],
   "source": [
    "from multiprocessing import Pool"
   ]
  },
  {
   "cell_type": "code",
   "execution_count": 5,
   "metadata": {
    "collapsed": true
   },
   "outputs": [],
   "source": [
    "import pickle\n",
    "import numpy as np\n",
    "from sklearn import svm"
   ]
  },
  {
   "cell_type": "code",
   "execution_count": 6,
   "metadata": {
    "collapsed": true
   },
   "outputs": [],
   "source": [
    "from sklearn.preprocessing import Normalizer, StandardScaler"
   ]
  },
  {
   "cell_type": "code",
   "execution_count": 7,
   "metadata": {
    "collapsed": true
   },
   "outputs": [],
   "source": [
    "from sklearn.naive_bayes import GaussianNB"
   ]
  },
  {
   "cell_type": "code",
   "execution_count": 8,
   "metadata": {
    "collapsed": true
   },
   "outputs": [],
   "source": [
    "from collections import defaultdict\n",
    "import matplotlib.pyplot as plt"
   ]
  },
  {
   "cell_type": "code",
   "execution_count": 9,
   "metadata": {
    "collapsed": true
   },
   "outputs": [],
   "source": [
    "with open('./ch_5401.txt', 'r', encoding='utf8') as fp:                    \n",
    "    CH5400 = set(i.strip() for i in fp.readlines())"
   ]
  },
  {
   "cell_type": "code",
   "execution_count": 10,
   "metadata": {
    "collapsed": true
   },
   "outputs": [],
   "source": [
    "POS = 1\n",
    "NEG = -1\n",
    "UNK = 2"
   ]
  },
  {
   "cell_type": "code",
   "execution_count": 11,
   "metadata": {
    "collapsed": true
   },
   "outputs": [],
   "source": [
    "PROCESSCNT = 6\n",
    "MULTIPROCESS = True\n",
    "PRE = False\n",
    "NB = False"
   ]
  },
  {
   "cell_type": "code",
   "execution_count": 12,
   "metadata": {
    "collapsed": true
   },
   "outputs": [],
   "source": [
    "def fCombine(score, log):\n",
    "    '''The method of extract feature \n",
    "    Args:\n",
    "        score(float): total score of feature \n",
    "        log(list): feature \n",
    "    Return:\n",
    "        tmp(list): selected feature \n",
    "    '''\n",
    "    # 0.89/0.86    \n",
    "#     tmp = log[:-2]\n",
    "#     tmp.append(score-log[-3]*9-log[-2])\n",
    "    \n",
    "    \n",
    "    # 0.90/0.89\n",
    "#     tmp = log[:-2]\n",
    "\n",
    "    # 0.90/0.89\n",
    "#     tmp = log[:-2]\n",
    "\n",
    "    # 0.99/0.99\n",
    "#     tmp = log[:-2]\n",
    "#     tmp.append(score)\n",
    "\n",
    "    # 0.89/0.86\n",
    "#     tmp = log[:-2]\n",
    "#     s = sum(log[:-2])\n",
    "#     tmp.append(s)\n",
    "\n",
    "    # 0.99/0.99\n",
    "    tmp = log[:-2]\n",
    "    s = score - log[-3]*9\n",
    "    tmp.append(s)\n",
    "    \n",
    "    \n",
    "    return tmp"
   ]
  },
  {
   "cell_type": "code",
   "execution_count": 13,
   "metadata": {
    "collapsed": true
   },
   "outputs": [],
   "source": [
    "def extract(dataset):\n",
    "    '''Extract (feature/label) from filename\n",
    "    Args:\n",
    "        bigDict (nested dict): the dict of feature (*.pkl) from confusionTable_extractFeature\n",
    "    Return:\n",
    "        train_feature (np.array): feature array\n",
    "        train_label (np.array): the label of feature             \n",
    "    '''    \n",
    "    \n",
    "    # Initial \n",
    "    label = list()\n",
    "    feature = list()\n",
    "\n",
    "    for error_ch, (cands_val) in dataset.items():           \n",
    "        if error_ch not in CH5400:\n",
    "            # If confusion matrix have, choose \n",
    "            # else choose the highest score            \n",
    "            in_pairs = {cand:(score, log) for cand, (score, log) in cands_val.items() if log[-2]!=0}\n",
    "            if not in_pairs:\n",
    "                try:\n",
    "                    best_cand = max(cands_val.items(), key=lambda x:x[1][0])                \n",
    "                except:\n",
    "                    print(cands_val)\n",
    "                    return \n",
    "                dataset[error_ch] = {best_cand[0]:best_cand[1]}\n",
    "            else:\n",
    "                dataset[error_ch] = in_pairs\n",
    "            continue        \n",
    "        \n",
    "        # two situation for error: (error-pair) or (higher-score)\n",
    "        # Skip the candidates which is not in COMMON-5000\n",
    "        for cand, (score, log) in cands_val.items():  \n",
    "            if cand not in CH5400:\n",
    "                continue\n",
    "                                    \n",
    "            feature.append(fCombine(score,log))\n",
    "            if log[-2] != 0:\n",
    "                label.append(POS)\n",
    "            else:\n",
    "                label.append(UNK)\n",
    "    \n",
    "    # Combine\n",
    "    train_feature = np.asarray(feature, dtype='float')            \n",
    "    tmp_label = np.asarray(label, dtype='int')\n",
    "    pos = np.where(tmp_label == POS )[0]\n",
    "    neg = np.where(tmp_label == UNK )[0]\n",
    "    train_label = {POS:pos, UNK:neg}        \n",
    "\n",
    "    print('The number of sample = {}'.format(train_feature.shape))\n",
    "    print('Positive case (candidate) = {}'.format(len(train_label[POS])))\n",
    "    print('Negative case (uncandidate) = {}'.format(len(train_label[UNK])))\n",
    "    \n",
    "    return (train_feature, train_label)"
   ]
  },
  {
   "cell_type": "code",
   "execution_count": 14,
   "metadata": {
    "collapsed": true
   },
   "outputs": [],
   "source": [
    "def preprocess(data, method):\n",
    "    '''Preprocessing of feature    \n",
    "    Args:\n",
    "        data (np.array): feature \n",
    "        method (str): 'normal'-normalization // 'standard'-standardization\n",
    "        (Normal is better)\n",
    "    Return:\n",
    "        new_data (np.array): after preprocessing \n",
    "        pre (scikit.preprocess): transform model for feature     \n",
    "    '''\n",
    "    if PRE:    \n",
    "        if method == 'normal':\n",
    "            pre = Normalizer().fit(data)\n",
    "            new_data = pre.transform(data)\n",
    "        elif method == 'standard':\n",
    "            pre = Normalizer().fit(data)\n",
    "            new_data = pre.transform(data)\n",
    "        else:\n",
    "            print('Unknown method')\n",
    "            sys.exit(0)\n",
    "        \n",
    "        return (new_data, pre)\n",
    "    else:\n",
    "        return (data, [])"
   ]
  },
  {
   "cell_type": "code",
   "execution_count": 15,
   "metadata": {
    "collapsed": true
   },
   "outputs": [],
   "source": [
    "def rnBatch(para):\n",
    "    (idx, feature, nbf) = para\n",
    "    \n",
    "    if nbf.predict(feature.reshape(1,-1)) == UNK:\n",
    "        return idx\n",
    "    else:\n",
    "        return -1"
   ]
  },
  {
   "cell_type": "code",
   "execution_count": 16,
   "metadata": {
    "collapsed": true
   },
   "outputs": [],
   "source": [
    "def rnSelect(feature, label):\n",
    "    \n",
    "    if NB:\n",
    "        \n",
    "        nbf_idx = np.concatenate((label[POS],label[UNK]))\n",
    "        nbf_label = np.concatenate(\n",
    "            (np.full(len(label[POS]), POS, dtype=int)\n",
    "             , np.full(len(label[UNK]), UNK, dtype=int)))\n",
    "        nbf_feature = feature[nbf_idx]\n",
    "        nbf = GaussianNB().fit(nbf_feature, nbf_label)\n",
    "\n",
    "        print('Prepare chunk')\n",
    "        chunk = [(idx, feature[idx], nbf) for idx in label[UNK]]\n",
    "\n",
    "        print('Start RN step select')    \n",
    "        if MULTIPROCESS:\n",
    "            with Pool(processes=PROCESSCNT) as pool:\n",
    "                rn_neg = pool.map(rnBatch, chunk)\n",
    "        else:\n",
    "            rn_neg = [rnBatch(c) for c in chunk]\n",
    "\n",
    "\n",
    "        label[NEG] = np.where(np.asarray(rn_neg) != -1)[0]\n",
    "\n",
    "\n",
    "        print('Label[POS]: {}'.format(len(label[POS])))\n",
    "        print('Label[NEG]: {}'.format(len(label[NEG])))\n",
    "        print('Remove Unknown {} samples'.format(len(label[UNK])-len(label[NEG])))\n",
    "    \n",
    "    else:\n",
    "        label[NEG] = label[UNK]\n",
    "    \n",
    "    return label"
   ]
  },
  {
   "cell_type": "code",
   "execution_count": 104,
   "metadata": {
    "collapsed": true
   },
   "outputs": [],
   "source": [
    "def train_svm(feature, label, train_cnt, cost= 0, g=1/11, test_cnt=0, cross_validation=False):\n",
    "    '''Train SVM model from feature\n",
    "    Args:\n",
    "        feature (np.array): feature array\n",
    "        label (np.array): the label of feature \n",
    "        train_cnt (int): the number of training samples \n",
    "        test_cnt (int): (default=samples-train_cnt) the number of testing samples\n",
    "    Return:\n",
    "        xxx    \n",
    "    '''\n",
    "    \n",
    "    assert train_cnt < len(label[POS]), 'Train count must less than positive samples'\n",
    "    \n",
    "    # If test_cnt not declare, use all the remain set as test set    \n",
    "    if train_cnt==0:\n",
    "        assert False, 'sample count cannot be zero'\n",
    "        \n",
    "    if test_cnt==0:\n",
    "        test_cnt = len(label[POS]) - train_cnt\n",
    "        \n",
    "    # Picke feature/label to train & test set    \n",
    "    np.random.shuffle(label[POS])\n",
    "    np.random.shuffle(label[NEG])\n",
    "\n",
    "    train_idx = np.concatenate(\n",
    "        (label[POS][:train_cnt],\n",
    "         label[NEG][:train_cnt]))\n",
    "    train_label = np.concatenate(\n",
    "        (np.full(train_cnt, POS, dtype=int), np.full(train_cnt, NEG, dtype=int)))\n",
    "    train_feature = feature[train_idx]\n",
    "\n",
    "    test_idx = np.concatenate(\n",
    "        (label[POS][train_cnt:train_cnt+test_cnt], \n",
    "         label[NEG][train_cnt:train_cnt+test_cnt]))\n",
    "    test_label = np.concatenate(\n",
    "        (np.full(test_cnt, POS, dtype=int), np.full(test_cnt, NEG, dtype=int)))\n",
    "    test_feature = feature[test_idx]\n",
    "\n",
    "    # Training \n",
    "    clf = svm.SVC(kernel='rbf',C=cost,gamma=g, probability=True)\n",
    "    clf.fit(train_feature,train_label)\n",
    "    \n",
    "    # Testing \n",
    "    accuracy = clf.score(test_feature, test_label)\n",
    "    pos_acc = clf.score(test_feature[:test_cnt], test_label[:test_cnt])\n",
    "    print('Accuracy ({}/{}): {}'.format(test_cnt, len(test_label), accuracy))\n",
    "    print('Positive Accuracy ({}): {}'.format(test_cnt, pos_acc))\n",
    "    \n",
    "    \n",
    "    test_idx = np.concatenate(\n",
    "        (label[POS][train_cnt:], \n",
    "         label[NEG][train_cnt:]))\n",
    "    test_label = np.concatenate(\n",
    "        (np.full(len(label[POS][train_cnt:]), POS, dtype=int),\n",
    "         np.full(len(label[NEG][train_cnt:]), NEG, dtype=int)))\n",
    "    test_feature = feature[test_idx]\n",
    "    \n",
    "    \n",
    "    vali_pred = clf.predict(train_feature)\n",
    "    test_pred = clf.predict(test_feature)\n",
    "    vali_matrix = [vali_pred, train_label]\n",
    "    test_matrix = [test_pred, test_label]\n",
    "    \n",
    "    \n",
    "    \n",
    "#     output = [accuracy, train_cnt, test_cnt*2]\n",
    "#     return output\n",
    "    return clf, vali_matrix, test_matrix"
   ]
  },
  {
   "cell_type": "code",
   "execution_count": 18,
   "metadata": {
    "collapsed": true
   },
   "outputs": [],
   "source": [
    "def create_batch(chunk):\n",
    "    global clf\n",
    "    global pre_filter\n",
    "    global threshold\n",
    "    \n",
    "    (ch, cands) = chunk  \n",
    "    \n",
    "    f_batch = []\n",
    "    for ca, (score,log) in cands.items(): \n",
    "        if ca not in CH5400:\n",
    "            continue        \n",
    "        \n",
    "        if False:\n",
    "#         if log[-2] != 0:\n",
    "            f_batch.append((ca, 1))   \n",
    "        else:\n",
    "            cand_feature = fCombine(score,log)\n",
    "            if PRE:                \n",
    "                tmp = pre_filter.transform(np.asarray(cand_feature).reshape(1,-1))\n",
    "            else:\n",
    "                tmp = np.asarray(cand_feature).reshape(1,-1)\n",
    "            \n",
    "            f = clf.predict_proba(tmp).tolist()[0]            \n",
    "                               \n",
    "            if f[1] > f[0] and f[1] > threshold[0]:\n",
    "                f_batch.append((ca, f[1]))\n",
    "#             elif log[-2] != 0:\n",
    "#                 print(ch, ca)\n",
    "\n",
    "    if len(f_batch) > 0:\n",
    "        f_sorted = sorted(f_batch, key=lambda x:x[1], reverse=True)[:threshold[1]]\n",
    "        f_dict = {ca:s for ca, s in f_sorted}\n",
    "\n",
    "        return (ch, f_dict)\n",
    "    else:\n",
    "        return []\n"
   ]
  },
  {
   "cell_type": "code",
   "execution_count": 18,
   "metadata": {
    "collapsed": true
   },
   "outputs": [],
   "source": [
    "def create_batch(chunk):\n",
    "    global clf\n",
    "    global pre_filter\n",
    "    global threshold\n",
    "    \n",
    "    (ch, cands) = chunk  \n",
    "    \n",
    "    f_batch = []\n",
    "    for ca, (score,log) in cands.items(): \n",
    "        if ca not in CH5400:\n",
    "            continue        \n",
    "        \n",
    "        if False:\n",
    "#         if log[-2] != 0:\n",
    "            f_batch.append((ca, 1))   \n",
    "        else:\n",
    "            cand_feature = fCombine(score,log)\n",
    "            if PRE:                \n",
    "                tmp = pre_filter.transform(np.asarray(cand_feature).reshape(1,-1))\n",
    "            else:\n",
    "                tmp = np.asarray(cand_feature).reshape(1,-1)\n",
    "            \n",
    "            f = clf.predict_proba(tmp).tolist()[0]            \n",
    "                               \n",
    "            if f[1] > f[0] and f[1] > threshold[0]:\n",
    "                f_batch.append((ca, f[1]))\n",
    "#             elif log[-2] != 0:\n",
    "#                 print(ch, ca)\n",
    "\n",
    "    if len(f_batch) > 0:\n",
    "        f_sorted = sorted(f_batch, key=lambda x:x[1], reverse=True)[:threshold[1]]\n",
    "        f_dict = {ca:s for ca, s in f_sorted}\n",
    "\n",
    "        return (ch, f_dict)\n",
    "    else:\n",
    "        return []\n"
   ]
  },
  {
   "cell_type": "code",
   "execution_count": 19,
   "metadata": {
    "collapsed": true
   },
   "outputs": [],
   "source": [
    "def create(bigDict):    \n",
    "    '''Select the candidates in bigDict\n",
    "    \n",
    "    '''    \n",
    "    confusion = dict()\n",
    "    c_t, c_tf, sk = 0,0,0\n",
    "    \n",
    "    tt = list(bigDict.items())\n",
    "    \n",
    "    if MULTIPROCESS:\n",
    "        with Pool(processes=PROCESSCNT) as pool:\n",
    "            r = pool.map(create_batch, tt)\n",
    "        confusion = {c[0]:c[1] for c in r if len(c)>0}\n",
    "    else:\n",
    "        for chunk in tt:\n",
    "            batch = create_batch(chunk)\n",
    "            if len(batch)>0:\n",
    "                confusion[batch[0]] = batch[1] \n",
    "            \n",
    "    return confusion"
   ]
  },
  {
   "cell_type": "code",
   "execution_count": 20,
   "metadata": {
    "collapsed": true
   },
   "outputs": [],
   "source": [
    "def info(confusion, fig_token):\n",
    "    '''Get basic information about NCM \n",
    "    \n",
    "    '''\n",
    "    total_error = len(confusion)\n",
    "    cands = [(ch, len(cand)) for (ch, cand) in \n",
    "        sorted(confusion.items(), key= lambda x:len(x[1]), reverse=True)]\n",
    "\n",
    "    sum_cands = sum(cnt for _, cnt in cands)\n",
    "    max_cands = max(cnt for _, cnt in cands)\n",
    "    min_cands = min(cnt for _, cnt in cands)\n",
    "    mean_cands = sum_cands/total_error\n",
    "    \n",
    "    if total_error%2 == 0:\n",
    "        mid_cands = cands[total_error//2]\n",
    "    else:\n",
    "        mid_cands = cands[(total_error+1)//2]\n",
    "    \n",
    "    print('Total_error: {}\\nSum_cands: {}'.format(total_error, sum_cands))\n",
    "    print('Max_cands: {}\\nMin_cands: {}'.format(max_cands, min_cands))\n",
    "    print('Mean_cands: {:.2f}\\nMid_cands: {}'.format(mean_cands, mid_cands))\n",
    "    print('Top 20 cands:\\n {}'.format(cands[:20]))\n",
    "    \n",
    "    plt.plot([cnt for _, cnt in cands])\n",
    "    plt.xlabel('Index')\n",
    "    plt.ylabel('Number of candidates')\n",
    "    fig = plt.gcf()\n",
    "    plt.show()\n",
    "    fig.savefig('./confusionTable/confuInfo_{}.png'.format(fig_token), dpi=100)"
   ]
  },
  {
   "cell_type": "code",
   "execution_count": 22,
   "metadata": {
    "collapsed": true
   },
   "outputs": [],
   "source": [
    "data_root = './confusionTable/basicExtact/'\n",
    "filelist = {file:os.path.join(data_root, file) for _,_,files in os.walk(data_root) for file in files if 'confu' in os.path.splitext(file)[0]}"
   ]
  },
  {
   "cell_type": "code",
   "execution_count": 23,
   "metadata": {
    "collapsed": false
   },
   "outputs": [
    {
     "data": {
      "text/plain": [
       "{'confu_all.pkl': './confusionTable/basicExtact/confu_all.pkl',\n",
       " 'confu_in_1.pkl': './confusionTable/basicExtact/confu_in_1.pkl',\n",
       " 'confu_in_2.pkl': './confusionTable/basicExtact/confu_in_2.pkl',\n",
       " 'confu_in_3.pkl': './confusionTable/basicExtact/confu_in_3.pkl',\n",
       " 'confu_in_4.pkl': './confusionTable/basicExtact/confu_in_4.pkl',\n",
       " 'confu_in_5.pkl': './confusionTable/basicExtact/confu_in_5.pkl',\n",
       " 'confu_in_6.pkl': './confusionTable/basicExtact/confu_in_6.pkl'}"
      ]
     },
     "execution_count": 23,
     "metadata": {},
     "output_type": "execute_result"
    }
   ],
   "source": [
    "filelist"
   ]
  },
  {
   "cell_type": "code",
   "execution_count": 24,
   "metadata": {
    "collapsed": true
   },
   "outputs": [
    {
     "name": "stdout",
     "output_type": "stream",
     "text": [
      "Total_error: 18063\n",
      "Sum_cands: 3428471\n",
      "Max_cands: 1407\n",
      "Min_cands: 1\n",
      "Mean_cands: 189.81\n",
      "Mid_cands: ('鍜', 147)\n",
      "Top 20 cands:\n",
      " [('扢', 1407), ('鳽', 1306), ('厭', 1244), ('膁', 1203), ('誒', 1158), ('咭', 1135), ('歘', 1112), ('苑', 1080), ('苴', 1057), ('閼', 1039), ('齊', 1002), ('羛', 975), ('嵠', 971), ('扦', 966), ('鉈', 959), ('幵', 958), ('踦', 958), ('錡', 957), ('葴', 957), ('邪', 948)]\n"
     ]
    },
    {
     "data": {
      "image/png": "[encoded data removed]",
      "text/plain": [
       "<matplotlib.figure.Figure at 0x23927872080>"
      ]
     },
     "metadata": {},
     "output_type": "display_data"
    },
    {
     "name": "stdout",
     "output_type": "stream",
     "text": [
      "Total_error: 18063\n",
      "Sum_cands: 64357\n",
      "Max_cands: 38\n",
      "Min_cands: 1\n",
      "Mean_cands: 3.56\n",
      "Mid_cands: ('蔱', 1)\n",
      "Top 20 cands:\n",
      " [('淅', 38), ('淹', 38), ('淤', 38), ('淵', 38), ('淆', 38), ('淑', 38), ('淋', 38), ('涪', 38), ('清', 38), ('液', 38), ('深', 38), ('淨', 38), ('涎', 38), ('淫', 38), ('淘', 38), ('淪', 38), ('淙', 38), ('涯', 38), ('淞', 38), ('涮', 38)]\n"
     ]
    },
    {
     "data": {
      "image/png": "[encoded data removed]",
      "text/plain": [
       "<matplotlib.figure.Figure at 0x239259b7f98>"
      ]
     },
     "metadata": {},
     "output_type": "display_data"
    },
    {
     "name": "stdout",
     "output_type": "stream",
     "text": [
      "Total_error: 18063\n",
      "Sum_cands: 319045\n",
      "Max_cands: 298\n",
      "Min_cands: 1\n",
      "Mean_cands: 17.66\n",
      "Mid_cands: ('芑', 1)\n",
      "Top 20 cands:\n",
      " [('居', 298), ('行', 288), ('癘', 287), ('藉', 284), ('吃', 252), ('戲', 250), ('枝', 239), ('祇', 239), ('釐', 236), ('圾', 229), ('契', 226), ('攜', 224), ('祭', 223), ('漆', 209), ('奇', 207), ('驥', 207), ('稽', 207), ('畦', 207), ('畸', 207), ('屐', 207)]\n"
     ]
    },
    {
     "data": {
      "image/png": "[encoded data removed]",
      "text/plain": [
       "<matplotlib.figure.Figure at 0x239248769e8>"
      ]
     },
     "metadata": {},
     "output_type": "display_data"
    },
    {
     "name": "stdout",
     "output_type": "stream",
     "text": [
      "Total_error: 18063\n",
      "Sum_cands: 3946218\n",
      "Max_cands: 1422\n",
      "Min_cands: 1\n",
      "Mean_cands: 218.47\n",
      "Mid_cands: ('庉', 177)\n",
      "Top 20 cands:\n",
      " [('扢', 1422), ('鳽', 1317), ('厭', 1257), ('膁', 1221), ('誒', 1163), ('咭', 1147), ('苑', 1130), ('歘', 1116), ('苴', 1077), ('齊', 1067), ('閼', 1044), ('姬', 1033), ('錡', 1026), ('訢', 1012), ('邪', 1010), ('羛', 1003), ('幵', 1003), ('嵠', 975), ('扦', 975), ('踦', 968)]\n"
     ]
    },
    {
     "data": {
      "image/png": "[encoded data removed]",
      "text/plain": [
       "<matplotlib.figure.Figure at 0x2392787d320>"
      ]
     },
     "metadata": {},
     "output_type": "display_data"
    },
    {
     "name": "stdout",
     "output_type": "stream",
     "text": [
      "Total_error: 18063\n",
      "Sum_cands: 27147\n",
      "Max_cands: 17\n",
      "Min_cands: 1\n",
      "Mean_cands: 1.50\n",
      "Mid_cands: ('唹', 1)\n",
      "Top 20 cands:\n",
      " [('愉', 17), ('息', 15), ('識', 15), ('是', 14), ('愚', 14), ('如', 14), ('付', 13), ('事', 13), ('胡', 13), ('新', 12), ('而', 12), ('俞', 12), ('折', 12), ('緣', 11), ('資', 11), ('余', 11), ('兒', 11), ('決', 11), ('知', 11), ('適', 11)]\n"
     ]
    },
    {
     "data": {
      "image/png": "[encoded data removed]",
      "text/plain": [
       "<matplotlib.figure.Figure at 0x23925be4e80>"
      ]
     },
     "metadata": {},
     "output_type": "display_data"
    },
    {
     "name": "stdout",
     "output_type": "stream",
     "text": [
      "Total_error: 18063\n",
      "Sum_cands: 392799\n",
      "Max_cands: 138\n",
      "Min_cands: 1\n",
      "Mean_cands: 21.75\n",
      "Mid_cands: ('捾', 20)\n",
      "Top 20 cands:\n",
      " [('雒', 138), ('瞿', 127), ('奪', 118), ('雅', 117), ('雚', 116), ('焦', 113), ('雃', 109), ('翟', 106), ('雍', 105), ('釁', 105), ('崔', 105), ('雐', 104), ('難', 102), ('雉', 102), ('霍', 99), ('隿', 99), ('雤', 99), ('斪', 99), ('舋', 98), ('雋', 96)]\n"
     ]
    },
    {
     "data": {
      "image/png": "[encoded data removed]",
      "text/plain": [
       "<matplotlib.figure.Figure at 0x239259c6668>"
      ]
     },
     "metadata": {},
     "output_type": "display_data"
    },
    {
     "name": "stdout",
     "output_type": "stream",
     "text": [
      "Total_error: 18063\n",
      "Sum_cands: 153286\n",
      "Max_cands: 31\n",
      "Min_cands: 1\n",
      "Mean_cands: 8.49\n",
      "Mid_cands: ('墙', 1)\n",
      "Top 20 cands:\n",
      " [('炫', 31), ('彫', 31), ('糙', 31), ('兵', 31), ('崴', 31), ('碰', 31), ('緻', 31), ('伺', 31), ('熬', 31), ('墾', 31), ('駒', 31), ('率', 31), ('娣', 31), ('珪', 31), ('諮', 31), ('晨', 31), ('曄', 31), ('穆', 31), ('妣', 31), ('邸', 31)]\n"
     ]
    },
    {
     "data": {
      "image/png": "[encoded data removed]",
      "text/plain": [
       "<matplotlib.figure.Figure at 0x23925bd7908>"
      ]
     },
     "metadata": {},
     "output_type": "display_data"
    }
   ],
   "source": [
    "for filename, path in filelist.items():\n",
    "    sys_c = sysExtract(path)\n",
    "    info(sys_c, os.path.splitext(filename)[0])"
   ]
  },
  {
   "cell_type": "code",
   "execution_count": 14,
   "metadata": {
    "collapsed": true
   },
   "outputs": [],
   "source": [
    "\n"
   ]
  },
  {
   "cell_type": "code",
   "execution_count": 21,
   "metadata": {
    "collapsed": true
   },
   "outputs": [],
   "source": [
    "def sysExtract(confusionset_file):\n",
    "    ncm = pickle.load(open(confusionset_file, 'rb'))\n",
    "    sys_confusion = defaultdict(set)\n",
    "    for error, cands_info in ncm.items():\n",
    "        sys_confusion[error].update(cands_info.keys())\n",
    "        \n",
    "    return sys_confusion"
   ]
  },
  {
   "cell_type": "code",
   "execution_count": 22,
   "metadata": {
    "collapsed": true
   },
   "outputs": [],
   "source": [
    "def outputPKL(confusion, ncm_correct, pkl_file):\n",
    "    '''Assign local probability and output to NCM file\n",
    "    '''\n",
    "    output = defaultdict(dict)\n",
    "    print('Output PKL')\n",
    "    for ch, cands in confusion.items():\n",
    "        total_cand_val = sum(cands.values())*(1-ncm_correct) + ncm_correct\n",
    "        output[ch] = {ca:(p*(1-ncm_correct))/total_cand_val for ca,p in cands.items()}\n",
    "        output[ch][ch] = ncm_correct/total_cand_val        \n",
    "    \n",
    "    with open(pkl_file, 'wb') as fp:\n",
    "        pickle.dump(output, fp)\n",
    "    \n",
    "    return output"
   ]
  },
  {
   "cell_type": "code",
   "execution_count": 23,
   "metadata": {
    "collapsed": true
   },
   "outputs": [],
   "source": [
    "def process_command():\n",
    "    parser = argparse.ArgumentParser()\n",
    "    parser.add_argument('--token', required=True)\n",
    "    parser.add_argument('--multi', action='store_false')\n",
    "    parser.add_argument('--pre', action='store_true')\n",
    "    parser.add_argument('--nb', action='store_true')    \n",
    "    \n",
    "    return parser.parse_args()"
   ]
  },
  {
   "cell_type": "code",
   "execution_count": 24,
   "metadata": {
    "collapsed": true
   },
   "outputs": [],
   "source": [
    "# args = process_command()\n",
    "feature_file = './confusionTable/feature_0522.pkl'\n",
    "output_file = './confusionTable/confu_{}_{}_{}.pkl'.format\n",
    "\n",
    "with open(feature_file, 'rb') as fp:\n",
    "    dataset = pickle.load(fp)        "
   ]
  },
  {
   "cell_type": "code",
   "execution_count": 25,
   "metadata": {
    "collapsed": false,
    "scrolled": true
   },
   "outputs": [
    {
     "name": "stdout",
     "output_type": "stream",
     "text": [
      "Before extract = 2592820\n"
     ]
    }
   ],
   "source": [
    "print('Before extract = {}'.format(sum(len(cand) for cand in dataset.values())))"
   ]
  },
  {
   "cell_type": "code",
   "execution_count": 26,
   "metadata": {
    "collapsed": false
   },
   "outputs": [
    {
     "name": "stdout",
     "output_type": "stream",
     "text": [
      "The number of sample = (1561823, 11)\n",
      "Positive case (candidate) = 8400\n",
      "Negative case (uncandidate) = 1553423\n",
      "After extract = 1717879\n"
     ]
    }
   ],
   "source": [
    "feature,label = extract(dataset)\n",
    "print('After extract = {}'.format(sum(len(cand) for cand in dataset.values())))"
   ]
  },
  {
   "cell_type": "code",
   "execution_count": 144,
   "metadata": {
    "collapsed": true
   },
   "outputs": [],
   "source": [
    "PRE = False\n",
    "NB = False\n",
    "train_cnt = 2000\n",
    "cost = 5\n",
    "gamma= 0.0225"
   ]
  },
  {
   "cell_type": "code",
   "execution_count": 145,
   "metadata": {
    "collapsed": false
   },
   "outputs": [
    {
     "name": "stdout",
     "output_type": "stream",
     "text": [
      "Accuracy (6400/12800): 0.998125\n",
      "Positive Accuracy (6400): 0.9984375\n"
     ]
    }
   ],
   "source": [
    "(new_feature, pre_filter) = preprocess(feature, 'normal')\n",
    "label = rnSelect(new_feature, label)            \n",
    "clf, vali_p, test_p = train_svm(new_feature, label, train_cnt, cost, gamma)"
   ]
  },
  {
   "cell_type": "code",
   "execution_count": 146,
   "metadata": {
    "collapsed": false
   },
   "outputs": [],
   "source": [
    "cnf_mv = confusion_matrix(y_pred=vali_p[0], y_true=vali_p[1])"
   ]
  },
  {
   "cell_type": "code",
   "execution_count": 147,
   "metadata": {
    "collapsed": false
   },
   "outputs": [],
   "source": [
    "cnf_mv = np.rot90(cnf_mv, 2)"
   ]
  },
  {
   "cell_type": "code",
   "execution_count": 148,
   "metadata": {
    "collapsed": false
   },
   "outputs": [
    {
     "data": {
      "text/plain": [
       "array([[1996,    4],\n",
       "       [   4, 1996]])"
      ]
     },
     "execution_count": 148,
     "metadata": {},
     "output_type": "execute_result"
    }
   ],
   "source": [
    "cnf_mv"
   ]
  },
  {
   "cell_type": "code",
   "execution_count": 154,
   "metadata": {
    "collapsed": true
   },
   "outputs": [],
   "source": [
    "plt.savefig?"
   ]
  },
  {
   "cell_type": "code",
   "execution_count": 165,
   "metadata": {
    "collapsed": false
   },
   "outputs": [
    {
     "name": "stdout",
     "output_type": "stream",
     "text": [
      "Normalized confusion matrix\n",
      "[[ 0.998  0.002]\n",
      " [ 0.002  0.998]]\n"
     ]
    }
   ],
   "source": [
    "plt.figure()\n",
    "plot_confusion_matrix(cnf_mv, classes=['True','False'],normalize=True,\n",
    "                      title='Confusion matrix, without normalization')\n",
    "plt.savefig('./confusionTable/validate.png', dpi=100)\n",
    "# plt.show()"
   ]
  },
  {
   "cell_type": "code",
   "execution_count": 150,
   "metadata": {
    "collapsed": false
   },
   "outputs": [],
   "source": [
    "cnf_mt = confusion_matrix(y_pred=test_p[0], y_true=test_p[1])"
   ]
  },
  {
   "cell_type": "code",
   "execution_count": 151,
   "metadata": {
    "collapsed": false
   },
   "outputs": [],
   "source": [
    "cnf_mt = np.rot90(cnf_mt,2)"
   ]
  },
  {
   "cell_type": "code",
   "execution_count": 152,
   "metadata": {
    "collapsed": false
   },
   "outputs": [
    {
     "data": {
      "text/plain": [
       "array([[   6390,      10],\n",
       "       [   3379, 1548044]])"
      ]
     },
     "execution_count": 152,
     "metadata": {},
     "output_type": "execute_result"
    }
   ],
   "source": [
    "cnf_mt"
   ]
  },
  {
   "cell_type": "code",
   "execution_count": 164,
   "metadata": {
    "collapsed": false
   },
   "outputs": [
    {
     "name": "stdout",
     "output_type": "stream",
     "text": [
      "Normalized confusion matrix\n",
      "[[ 0.9984375  0.0015625]\n",
      " [ 0.002178   0.997822 ]]\n"
     ]
    }
   ],
   "source": [
    "plt.figure()\n",
    "plot_confusion_matrix(cnf_mt, classes=['True','False'],normalize=True,\n",
    "                      title='Confusion matrix, without normalization')\n",
    "plt.savefig('./confusionTable/test.png', dpi=100)\n",
    "# plt.show()"
   ]
  },
  {
   "cell_type": "code",
   "execution_count": 39,
   "metadata": {
    "collapsed": true
   },
   "outputs": [
    {
     "data": {
      "text/plain": [
       "{'一': (5.9703974241725799,\n",
       "  [0, 0, 0, 0, 0, 0, 4.0, -3.186522, -2.495364, 0.19703974241725797, 0, []]),\n",
       " '三': (5.2670356474223148,\n",
       "  [0, 0, 0, 0, 0, 0, 3.0, -3.186522, -2.823071, 0.22670356474223149, 0, []]),\n",
       " '上': (6.7042288504853378,\n",
       "  [0, 0, 0, 1, 0, 0, 4.0, -3.186522, -2.654677, 0.17042288504853373, 0, []]),\n",
       " '下': (5.8598887552963159,\n",
       "  [0, 0, 0, 0, 0, 0, 4.0, -3.186522, -2.724198, 0.18598887552963156, 0, []]),\n",
       " '不': (6.4847053663727205,\n",
       "  [0, 0, 0, 0, 0, 0, 4.0, -3.186522, -2.531445, 0.248470536637272, 0, []]),\n",
       " '且': (5.2013876294807115,\n",
       "  [0, 0, 0, 0, 0, 0, 3.0, -3.186522, -3.336532, 0.22013876294807116, 0, []]),\n",
       " '並': (5.3410766146490154,\n",
       "  [0, 0, 0, 0, 0, 0, 3.0, -3.186522, -2.879576, 0.23410766146490158, 0, []]),\n",
       " '中': (8.2565433168432172,\n",
       "  [0, 0, 0, 0, 0, 0, 4.0, -3.186522, -2.608095, 0.42565433168432165, 0, []]),\n",
       " '主': (5.2309479199544029,\n",
       "  [0, 0, 0, 0, 0, 0, 3.0, -3.186522, -2.857516, 0.2230947919954403, 0, []]),\n",
       " '久': (5.0797825728092949,\n",
       "  [0, 0, 0, 0, 0, 0, 3.0, -3.186522, -3.610757, 0.2079782572809295, 0, []]),\n",
       " '之': (5.6594958311163541,\n",
       "  [0, 0, 0, 0, 0, 0, 4.0, -3.186522, -2.515038, 0.16594958311163538, 0, []]),\n",
       " '也': (7.2412018089407493,\n",
       "  [0, 0, 0, 0, 0, 0, 4.0, -3.186522, -2.638334, 0.32412018089407496, 0, []]),\n",
       " '了': (5.3632047259247893,\n",
       "  [0, 0, 0, 0, 0, 0, 4.0, -3.186522, -2.570361, 0.13632047259247893, 0, []]),\n",
       " '事': (6.3487946588625785,\n",
       "  [0, 0, 0, 0, 0, 0, 3.0, -3.186522, -2.947132, 0.33487946588625783, 0, []]),\n",
       " '交': (6.8994378030740817,\n",
       "  [0, 0, 0, 0, 0, 0, 4.0, -3.186522, -2.984461, 0.28994378030740819, 0, []]),\n",
       " '亦': (5.1658818889301248,\n",
       "  [0, 0, 0, 0, 0, 0, 2.0, -3.186522, -3.122251, 0.31658818889301243, 0, []]),\n",
       " '享': (5.133333976113855,\n",
       "  [0, 0, 0, 1, 0, 0, 2.0, -3.186522, -3.561136, 0.21333339761138548, 0, []]),\n",
       " '人': (6.5485335443846502,\n",
       "  [0, 0, 0, 0, 0, 0, 4.0, -3.186522, -2.665383, 0.25485335443846496, 0, []]),\n",
       " '什': (7.8459070578839292,\n",
       "  [3, 0, 0, 0, 0, 0, 3.0, -3.186522, -3.227037, 0.18459070578839287, 0, []]),\n",
       " '今': (5.9084640315413051,\n",
       "  [0, 0, 0, 1, 0, 0, 3.0, -3.186522, -3.175858, 0.19084640315413054, 0, []]),\n",
       " '他': (7.0442639495677062,\n",
       "  [0, 0, 0, 0, 0, 0, 4.0, -3.186522, -2.890813, 0.3044263949567706, 0, []]),\n",
       " '付': (6.3306794406233147,\n",
       "  [0, 0, 0, 0, 0, 0, 2.0, -3.186522, -3.483292, 0.43306794406233146, 0, []]),\n",
       " '代': (5.3181424260349921,\n",
       "  [0, 0, 0, 0, 0, 0, 3.0, -3.186522, -3.087235, 0.2318142426034992, 0, []]),\n",
       " '以': (7.3766635753338141,\n",
       "  [0, 0, 0, 0, 0, 0, 4.0, -3.186522, -2.676081, 0.33766635753338142, 0, []]),\n",
       " '仰': (6.8693866084734516,\n",
       "  [0, 0, 0, 0, 0, 0, 1.0, -3.186522, -3.814268, 0.58693866084734514, 0, []]),\n",
       " '件': (5.1865811726578359,\n",
       "  [0, 0, 0, 0, 0, 0, 3.0, -3.186522, -3.753782, 0.2186581172657836, 0, []]),\n",
       " '任': (5.2928952249431571,\n",
       "  [0, 0, 0, 0, 0, 0, 3.0, -3.186522, -3.182046, 0.22928952249431572, 0, []]),\n",
       " '份': (5.5275336636846397,\n",
       "  [0, 0, 0, 0, 0, 0, 3.0, -3.186522, -3.69486, 0.25275336636846402, 0, []]),\n",
       " '伸': (10.511117262538527,\n",
       "  [4, 0, 0, 4, 0, 0, 1.0, -3.186522, -3.656048, 0.15111172625385275, 0, []]),\n",
       " '但': (6.2866716884844482,\n",
       "  [0, 0, 0, 0, 0, 0, 4.0, -3.186522, -3.650776, 0.22866716884844479, 0, []]),\n",
       " '位': (5.3549937129681426,\n",
       "  [0, 0, 0, 0, 0, 0, 3.0, -3.186522, -3.206778, 0.23549937129681425, 0, []]),\n",
       " '何': (6.0239749911036737,\n",
       "  [0, 0, 0, 0, 0, 0, 4.0, -3.186522, -3.368154, 0.20239749911036736, 0, []]),\n",
       " '你': (7.0833488454350286,\n",
       "  [0, 0, 0, 0, 0, 0, 4.0, -3.186522, -3.025924, 0.30833488454350289, 0, []]),\n",
       " '使': (5.4704897004729505,\n",
       "  [0, 0, 0, 0, 0, 0, 3.0, -3.186522, -2.961896, 0.24704897004729504, 0, []]),\n",
       " '來': (6.391196839778341,\n",
       "  [0, 0, 0, 0, 0, 0, 4.0, -3.186522, -2.681672, 0.23911968397783412, 0, []]),\n",
       " '便': (5.3033653878848721,\n",
       "  [0, 0, 0, 0, 0, 1, 3.0, -3.186522, -3.034714, 0.13033653878848725, 0, []]),\n",
       " '俊': (5.3011000192173352,\n",
       "  [0, 0, 0, 0, 0, 1, 2.0, -3.186522, -3.802963, 0.23011000192173353, 0, []]),\n",
       " '保': (7.0161967704113293,\n",
       "  [0, 0, 0, 0, 0, 1, 3.0, -3.186522, -3.017309, 0.30161967704113291, 0, []]),\n",
       " '個': (5.9751183849087068,\n",
       "  [0, 0, 0, 0, 0, 0, 4.0, -3.186522, -2.96136, 0.19751183849087067, 0, []]),\n",
       " '們': (7.0952209778826845,\n",
       "  [0, 0, 0, 0, 0, 0, 4.0, -3.186522, -3.596652, 0.30952209778826845, 0, []]),\n",
       " '倖': (5.3397631140697932,\n",
       "  [2, 0, 0, 2, 0, 0, 0.0, -3.186522, -4.553061, 0.13397631140697935, 0, []]),\n",
       " '倚': (6.5204693784393299,\n",
       "  [0, 0, 1, 0, 0, 0, 1.0, -3.186522, -4.058956, 0.45204693784393296, 0, []]),\n",
       " '做': (5.4988279398022115,\n",
       "  [0, 0, 0, 0, 0, 0, 3.0, -3.186522, -2.940956, 0.24988279398022115, 0, []]),\n",
       " '備': (5.0883737389745214,\n",
       "  [0, 0, 0, 0, 0, 0, 3.0, -3.186522, -3.569746, 0.20883737389745216, 0, []]),\n",
       " '傳': (6.3043674762145034,\n",
       "  [0, 0, 0, 0, 0, 0, 3.0, -3.186522, -2.999404, 0.33043674762145037, 0, []]),\n",
       " '僅': (5.2442389111230945,\n",
       "  [0, 0, 0, 2, 0, 0, 1.0, -3.186522, -3.337805, 0.22442389111230948, 0, []]),\n",
       " '像': (6.9987753744368622,\n",
       "  [0, 0, 0, 2, 0, 0, 3.0, -3.186522, -3.220179, 0.19987753744368622, 0, []]),\n",
       " '儘': (5.0441971759370627,\n",
       "  [0, 0, 0, 2, 0, 0, 1.0, -3.186522, -3.683413, 0.20441971759370633, 0, []]),\n",
       " '兄': (7.7813563972930071,\n",
       "  [0, 0, 0, 0, 0, 0, 3.0, -3.186522, -3.578531, 0.47813563972930068, 0, []]),\n",
       " '先': (5.121646800118576,\n",
       "  [0, 0, 0, 0, 0, 0, 3.0, -3.186522, -2.912281, 0.21216468001185762, 0, []]),\n",
       " '光': (6.0887083350035045,\n",
       "  [0, 0, 0, 0, 0, 0, 3.0, -3.186522, -3.062203, 0.30887083350035049, 0, []]),\n",
       " '全': (5.1176544674258615,\n",
       "  [0, 0, 0, 0, 0, 0, 3.0, -3.186522, -2.915643, 0.21176544674258621, 0, []]),\n",
       " '公': (5.9091543364682755,\n",
       "  [0, 0, 0, 0, 0, 0, 3.0, -3.186522, -2.727, 0.29091543364682754, 0, []]),\n",
       " '其': (5.6652592039423508,\n",
       "  [0, 0, 0, 0, 0, 0, 3.0, -3.186522, -2.930354, 0.26652592039423506, 0, []]),\n",
       " '再': (5.1661017757545533,\n",
       "  [0, 0, 0, 0, 0, 0, 3.0, -3.186522, -3.027169, 0.21661017757545536, 0, []]),\n",
       " '凡': (5.0497911959684156,\n",
       "  [0, 0, 0, 0, 0, 0, 1.0, -3.186522, -3.810467, 0.40497911959684152, 0, []]),\n",
       " '凱': (5.7423126664354864,\n",
       "  [0, 0, 0, 0, 0, 0, 1.0, -3.186522, -3.69777, 0.47423126664354864, 0, []]),\n",
       " '出': (6.449432032585948,\n",
       "  [0, 0, 0, 0, 0, 0, 4.0, -3.186522, -2.705673, 0.24494320325859481, 0, []]),\n",
       " '別': (5.3823292343425084,\n",
       "  [0, 0, 0, 0, 0, 0, 3.0, -3.186522, -3.202091, 0.23823292343425087, 0, []]),\n",
       " '利': (6.0067220834434689,\n",
       "  [0, 0, 0, 0, 0, 0, 3.0, -3.186522, -3.090108, 0.30067220834434688, 0, []]),\n",
       " '到': (5.1130835395390237,\n",
       "  [0, 0, 0, 0, 0, 0, 4.0, -3.186522, -2.688191, 0.11130835395390234, 0, []]),\n",
       " '則': (6.2782895303555346,\n",
       "  [0, 0, 0, 0, 0, 0, 3.0, -3.186522, -2.829349, 0.32782895303555348, 0, []]),\n",
       " '前': (5.4661966093029219,\n",
       "  [0, 0, 0, 0, 0, 0, 4.0, -3.186522, -2.871661, 0.14661966093029219, 0, []]),\n",
       " '力': (5.0328432948363089,\n",
       "  [0, 0, 0, 0, 0, 0, 3.0, -3.186522, -3.146994, 0.20328432948363087, 0, []]),\n",
       " '功': (5.3739797732662087,\n",
       "  [0, 0, 0, 0, 0, 0, 3.0, -3.186522, -3.161186, 0.23739797732662082, 0, []]),\n",
       " '務': (6.6828705015154597,\n",
       "  [0, 0, 0, 0, 0, 0, 3.0, -3.186522, -3.680597, 0.36828705015154595, 0, []]),\n",
       " '勝': (8.2394187395122316,\n",
       "  [2, 0, 0, 2, 0, 0, 2.0, -3.186522, -3.429723, 0.22394187395122311, 0, []]),\n",
       " '北': (5.3149428069744591,\n",
       "  [0, 0, 0, 0, 0, 0, 3.0, -3.186522, -3.219208, 0.23149428069744588, 0, []]),\n",
       " '區': (5.4602989895070069,\n",
       "  [0, 0, 0, 0, 0, 0, 3.0, -3.186522, -3.082962, 0.24602989895070071, 0, []]),\n",
       " '升': (9.980335231185963,\n",
       "  [4, 0, 0, 2, 0, 0, 2.0, -3.186522, -3.364073, 0.19803352311859634, 0, []]),\n",
       " '南': (5.5961352767407408,\n",
       "  [0, 0, 0, 0, 0, 0, 3.0, -3.186522, -3.191043, 0.25961352767407408, 0, []]),\n",
       " '卡': (7.2255819612121259,\n",
       "  [0, 0, 0, 0, 0, 0, 3.0, -3.186522, -3.340361, 0.42255819612121259, 0, []]),\n",
       " '印': (5.126725881241164,\n",
       "  [0, 0, 0, 0, 0, 0, 2.0, -3.186522, -3.254555, 0.31267258812411636, 0, []]),\n",
       " '去': (6.5686650765121328,\n",
       "  [0, 0, 0, 0, 0, 0, 4.0, -3.186522, -2.866034, 0.25686650765121333, 0, []]),\n",
       " '叁': (5.5716441280129798,\n",
       "  [4, 0, 0, 0, 0, 0, 0, -3.186522, -99.0, 0.157164412801298, 0, []]),\n",
       " '参': (7.8368080267379874,\n",
       "  [4, 0, 0, 0, 0, 0, 3.0, -3.186522, -99.0, 0.083680802673798696, 0, []]),\n",
       " '參': (12.850506888569116,\n",
       "  [4, 0, 0, 4, 0, 0, 3.0, -3.186522, -3.077329, 0.18505068885691162, 0, []]),\n",
       " '叄': (6.6202976396774638,\n",
       "  [4, 0, 0, 0, 0, 0, 0, -3.186522, -99.0, 0.26202976396774641, 0, []]),\n",
       " '及': (5.781589093874091,\n",
       "  [0, 0, 0, 0, 0, 0, 3.0, -3.186522, -2.604076, 0.27815890938740906, 0, []]),\n",
       " '友': (5.8931391238085755,\n",
       "  [0, 0, 0, 0, 0, 0, 3.0, -3.186522, -3.50898, 0.28931391238085757, 0, []]),\n",
       " '反': (5.3160571808805184,\n",
       "  [0, 0, 0, 0, 0, 0, 3.0, -3.186522, -3.055499, 0.2316057180880518, 0, []]),\n",
       " '受': (5.0003283809927428,\n",
       "  [0, 0, 0, 0, 0, 0, 3.0, -3.186522, -3.066277, 0.2000328380992743, 0, []]),\n",
       " '可': (6.1787722963470282,\n",
       "  [0, 0, 0, 0, 0, 0, 4.0, -3.186522, -2.742901, 0.2178772296347028, 0, []]),\n",
       " '台': (5.955726981858394,\n",
       "  [0, 0, 0, 0, 0, 0, 3.0, -3.186522, -2.91276, 0.29557269818583937, 0, []]),\n",
       " '司': (6.631644858602594,\n",
       "  [0, 0, 1, 0, 0, 0, 2.0, -3.186522, -3.532277, 0.3631644858602594, 0, []]),\n",
       " '各': (5.2118993035765957,\n",
       "  [0, 0, 0, 0, 0, 0, 3.0, -3.186522, -2.95869, 0.22118993035765955, 0, []]),\n",
       " '合': (6.1190314045361003,\n",
       "  [0, 0, 1, 0, 0, 0, 3.0, -3.186522, -2.989004, 0.21190314045360997, 0, []]),\n",
       " '同': (7.4661327686480305,\n",
       "  [0, 0, 1, 0, 0, 0, 4.0, -3.186522, -2.917576, 0.24661327686480311, 0, []]),\n",
       " '向': (7.8602642495118813,\n",
       "  [0, 0, 0, 2, 0, 0, 3.0, -3.186522, -2.99533, 0.28602642495118813, 0, []]),\n",
       " '否': (5.2450305743067007,\n",
       "  [0, 0, 0, 0, 0, 0, 3.0, -3.186522, -3.731133, 0.22450305743067006, 0, []]),\n",
       " '告': (5.5080263512283736,\n",
       "  [0, 0, 0, 0, 0, 0, 3.0, -3.186522, -3.259848, 0.2508026351228374, 0, []]),\n",
       " '呵': (5.5215882654549082,\n",
       "  [0, 0, 0, 0, 0, 0, 3.0, -3.186522, -4.116222, 0.25215882654549082, 0, []]),\n",
       " '呻': (9.9829964331178118,\n",
       "  [4, 0, 0, 4, 0, 0, 0.0, -3.186522, -4.88088, 0.19829964331178113, 0, []]),\n",
       " '和': (7.3184276433944371,\n",
       "  [0, 0, 0, 0, 0, 0, 4.0, -3.186522, -2.561099, 0.33184276433944371, 0, []]),\n",
       " '哂': (8.1157138068124404,\n",
       "  [3, 0, 0, 3, 0, 0, 0, -3.186522, -6.40756, 0.21157138068124393, 0, []]),\n",
       " '哇': (5.1949369905116809,\n",
       "  [0, 0, 0, 0, 0, 0, 2.0, -3.186522, -4.032927, 0.31949369905116809, 0, []]),\n",
       " '哈': (5.659443494998083,\n",
       "  [0, 0, 1, 0, 0, 0, 3.0, -3.186522, -3.683413, 0.16594434949980832, 0, []]),\n",
       " '商': (7.8556045450569334,\n",
       "  [0, 0, 0, 2, 0, 0, 2.0, -3.186522, -3.108505, 0.38556045450569332, 0, []]),\n",
       " '啊': (5.1137726680882372,\n",
       "  [0, 0, 0, 0, 0, 0, 3.0, -3.186522, -3.02098, 0.21137726680882374, 0, []]),\n",
       " '問': (5.1775028331007231,\n",
       "  [0, 0, 0, 0, 0, 0, 4.0, -3.186522, -2.957626, 0.11775028331007226, 0, []]),\n",
       " '啥': (5.7035553334200335,\n",
       "  [0, 0, 1, 0, 0, 0, 2.0, -3.186522, -4.646023, 0.27035553334200335, 0, []]),\n",
       " '善': (5.006673213926641,\n",
       "  [0, 0, 0, 0, 0, 0, 2.0, -3.186522, -3.452351, 0.30066732139266406, 0, []]),\n",
       " '喔': (5.2499161672865071,\n",
       "  [0, 0, 0, 0, 0, 0, 3.0, -3.186522, -3.477979, 0.22499161672865067, 0, []]),\n",
       " '喜': (5.6994403846358805,\n",
       "  [0, 0, 0, 0, 0, 0, 3.0, -3.186522, -3.266286, 0.26994403846358805, 0, []]),\n",
       " '單': (5.0628978149482284,\n",
       "  [0, 0, 0, 0, 0, 0, 3.0, -3.186522, -3.107754, 0.20628978149482285, 0, []]),\n",
       " '嗎': (6.0981468784882802,\n",
       "  [0, 0, 0, 0, 0, 0, 4.0, -3.186522, -3.055499, 0.20981468784882804, 0, []]),\n",
       " '回': (5.0560312017590192,\n",
       "  [0, 0, 0, 0, 0, 0, 3.0, -3.186522, -2.893095, 0.20560312017590193, 0, []]),\n",
       " '囟': (5.5270638887270849,\n",
       "  [4, 0, 0, 0, 0, 0, 0, -3.186522, -5.848711, 0.15270638887270843, 0, []]),\n",
       " '因': (5.7373061736940603,\n",
       "  [0, 0, 0, 0, 0, 0, 4.0, -3.186522, -2.978848, 0.17373061736940604, 0, []]),\n",
       " '国': (5.80671178006925,\n",
       "  [0, 0, 0, 0, 0, 0, 4.0, -3.186522, -99.0, 0.18067117800692498, 0, []]),\n",
       " '國': (7.689847193336961,\n",
       "  [0, 0, 0, 0, 0, 0, 4.0, -3.186522, -2.805884, 0.36898471933369614, 0, []]),\n",
       " '在': (6.5745323179912285,\n",
       "  [0, 0, 0, 0, 0, 0, 4.0, -3.186522, -2.54417, 0.25745323179912283, 0, []]),\n",
       " '地': (6.1822314209385842,\n",
       "  [0, 0, 0, 0, 0, 0, 4.0, -3.186522, -2.65973, 0.2182231420938584, 0, []]),\n",
       " '型': (6.3997672455946946,\n",
       "  [0, 0, 0, 1, 0, 0, 3.0, -3.186522, -3.244159, 0.23997672455946947, 0, []]),\n",
       " '基': (7.6680256416821129,\n",
       "  [0, 0, 0, 0, 0, 0, 3.0, -3.186522, -3.050866, 0.46680256416821131, 0, []]),\n",
       " '報': (5.4328534502417565,\n",
       "  [0, 0, 0, 0, 0, 0, 3.0, -3.186522, -3.071077, 0.2432853450241757, 0, []]),\n",
       " '場': (5.1330398291434687,\n",
       "  [0, 0, 0, 0, 0, 0, 3.0, -3.186522, -3.248288, 0.21330398291434682, 0, []]),\n",
       " '境': (5.5775361591413066,\n",
       "  [0, 0, 0, 2, 0, 0, 2.0, -3.186522, -3.666788, 0.1577536159141307, 0, []]),\n",
       " '士': (5.2642507095406694,\n",
       "  [0, 0, 0, 0, 0, 0, 3.0, -3.186522, -3.492293, 0.22642507095406694, 0, []]),\n",
       " '外': (5.1366957378094202,\n",
       "  [0, 0, 0, 0, 0, 0, 3.0, -3.186522, -2.825806, 0.21366957378094198, 0, []]),\n",
       " '多': (6.1150426265395614,\n",
       "  [0, 0, 0, 0, 0, 0, 4.0, -3.186522, -2.835319, 0.21150426265395617, 0, []]),\n",
       " '大': (7.1199468631418572,\n",
       "  [0, 0, 0, 0, 0, 0, 4.0, -3.186522, -2.6414, 0.31199468631418575, 0, []]),\n",
       " '天': (5.3426902479053879,\n",
       "  [0, 0, 0, 0, 0, 0, 4.0, -3.186522, -2.974962, 0.13426902479053876, 0, []]),\n",
       " '太': (5.059736147339132,\n",
       "  [0, 0, 0, 0, 0, 0, 3.0, -3.186522, -2.998236, 0.20597361473391318, 0, []]),\n",
       " '央': (5.8925389190585351,\n",
       "  [0, 0, 0, 0, 0, 0, 3.0, -3.186522, -4.116222, 0.28925389190585349, 0, []]),\n",
       " '好': (6.6742878750265522,\n",
       "  [0, 0, 0, 0, 0, 0, 4.0, -3.186522, -2.88314, 0.26742878750265525, 0, []]),\n",
       " '如': (5.9956180128790155,\n",
       "  [0, 0, 0, 0, 0, 0, 4.0, -3.186522, -2.853319, 0.19956180128790157, 0, []]),\n",
       " '妳': (5.621239632165377,\n",
       "  [0, 0, 0, 0, 0, 0, 3.0, -3.186522, -3.561136, 0.26212396321653775, 0, []]),\n",
       " '姓': (6.9558382263700516,\n",
       "  [2, 0, 0, 2, 0, 0, 1.0, -3.186522, -3.620421, 0.19558382263700516, 0, []]),\n",
       " '娠': (8.2004259368582666,\n",
       "  [4, 0, 0, 4, 0, 0, 0, -3.186522, -6.40756, 0.020042593685826615, 0, []]),\n",
       " '媽': (5.1232795228294741,\n",
       "  [0, 0, 0, 0, 0, 0, 2.0, -3.186522, -3.452351, 0.31232795228294741, 0, []]),\n",
       " '嬸': (8.1546100099515737,\n",
       "  [3, 0, 0, 3, 0, 0, 0, -3.186522, -4.672744, 0.21546100099515739, 0, []]),\n",
       " '子': (7.5361974865942214,\n",
       "  [0, 0, 0, 0, 0, 0, 4.0, -3.186522, -2.962432, 0.35361974865942214, 0, []]),\n",
       " '孫': (6.1619805685595015,\n",
       "  [2, 0, 0, 0, 0, 0, 1.0, -3.186522, -3.569746, 0.31619805685595015, 0, []]),\n",
       " '學': (5.547989997631614,\n",
       "  [0, 0, 0, 0, 0, 0, 4.0, -3.186522, -2.858783, 0.15479899976316142, 0, []]),\n",
       " '守': (5.2342638875371721,\n",
       "  [0, 0, 0, 0, 0, 0, 2.0, -3.186522, -3.510874, 0.32342638875371721, 0, []]),\n",
       " '安': (5.223032017612292,\n",
       "  [0, 0, 0, 0, 0, 0, 3.0, -3.186522, -3.008861, 0.22230320176122922, 0, []]),\n",
       " '宏': (5.163958555871984,\n",
       "  [0, 0, 0, 0, 0, 0, 1.0, -3.186522, -3.635334, 0.41639585558719838, 0, []]),\n",
       " '宗': (5.8236810489385924,\n",
       "  [0, 0, 0, 0, 0, 0, 2.0, -3.186522, -3.4313, 0.3823681048938592, 0, []]),\n",
       " '定': (7.0249031285781625,\n",
       "  [0, 0, 0, 0, 0, 0, 4.0, -3.186522, -3.155286, 0.30249031285781625, 0, []]),\n",
       " '家': (6.9089431274887705,\n",
       "  [0, 0, 0, 0, 0, 0, 4.0, -3.186522, -2.922446, 0.290894312748877, 0, []]),\n",
       " '寄': (7.1924338848025329,\n",
       "  [0, 0, 1, 0, 0, 0, 2.0, -3.186522, -3.536284, 0.41924338848025333, 0, []]),\n",
       " '審': (8.7224456245863529,\n",
       "  [3, 0, 0, 3, 0, 0, 1.0, -3.186522, -3.434473, 0.17224456245863534, 0, []]),\n",
       " '寫': (6.1624365755528725,\n",
       "  [0, 0, 0, 0, 0, 0, 3.0, -3.186522, -3.182046, 0.31624365755528727, 0, []]),\n",
       " '对': (5.3692202703495004,\n",
       "  [0, 0, 0, 0, 0, 0, 4.0, -3.186522, -99.0, 0.13692202703495004, 0, []]),\n",
       " '將': (7.0725673481993923,\n",
       "  [0, 0, 0, 2, 0, 0, 3.0, -3.186522, -2.819965, 0.20725673481993928, 0, []]),\n",
       " '專': (5.3167214800914913,\n",
       "  [0, 0, 0, 0, 0, 0, 3.0, -3.186522, -3.022211, 0.23167214800914909, 0, []]),\n",
       " '尋': (9.0045547342883658,\n",
       "  [3, 0, 0, 3, 0, 0, 2.0, -3.186522, -3.429723, 0.10045547342883654, 0, []]),\n",
       " '對': (7.6114020884062104,\n",
       "  [0, 0, 0, 0, 0, 0, 4.0, -3.186522, -2.758062, 0.36114020884062109, 0, []]),\n",
       " '小': (5.9667328001930739,\n",
       "  [0, 0, 0, 0, 0, 0, 4.0, -3.186522, -2.789712, 0.19667328001930739, 0, []]),\n",
       " '就': (6.364717937680652,\n",
       "  [0, 0, 0, 0, 0, 0, 4.0, -3.186522, -2.670014, 0.23647179376806518, 0, []]),\n",
       " '山': (5.6202420559328221,\n",
       "  [0, 0, 0, 0, 0, 0, 3.0, -3.186522, -3.036621, 0.26202420559328216, 0, []]),\n",
       " '工': (5.7913351720903794,\n",
       "  [0, 0, 0, 0, 0, 0, 4.0, -3.186522, -2.847098, 0.17913351720903795, 0, []]),\n",
       " '己': (5.7637605492838766,\n",
       "  [0, 0, 0, 0, 0, 0, 3.0, -3.186522, -3.963064, 0.27637605492838763, 0, []]),\n",
       " '已': (5.094404777609471,\n",
       "  [0, 0, 0, 0, 0, 0, 3.0, -3.186522, -2.807009, 0.20944047776094715, 0, []]),\n",
       " '市': (6.2202863264590285,\n",
       "  [0, 0, 0, 0, 0, 0, 3.0, -3.186522, -3.013668, 0.32202863264590281, 0, []]),\n",
       " '希': (5.4566319261363514,\n",
       "  [0, 0, 0, 0, 0, 0, 3.0, -3.186522, -3.288463, 0.24566319261363517, 0, []]),\n",
       " '帝': (5.2760616431898653,\n",
       "  [0, 0, 0, 0, 0, 0, 2.0, -3.186522, -3.757116, 0.32760616431898654, 0, []]),\n",
       " '帳': (5.2226483982582677,\n",
       "  [0, 0, 0, 0, 0, 0, 1.0, -3.186522, -3.709608, 0.4222648398258268, 0, []]),\n",
       " '幫': (5.8378768372418275,\n",
       "  [0, 0, 0, 0, 0, 0, 3.0, -3.186522, -3.387723, 0.28378768372418278, 0, []]),\n",
       " '平': (5.0420007729953333,\n",
       "  [0, 0, 0, 0, 0, 0, 3.0, -3.186522, -2.991294, 0.20420007729953329, 0, []]),\n",
       " '年': (5.5504324566483829,\n",
       "  [0, 0, 0, 0, 0, 0, 4.0, -3.186522, -3.021595, 0.15504324566483826, 0, []]),\n",
       " '幸': (7.1607607863645333,\n",
       "  [2, 0, 0, 2, 0, 0, 2.0, -3.186522, -3.650776, 0.11607607863645335, 0, []]),\n",
       " '度': (5.0267575183627757,\n",
       "  [0, 0, 0, 0, 0, 0, 3.0, -3.186522, -3.263055, 0.20267575183627756, 0, []]),\n",
       " '建': (5.36588277803747,\n",
       "  [0, 0, 0, 0, 0, 0, 3.0, -3.186522, -2.943005, 0.23658827780374697, 0, []]),\n",
       " '弟': (7.0378277277084589,\n",
       "  [0, 0, 0, 0, 0, 0, 3.0, -3.186522, -3.686246, 0.40378277277084584, 0, []]),\n",
       " '張': (5.6284718961662907,\n",
       "  [0, 0, 0, 0, 0, 0, 3.0, -3.186522, -3.204897, 0.26284718961662906, 0, []]),\n",
       " '強': (6.3850737911590336,\n",
       "  [0, 0, 0, 2, 0, 0, 3.0, -3.186522, -3.052185, 0.13850737911590333, 0, []]),\n",
       " '当': (5.2132574392213797,\n",
       "  [0, 0, 0, 0, 0, 0, 4.0, -3.186522, -99.0, 0.12132574392213802, 0, []]),\n",
       " '很': (6.0780542485567608,\n",
       "  [0, 0, 0, 0, 0, 0, 4.0, -3.186522, -2.886283, 0.20780542485567607, 0, []]),\n",
       " '後': (5.2546491514921998,\n",
       "  [0, 0, 0, 0, 0, 0, 4.0, -3.186522, -2.737429, 0.12546491514921998, 0, []]),\n",
       " '得': (6.0461362332864352,\n",
       "  [0, 0, 0, 0, 0, 0, 4.0, -3.186522, -2.782556, 0.20461362332864352, 0, []]),\n",
       " '微': (5.4127535864684111,\n",
       "  [0, 0, 0, 0, 0, 0, 2.0, -3.186522, -3.370896, 0.34127535864684111, 0, []]),\n",
       " '德': (6.4147948514035207,\n",
       "  [0, 0, 0, 0, 0, 0, 2.0, -3.186522, -3.216307, 0.44147948514035207, 0, []]),\n",
       " '心': (12.194209623267955,\n",
       "  [0,\n",
       "   0,\n",
       "   0,\n",
       "   3,\n",
       "   0,\n",
       "   0,\n",
       "   4.0,\n",
       "   -3.186522,\n",
       "   -2.929855,\n",
       "   0.41942096232679549,\n",
       "   1,\n",
       "   ['B1_training_utf8.sgml']]),\n",
       " '必': (5.2757762274736351,\n",
       "  [0, 0, 0, 0, 0, 0, 3.0, -3.186522, -3.100314, 0.22757762274736346, 0, []]),\n",
       " '志': (5.1116546120152098,\n",
       "  [0, 0, 0, 0, 0, 0, 2.0, -3.186522, -3.481514, 0.311165461201521, 0, []]),\n",
       " '念': (6.1850447941244653,\n",
       "  [0, 0, 0, 0, 0, 0, 3.0, -3.186522, -3.459038, 0.31850447941244653, 0, []]),\n",
       " '性': (7.8629508284817931,\n",
       "  [2, 0, 0, 2, 0, 0, 3.0, -3.186522, -2.950254, 0.086295082848179355, 0, []]),\n",
       " '恭': (5.0642366852064784,\n",
       "  [0, 0, 0, 0, 0, 0, 1.0, -3.186522, -4.00244, 0.40642366852064782, 0, []]),\n",
       " '您': (5.4132736450737617,\n",
       "  [0, 0, 0, 0, 0, 0, 3.0, -3.186522, -3.524371, 0.24132736450737619, 0, []]),\n",
       " '悻': (5.8476840242656269,\n",
       "  [2, 0, 0, 2, 0, 0, 0, -3.186522, -5.192806, 0.18476840242656273, 0, []]),\n",
       " '情': (5.3585550993219364,\n",
       "  [0, 0, 0, 0, 0, 0, 3.0, -3.186522, -2.99649, 0.23585550993219367, 0, []]),\n",
       " '想': (6.53134629615555,\n",
       "  [0, 0, 0, 1, 0, 0, 4.0, -3.186522, -3.138857, 0.15313462961555502, 0, []]),\n",
       " '意': (6.1395117624364826,\n",
       "  [0, 0, 0, 0, 0, 0, 4.0, -3.186522, -3.060854, 0.21395117624364829, 0, []]),\n",
       " '愛': (6.455309075642484,\n",
       "  [0, 0, 0, 0, 0, 0, 3.0, -3.186522, -3.164594, 0.34553090756424837, 0, []]),\n",
       " '感': (5.1904458889921994,\n",
       "  [0, 0, 0, 0, 0, 0, 3.0, -3.186522, -3.033447, 0.21904458889921991, 0, []]),\n",
       " '慎': (7.6952152377643888,\n",
       "  [3, 0, 0, 3, 0, 0, 0.0, -3.186522, -3.942069, 0.16952152377643892, 0, []]),\n",
       " '成': (5.4168700406237553,\n",
       "  [0, 0, 0, 0, 0, 0, 4.0, -3.186522, -2.757057, 0.14168700406237555, 0, []]),\n",
       " '我': (7.2643685664813802,\n",
       "  [0, 0, 0, 0, 0, 0, 4.0, -3.186522, -2.85963, 0.32643685664813804, 0, []]),\n",
       " '所': (6.3500145221357034,\n",
       "  [0, 0, 0, 0, 0, 0, 4.0, -3.186522, -2.741607, 0.23500145221357033, 0, []]),\n",
       " '手': (5.6365409946087759,\n",
       "  [0, 0, 0, 0, 0, 0, 3.0, -3.186522, -3.003516, 0.26365409946087753, 0, []]),\n",
       " '打': (5.2993501801707428,\n",
       "  [0, 0, 0, 0, 0, 0, 3.0, -3.186522, -2.972207, 0.22993501801707431, 0, []]),\n",
       " '承': (5.1366091317126443,\n",
       "  [0, 0, 0, 0, 0, 0, 2.0, -3.186522, -3.321545, 0.31366091317126443, 0, []]),\n",
       " '投': (8.3650368912888062,\n",
       "  [0, 0, 0, 0, 0, 0, 3.0, -3.186522, -3.093725, 0.53650368912888058, 0, []]),\n",
       " '拜': (5.4417718657883958,\n",
       "  [0, 0, 0, 0, 0, 0, 2.0, -3.186522, -3.544411, 0.34417718657883956, 0, []]),\n",
       " '持': (6.3169029328853092,\n",
       "  [0, 0, 0, 0, 0, 0, 3.0, -3.186522, -3.340361, 0.33169029328853089, 0, []]),\n",
       " '指': (6.3346306910621939,\n",
       "  [0, 0, 0, 0, 0, 0, 3.0, -3.186522, -2.862607, 0.33346306910621937, 0, []]),\n",
       " '接': (5.6419327831885848,\n",
       "  [0, 0, 0, 0, 0, 0, 3.0, -3.186522, -3.035349, 0.26419327831885853, 0, []]),\n",
       " '控': (5.5053538386222556,\n",
       "  [0, 0, 0, 0, 0, 0, 2.0, -3.186522, -3.382041, 0.35053538386222555, 0, []]),\n",
       " '提': (6.1197980047136937,\n",
       "  [0, 0, 0, 0, 0, 0, 4.0, -3.186522, -2.957626, 0.21197980047136933, 0, []]),\n",
       " '支': (6.8330858482924288,\n",
       "  [0, 0, 0, 0, 0, 0, 3.0, -3.186522, -3.192865, 0.3833085848292429, 0, []]),\n",
       " '收': (5.5723455475373811,\n",
       "  [0, 0, 0, 0, 0, 0, 3.0, -3.186522, -3.087235, 0.25723455475373813, 0, []]),\n",
       " '政': (5.3716329519320425,\n",
       "  [0, 0, 0, 0, 0, 0, 3.0, -3.186522, -3.025924, 0.23716329519320423, 0, []]),\n",
       " '故': (5.0965532972902441,\n",
       "  [0, 0, 0, 0, 0, 0, 3.0, -3.186522, -3.349429, 0.2096553297290244, 0, []]),\n",
       " '教': (5.4258859090862277,\n",
       "  [0, 0, 0, 0, 0, 0, 3.0, -3.186522, -2.883588, 0.24258859090862278, 0, []]),\n",
       " '敬': (5.6192507458859193,\n",
       "  [0, 0, 0, 2, 0, 0, 1.0, -3.186522, -3.635334, 0.26192507458859193, 0, []]),\n",
       " '數': (5.0904128691597572,\n",
       "  [0, 0, 0, 0, 0, 0, 3.0, -3.186522, -3.044982, 0.20904128691597573, 0, []]),\n",
       " '文': (6.5645044826664503,\n",
       "  [0, 0, 0, 0, 0, 0, 4.0, -3.186522, -2.886283, 0.25645044826664504, 0, []]),\n",
       " '新': (9.3312382892548644,\n",
       "  [0, 0, 0, 3, 0, 0, 4.0, -3.186522, -2.886734, 0.23312382892548639, 0, []]),\n",
       " '於': (7.0096786198310195,\n",
       "  [0, 0, 0, 0, 0, 0, 4.0, -3.186522, -2.869922, 0.30096786198310194, 0, []]),\n",
       " '日': (5.1011058084239309,\n",
       "  [0, 0, 0, 0, 0, 0, 3.0, -3.186522, -2.899552, 0.21011058084239309, 0, []]),\n",
       " '时': (5.3411134083242846,\n",
       "  [0, 0, 0, 0, 0, 0, 4.0, -3.186522, -99.0, 0.13411134083242846, 0, []]),\n",
       " '昇': (7.0883941711713057,\n",
       "  [2, 0, 0, 2, 0, 0, 1.0, -3.186522, -3.898242, 0.20883941711713053, 0, []]),\n",
       " '明': (6.4998707326187386,\n",
       "  [0, 0, 0, 0, 0, 0, 3.0, -3.186522, -2.999989, 0.34998707326187384, 0, []]),\n",
       " '星': (6.5980774933471285,\n",
       "  [0, 0, 0, 1, 0, 0, 3.0, -3.186522, -3.358691, 0.25980774933471285, 0, []]),\n",
       " '是': (7.0348575141799152,\n",
       "  [0, 0, 0, 0, 0, 0, 4.0, -3.186522, -2.564737, 0.3034857514179915, 0, []]),\n",
       " '景': (5.0936406124185449,\n",
       "  [0, 0, 0, 1, 0, 0, 2.0, -3.186522, -3.337805, 0.20936406124185447, 0, []]),\n",
       " '更': (6.5948148359159937,\n",
       "  [0, 0, 0, 1, 0, 0, 3.0, -3.186522, -2.906106, 0.25948148359159939, 0, []]),\n",
       " '書': (5.7861239113912539,\n",
       "  [0, 0, 0, 0, 0, 0, 3.0, -3.186522, -3.11762, 0.27861239113912539, 0, []]),\n",
       " '曾': (5.7692760674046131,\n",
       "  [0, 0, 0, 0, 0, 0, 3.0, -3.186522, -3.13087, 0.27692760674046135, 0, []]),\n",
       " '最': (6.352147264183003,\n",
       "  [0, 0, 0, 0, 0, 0, 4.0, -3.186522, -2.83572, 0.23521472641830032, 0, []]),\n",
       " '會': (7.1774492106723873,\n",
       "  [0, 0, 0, 0, 0, 0, 4.0, -3.186522, -2.811158, 0.31774492106723873, 0, []]),\n",
       " '月': (5.1731336067333942,\n",
       "  [0, 0, 0, 0, 0, 0, 3.0, -3.186522, -3.326483, 0.21731336067333942, 0, []]),\n",
       " '有': (6.7874744404357008,\n",
       "  [0, 0, 0, 0, 0, 0, 4.0, -3.186522, -2.649945, 0.2787474440435701, 0, []]),\n",
       " '朋': (5.2171007194619925,\n",
       "  [0, 0, 0, 0, 0, 0, 3.0, -3.186522, -3.526334, 0.22171007194619921, 0, []]),\n",
       " '服': (5.4604410139467401,\n",
       "  [0, 0, 0, 0, 0, 0, 3.0, -3.186522, -3.069013, 0.24604410139467403, 0, []]),\n",
       " '望': (5.6337668193032995,\n",
       "  [0, 0, 0, 0, 0, 0, 3.0, -3.186522, -3.526334, 0.26337668193032993, 0, []]),\n",
       " '期': (5.4324578584259573,\n",
       "  [0, 0, 0, 0, 0, 0, 3.0, -3.186522, -3.116853, 0.24324578584259579, 0, []]),\n",
       " '本': (6.9534538159946608,\n",
       "  [0, 0, 0, 0, 0, 0, 4.0, -3.186522, -2.921468, 0.29534538159946611, 0, []]),\n",
       " '李': (5.32697844480073,\n",
       "  [0, 0, 0, 0, 0, 0, 3.0, -3.186522, -3.308246, 0.23269784448007302, 0, []]),\n",
       " '杏': (6.1233999876736354,\n",
       "  [2, 0, 0, 2, 0, 0, 0.0, -3.186522, -4.229191, 0.21233999876736354, 0, []]),\n",
       " '東': (5.3588187588110241,\n",
       "  [0, 0, 0, 0, 0, 0, 3.0, -3.186522, -3.087235, 0.23588187588110238, 0, []]),\n",
       " '林': (5.0943425972995957,\n",
       "  [0, 0, 0, 0, 0, 0, 3.0, -3.186522, -3.159492, 0.2094342597299596, 0, []]),\n",
       " '桑': (5.2918019579840001,\n",
       "  [0, 0, 0, 2, 0, 0, 1.0, -3.186522, -4.116222, 0.22918019579840002, 0, []]),\n",
       " '業': (5.7224135751236513,\n",
       "  [0, 0, 0, 0, 0, 0, 3.0, -3.186522, -3.113039, 0.27224135751236511, 0, []]),\n",
       " '樂': (5.1564268144965357,\n",
       "  [0, 0, 0, 0, 0, 0, 3.0, -3.186522, -3.204897, 0.21564268144965357, 0, []]),\n",
       " '標': (5.5728102333900775,\n",
       "  [0, 0, 0, 0, 0, 0, 3.0, -3.186522, -3.194694, 0.25728102333900771, 0, []]),\n",
       " '機': (6.4244381966120123,\n",
       "  [0, 0, 0, 0, 0, 0, 4.0, -3.186522, -2.986159, 0.24244381966120121, 0, []]),\n",
       " '檔': (5.5194117894036561,\n",
       "  [0, 0, 0, 0, 0, 0, 3.0, -3.186522, -3.552693, 0.25194117894036561, 0, []]),\n",
       " '權': (6.1347424554953562,\n",
       "  [0, 0, 0, 0, 0, 0, 3.0, -3.186522, -3.245188, 0.31347424554953568, 0, []]),\n",
       " '欣': (6.7135251578402286,\n",
       "  [0, 0, 0, 3, 0, 0, 2.0, -3.186522, -3.49963, 0.17135251578402283, 0, []]),\n",
       " '歌': (5.134428756118071,\n",
       "  [0, 0, 0, 0, 0, 0, 3.0, -3.186522, -3.331479, 0.21344287561180705, 0, []]),\n",
       " '歡': (5.6914465138270467,\n",
       "  [0, 0, 0, 0, 0, 0, 3.0, -3.186522, -3.492293, 0.26914465138270466, 0, []]),\n",
       " '正': (5.5881533488786035,\n",
       "  [0, 0, 0, 0, 0, 0, 3.0, -3.186522, -2.894012, 0.25881533488786035, 0, []]),\n",
       " '此': (6.0322961652712417,\n",
       "  [0, 0, 0, 0, 0, 0, 3.0, -3.186522, -3.153615, 0.30322961652712416, 0, []]),\n",
       " '比': (5.2493381259442256,\n",
       "  [0, 0, 0, 0, 0, 0, 3.0, -3.186522, -2.917092, 0.22493381259442258, 0, []]),\n",
       " '民': (5.1794601268263278,\n",
       "  [0, 0, 0, 0, 0, 0, 3.0, -3.186522, -3.009459, 0.21794601268263281, 0, []]),\n",
       " '永': (5.6879765122982437,\n",
       "  [0, 0, 0, 0, 0, 0, 2.0, -3.186522, -3.310634, 0.36879765122982433, 0, []]),\n",
       " '求': (5.2286631060094839,\n",
       "  [0, 0, 0, 0, 0, 0, 3.0, -3.186522, -3.316662, 0.22286631060094839, 0, []]),\n",
       " '決': (5.0585835059383477,\n",
       "  [0, 0, 0, 0, 0, 0, 3.0, -3.186522, -3.197453, 0.20585835059383478, 0, []]),\n",
       " '沁': (7.7962059733475026,\n",
       "  [3, 0, 0, 3, 0, 0, 0.0, -3.186522, -4.620852, 0.17962059733475025, 0, []]),\n",
       " '沈': (8.9076179186356352,\n",
       "  [3, 0, 0, 3, 0, 0, 1.0, -3.186522, -3.481514, 0.19076179186356351, 0, []]),\n",
       " '沉': (5.9071406484602873,\n",
       "  [3, 0, 0, 0, 0, 0, 1.0, -3.186522, -3.64042, 0.19071406484602874, 0, []]),\n",
       " '沒': (5.9917537181249303,\n",
       "  [0, 0, 0, 0, 0, 0, 4.0, -3.186522, -2.981085, 0.19917537181249301, 0, []]),\n",
       " '法': (6.6357062892633429,\n",
       "  [0, 0, 0, 0, 0, 0, 4.0, -3.186522, -2.978291, 0.26357062892633432, 0, []]),\n",
       " '泩': (5.3496272103040985,\n",
       "  [2, 0, 0, 0, 0, 0, 0, -3.186522, -5.848711, 0.33496272103040986, 0, []]),\n",
       " '泰': (5.5440933039850027,\n",
       "  [0, 0, 0, 0, 0, 0, 1.0, -3.186522, -3.567578, 0.45440933039850023, 0, []]),\n",
       " '淨': (5.0504794777915798,\n",
       "  [0, 0, 0, 2, 0, 0, 1.0, -3.186522, -3.833789, 0.20504794777915794, 0, []]),\n",
       " '深': (13.213109333016755,\n",
       "  [4, 0, 0, 4, 0, 0, 2.0, -3.186522, -3.153615, 0.32131093330167548, 0, []]),\n",
       " '清': (5.1520052090944546,\n",
       "  [0, 0, 0, 0, 0, 0, 3.0, -3.186522, -3.034714, 0.21520052090944547, 0, []]),\n",
       " '滲': (7.0757863459298234,\n",
       "  [3, 0, 0, 3, 0, 0, 0.0, -3.186522, -4.116222, 0.10757863459298236, 0, []]),\n",
       " '瀋': (7.4080426980940075,\n",
       "  [3, 0, 0, 3, 0, 0, 0, -3.186522, -5.040418, 0.14080426980940081, 0, []]),\n",
       " '灣': (5.8227065995710277,\n",
       "  [0, 0, 0, 0, 0, 0, 3.0, -3.186522, -4.101182, 0.28227065995710282, 0, []]),\n",
       " '為': (7.2789950424902292,\n",
       "  [0, 0, 0, 0, 0, 0, 4.0, -3.186522, -2.649422, 0.32789950424902292, 0, []]),\n",
       " '無': (6.3750072471012089,\n",
       "  [0, 0, 0, 0, 0, 0, 4.0, -3.186522, -2.833719, 0.23750072471012093, 0, []]),\n",
       " '焮': (6.5535845158950021,\n",
       "  [4, 0, 0, 0, 0, 0, 0, -3.186522, -99.0, 0.25535845158950016, 0, []]),\n",
       " '然': (5.246403703168971,\n",
       "  [0, 0, 0, 0, 0, 0, 4.0, -3.186522, -3.420374, 0.12464037031689713, 0, []]),\n",
       " '燊': (6.8718402738829809,\n",
       "  [4, 0, 0, 0, 0, 0, 0, -3.186522, -5.625175, 0.28718402738829807, 0, []]),\n",
       " '爲': (7.1042715094939481,\n",
       "  [0, 0, 0, 0, 0, 0, 4.0, -3.186522, -99.0, 0.31042715094939483, 0, []]),\n",
       " '片': (5.015147868284453,\n",
       "  [0, 0, 0, 0, 0, 0, 3.0, -3.186522, -3.376433, 0.20151478682844531, 0, []]),\n",
       " '牲': (7.2124217663288794,\n",
       "  [2, 0, 0, 2, 0, 0, 1.0, -3.186522, -4.459335, 0.22124217663288792, 0, []]),\n",
       " '王': (5.9907373699360482,\n",
       "  [0, 0, 0, 0, 0, 0, 3.0, -3.186522, -3.227037, 0.29907373699360484, 0, []]),\n",
       " '珅': (5.4653671213957873,\n",
       "  [4, 0, 0, 0, 0, 0, 0, -3.186522, -99.0, 0.14653671213957875, 0, []]),\n",
       " '現': (5.0447189563008212,\n",
       "  [0, 0, 0, 0, 0, 0, 4.0, -3.186522, -2.964586, 0.10447189563008208, 0, []]),\n",
       " '球': (5.3239462287304331,\n",
       "  [0, 0, 0, 0, 0, 0, 3.0, -3.186522, -3.242109, 0.23239462287304335, 0, []]),\n",
       " '理': (6.5012186352482253,\n",
       "  [0, 0, 0, 0, 0, 0, 3.0, -3.186522, -3.110011, 0.3501218635248225, 0, []]),\n",
       " '甚': (9.0794785879384783,\n",
       "  [3, 0, 0, 3, 0, 0, 2.0, -3.186522, -3.197453, 0.1079478587938478, 0, []]),\n",
       " '生': (8.8452572440357411,\n",
       "  [2, 0, 0, 2, 0, 0, 4.0, -3.186522, -2.811917, 0.084525724403574115, 0, []]),\n",
       " '甥': (5.7991390388329789,\n",
       "  [2, 0, 0, 2, 0, 0, 0, -3.186522, -5.848711, 0.17991390388329789, 0, []]),\n",
       " '用': (6.6509808014133096,\n",
       "  [0, 0, 0, 0, 0, 0, 4.0, -3.186522, -2.922446, 0.26509808014133102, 0, []]),\n",
       " '由': (6.2182418468667162,\n",
       "  [0, 0, 0, 0, 0, 0, 3.0, -3.186522, -3.023445, 0.32182418468667162, 0, []]),\n",
       " '申': (12.025496906617551,\n",
       "  [4, 0, 0, 4, 0, 0, 1.0, -3.186522, -3.339081, 0.30254969066175508, 0, []]),\n",
       " '电': (6.5804356220397331,\n",
       "  [0, 0, 0, 0, 0, 0, 4.0, -3.186522, -99.0, 0.25804356220397329, 0, []]),\n",
       " '画': (6.0094749101968734,\n",
       "  [0, 0, 0, 0, 0, 0, 3.0, -3.186522, -99.0, 0.30094749101968732, 0, []]),\n",
       " '當': (6.5913466161014433,\n",
       "  [0, 0, 0, 0, 0, 0, 4.0, -3.186522, -2.870791, 0.25913466161014431, 0, []]),\n",
       " '發': (6.043400459431961,\n",
       "  [0, 0, 0, 0, 0, 0, 4.0, -3.186522, -2.816881, 0.20434004594319616, 0, []]),\n",
       " '的': (7.7394632835334374,\n",
       "  [0, 0, 0, 0, 0, 0, 4.0, -3.186522, -2.208272, 0.37394632835334374, 0, []]),\n",
       " '益': (5.398972884321747,\n",
       "  [0, 0, 0, 0, 0, 0, 2.0, -3.186522, -3.79926, 0.3398972884321747, 0, []]),\n",
       " '盛': (6.564713696267062,\n",
       "  [1, 0, 0, 1, 0, 0, 1.0, -3.186522, -3.445764, 0.35647136962670622, 0, []]),\n",
       " '盡': (5.4960865059351249,\n",
       "  [0, 0, 0, 2, 0, 0, 2.0, -3.186522, -3.368154, 0.1496086505935125, 0, []]),\n",
       " '相': (8.4838380149037249,\n",
       "  [0, 0, 0, 2, 0, 0, 3.0, -3.186522, -2.827377, 0.34838380149037257, 0, []]),\n",
       " '省': (5.3976740972178572,\n",
       "  [1, 0, 0, 1, 0, 0, 2.0, -3.186522, -3.341645, 0.13976740972178575, 0, []]),\n",
       " '看': (6.6769926557580899,\n",
       "  [0, 0, 0, 0, 0, 0, 4.0, -3.186522, -2.946097, 0.26769926557580903, 0, []]),\n",
       " '真': (6.8477868857611908,\n",
       "  [0, 0, 0, 0, 0, 0, 4.0, -3.186522, -3.0697, 0.2847786885761191, 0, []]),\n",
       " '督': (5.3906055861568563,\n",
       "  [0, 0, 0, 0, 0, 0, 2.0, -3.186522, -3.947224, 0.33906055861568563, 0, []]),\n",
       " '知': (6.0382515562281904,\n",
       "  [0, 0, 0, 0, 0, 0, 4.0, -3.186522, -3.142906, 0.20382515562281903, 0, []]),\n",
       " '研': (5.0219233629483568,\n",
       "  [0, 0, 0, 0, 0, 0, 3.0, -3.186522, -3.06288, 0.20219233629483563, 0, []]),\n",
       " '砷': (8.7990892216008731,\n",
       "  [4, 0, 0, 4, 0, 0, 0, -3.186522, -5.42962, 0.079908922160087298, 0, []]),\n",
       " '碁': (5.2847348424357623,\n",
       "  [0, 0, 1, 0, 0, 0, 0, -3.186522, -99.0, 0.42847348424357623, 0, []]),\n",
       " '確': (5.0754527180058009,\n",
       "  [0, 0, 0, 0, 0, 0, 3.0, -3.186522, -3.342933, 0.20754527180058013, 0, []]),\n",
       " '碼': (5.5603315542684451,\n",
       "  [0, 0, 0, 0, 0, 0, 2.0, -3.186522, -3.718703, 0.35603315542684449, 0, []]),\n",
       " '社': (6.5154885920188335,\n",
       "  [0, 0, 0, 0, 0, 0, 3.0, -3.186522, -3.030925, 0.35154885920188339, 0, []]),\n",
       " '神': (11.553940247462229,\n",
       "  [3, 0, 0, 3, 0, 0, 3.0, -3.186522, -3.149465, 0.25539402474622286, 0, []]),\n",
       " '票': (5.7569947808584683,\n",
       "  [0, 0, 0, 0, 0, 0, 2.0, -3.186522, -3.536284, 0.37569947808584681, 0, []]),\n",
       " '稿': (6.4182654655588403,\n",
       "  [4, 0, 0, 0, 0, 0, 1.0, -3.186522, -3.95772, 0.141826546555884, 0, []]),\n",
       " '立': (5.0289021566691003,\n",
       "  [0, 0, 0, 0, 0, 0, 3.0, -3.186522, -3.066277, 0.20289021566691004, 0, []]),\n",
       " '站': (6.106004638839746,\n",
       "  [0, 0, 0, 0, 0, 0, 4.0, -3.186522, -3.29999, 0.21060046388397458, 0, []]),\n",
       " '章': (6.583823063696828,\n",
       "  [0, 0, 0, 0, 0, 0, 4.0, -3.186522, -3.594345, 0.25838230636968285, 0, []]),\n",
       " '笑': (5.5323874854903536,\n",
       "  [0, 0, 0, 0, 0, 0, 3.0, -3.186522, -3.335263, 0.25323874854903539, 0, []]),\n",
       " '笙': (6.604981860730188,\n",
       "  [2, 0, 0, 2, 0, 0, 0.0, -3.186522, -4.368395, 0.26049818607301878, 0, []]),\n",
       " '筆': (5.4355456262970208,\n",
       "  [0, 0, 0, 0, 0, 0, 2.0, -3.186522, -3.386296, 0.34355456262970213, 0, []]),\n",
       " '等': (5.4629896398842597,\n",
       "  [0, 0, 0, 0, 0, 0, 3.0, -3.186522, -2.587005, 0.24629896398842591, 0, []]),\n",
       " '管': (5.9182421734996655,\n",
       "  [0, 0, 0, 0, 0, 0, 3.0, -3.186522, -3.056165, 0.2918242173499665, 0, []]),\n",
       " '籛': (5.0993967268464466,\n",
       "  [0, 0, 0, 0, 0, 0, 0, -3.186522, -99.0, 0.50993967268464468, 0, []]),\n",
       " '精': (5.2912318125327156,\n",
       "  [0, 0, 0, 1, 0, 0, 2.0, -3.186522, -3.101792, 0.22912318125327155, 0, []]),\n",
       " '紳': (9.4422705515105747,\n",
       "  [4, 0, 0, 4, 0, 0, 0.0, -3.186522, -4.426859, 0.14422705515105738, 0, []]),\n",
       " '絡': (5.3161273438082368,\n",
       "  [0, 0, 0, 0, 0, 0, 2.0, -3.186522, -4.396644, 0.33161273438082373, 0, []]),\n",
       " '給': (6.6035714671763452,\n",
       "  [0, 0, 0, 0, 0, 0, 3.0, -3.186522, -2.987864, 0.36035714671763452, 0, []]),\n",
       " '統': (5.2766265518095619,\n",
       "  [0, 0, 0, 0, 0, 0, 3.0, -3.186522, -3.26413, 0.22766265518095616, 0, []]),\n",
       " '經': (6.8496884624960908,\n",
       "  [0, 0, 0, 1, 0, 0, 3.0, -3.186522, -2.881354, 0.28496884624960905, 0, []]),\n",
       " '網': (5.9862215260841207,\n",
       "  [0, 0, 0, 0, 0, 0, 3.0, -3.186522, -3.172361, 0.29862215260841207, 0, []]),\n",
       " '總': (6.1338544837154139,\n",
       "  [0, 0, 0, 0, 0, 0, 3.0, -3.186522, -3.004698, 0.31338544837154136, 0, []]),\n",
       " '繼': (5.2692803130784176,\n",
       "  [0, 0, 0, 0, 0, 0, 2.0, -3.186522, -3.346819, 0.32692803130784176, 0, []]),\n",
       " '罧': (5.8540240842911322,\n",
       "  [3, 0, 0, 0, 0, 0, 0, -3.186522, -99.0, 0.28540240842911324, 0, []]),\n",
       " '美': (5.342976209145931,\n",
       "  [0, 0, 0, 0, 0, 0, 3.0, -3.186522, -2.871226, 0.23429762091459308, 0, []]),\n",
       " '群': (5.1453720657359145,\n",
       "  [0, 0, 0, 0, 0, 0, 2.0, -3.186522, -3.35074, 0.31453720657359141, 0, []]),\n",
       " '義': (7.6294165156013767,\n",
       "  [0, 0, 0, 0, 0, 0, 3.0, -3.186522, -3.285063, 0.46294165156013767, 0, []]),\n",
       " '老': (5.1296336488894854,\n",
       "  [0, 0, 0, 0, 0, 0, 3.0, -3.186522, -2.916608, 0.21296336488894854, 0, []]),\n",
       " '者': (5.8366159189228055,\n",
       "  [0, 0, 0, 0, 0, 0, 3.0, -3.186522, -2.91276, 0.28366159189228057, 0, []]),\n",
       " '而': (6.0467085740695499,\n",
       "  [0, 0, 0, 0, 0, 0, 4.0, -3.186522, -2.653885, 0.20467085740695495, 0, []]),\n",
       " '耶': (5.3470306593125789,\n",
       "  [0, 0, 0, 0, 0, 0, 3.0, -3.186522, -3.576318, 0.23470306593125789, 0, []]),\n",
       " '联': (6.1919119446367175,\n",
       "  [0, 0, 0, 0, 0, 0, 3.0, -3.186522, -99.0, 0.31919119446367172, 0, []]),\n",
       " '聖': (7.1964956835596681,\n",
       "  [1, 0, 0, 1, 0, 0, 2.0, -3.186522, -3.436068, 0.31964956835596681, 0, []]),\n",
       " '聯': (6.5215604150808488,\n",
       "  [0, 0, 0, 0, 0, 0, 3.0, -3.186522, -3.123027, 0.35215604150808494, 0, []]),\n",
       " '聲': (8.9340792173330854,\n",
       "  [2, 0, 0, 2, 0, 0, 3.0, -3.186522, -3.11228, 0.19340792173330862, 0, []]),\n",
       " '能': (6.0006797472552673,\n",
       "  [0, 0, 0, 0, 0, 0, 4.0, -3.186522, -2.91468, 0.20006797472552668, 0, []]),\n",
       " '脤': (6.0, [3, 0, 0, 3, 0, 0, 0, -3.186522, -99.0, 0.0, 0, []]),\n",
       " '腎': (6.7451352364326649,\n",
       "  [3, 0, 0, 3, 0, 0, 0.0, -3.186522, -4.058956, 0.07451352364326648, 0, []]),\n",
       " '腦': (5.7949262421706589,\n",
       "  [0, 0, 0, 0, 0, 0, 3.0, -3.186522, -3.574116, 0.27949262421706589, 0, []]),\n",
       " '自': (6.6627235954494299,\n",
       "  [0, 0, 0, 0, 0, 0, 4.0, -3.186522, -2.754056, 0.26627235954494294, 0, []]),\n",
       " '臺': (6.2075928039246548,\n",
       "  [0, 0, 0, 0, 0, 0, 3.0, -3.186522, -3.182938, 0.32075928039246548, 0, []]),\n",
       " '與': (6.3783987978208074,\n",
       "  [0, 0, 0, 0, 0, 0, 3.0, -3.186522, -2.589728, 0.33783987978208074, 0, []]),\n",
       " '興': (12.376202025776653,\n",
       "  [4, 0, 0, 2, 0, 0, 3.0, -3.186522, -3.217272, 0.33762020257766534, 0, []]),\n",
       " '良': (5.1074200118842832,\n",
       "  [0, 0, 0, 0, 0, 0, 2.0, -3.186522, -3.376433, 0.31074200118842832, 0, []]),\n",
       " '芯': (9.3666522531362393,\n",
       "  [4, 0, 0, 4, 0, 0, 0.0, -3.186522, -5.295268, 0.13666522531362399, 0, []]),\n",
       " '若': (5.2861787018846673,\n",
       "  [0, 0, 0, 0, 0, 0, 3.0, -3.186522, -3.219208, 0.22861787018846677, 0, []]),\n",
       " '英': (5.4558844042967323,\n",
       "  [0, 0, 0, 0, 0, 0, 3.0, -3.186522, -3.174106, 0.2455884404296732, 0, []]),\n",
       " '莘': (10.286330833024532,\n",
       "  [4, 0, 0, 4, 0, 0, 0.0, -3.186522, -5.040418, 0.2286330833024533, 0, []]),\n",
       " '華': (7.7701045671808329,\n",
       "  [0, 0, 0, 0, 0, 0, 3.0, -3.186522, -3.208667, 0.47701045671808329, 0, []]),\n",
       " '蔘': (5.3734731821863306,\n",
       "  [4, 0, 0, 0, 0, 0, 0, -3.186522, -5.848711, 0.13734731821863311, 0, []]),\n",
       " '蕈': (6.2520629261866514,\n",
       "  [4,\n",
       "   0,\n",
       "   0,\n",
       "   0,\n",
       "   0,\n",
       "   0,\n",
       "   0,\n",
       "   -3.186522,\n",
       "   -4.731688,\n",
       "   0.12520629261866517,\n",
       "   1,\n",
       "   ['2東東錯別字.txt']]),\n",
       " '薪': (5.3180933835428501,\n",
       "  [0, 0, 0, 3, 0, 0, 1.0, -3.186522, -3.770715, 0.13180933835428499, 0, []]),\n",
       " '號': (6.2537800022553967,\n",
       "  [0, 0, 0, 0, 0, 0, 3.0, -3.186522, -3.330224, 0.32537800022553964, 0, []]),\n",
       " '蜃': (6.8127517216179765,\n",
       "  [3, 0, 0, 3, 0, 0, 0, -3.186522, -6.40756, 0.081275172161797693, 0, []]),\n",
       " '行': (9.4155382869502446,\n",
       "  [2, 0, 0, 1, 0, 0, 3.0, -3.186522, -2.903285, 0.34155382869502438, 0, []]),\n",
       " '表': (5.7366497652584556,\n",
       "  [0, 0, 0, 0, 0, 0, 3.0, -3.186522, -2.780431, 0.27366497652584554, 0, []]),\n",
       " '要': (6.324801657830676,\n",
       "  [0, 0, 0, 0, 0, 0, 4.0, -3.186522, -2.877363, 0.23248016578306763, 0, []]),\n",
       " '觀': (5.4330590023000145,\n",
       "  [0, 0, 0, 0, 0, 0, 3.0, -3.186522, -3.073844, 0.24330590023000143, 0, []]),\n",
       " '言': (8.287723605415124,\n",
       "  [0, 1, 1, 0, 1, 0, 3.0, -3.186522, -3.321545, 0.22877236054151234, 0, []]),\n",
       " '計': (5.6935861405261239,\n",
       "  [0, 0, 0, 0, 1, 0, 3.0, -3.186522, -3.081547, 0.16935861405261241, 0, []]),\n",
       " '訊': (12.975568217281145,\n",
       "  [4,\n",
       "   0,\n",
       "   0,\n",
       "   0,\n",
       "   0,\n",
       "   0,\n",
       "   4.0,\n",
       "   -3.186522,\n",
       "   -3.516608,\n",
       "   0.39755682172811446,\n",
       "   1,\n",
       "   ['2東東錯別字.txt']]),\n",
       " '託': (7.4956708780110919,\n",
       "  [0, 0, 0, 0, 0, 0, 1.0, -3.186522, -4.147961, 0.64956708780110917, 0, []]),\n",
       " '記': (5.8274957321381589,\n",
       "  [0, 0, 0, 0, 0, 0, 3.0, -3.186522, -3.110766, 0.28274957321381583, 0, []]),\n",
       " '設': (5.0519149466811548,\n",
       "  [0, 0, 0, 0, 0, 0, 3.0, -3.186522, -2.998236, 0.20519149466811548, 0, []]),\n",
       " '許': (5.6216934682733228,\n",
       "  [0, 0, 0, 0, 0, 0, 3.0, -3.186522, -3.213427, 0.26216934682733234, 0, []]),\n",
       " '訴': (5.9054820553352911,\n",
       "  [0, 0, 0, 0, 0, 0, 3.0, -3.186522, -3.613153, 0.29054820553352906, 0, []]),\n",
       " '話': (5.7831607881686544,\n",
       "  [0, 0, 0, 0, 0, 0, 3.0, -3.186522, -3.440889, 0.27831607881686549, 0, []]),\n",
       " '該': (5.3640566357440109,\n",
       "  [0, 0, 0, 0, 0, 0, 3.0, -3.186522, -3.201159, 0.2364056635744011, 0, []]),\n",
       " '認': (6.2818352825894888,\n",
       "  [0, 0, 0, 0, 0, 0, 3.0, -3.186522, -3.026546, 0.32818352825894892, 0, []]),\n",
       " '語': (5.382181041532343,\n",
       "  [0, 0, 0, 0, 0, 0, 3.0, -3.186522, -3.182046, 0.23821810415323424, 0, []]),\n",
       " '誠': (7.7187158479547477,\n",
       "  [0, 0, 0, 0, 0, 0, 2.0, -3.186522, -3.554788, 0.57187158479547473, 0, []]),\n",
       " '說': (7.3596233901097303,\n",
       "  [0, 0, 0, 0, 0, 0, 4.0, -3.186522, -2.746478, 0.33596233901097305, 0, []]),\n",
       " '誰': (5.8392413761396789,\n",
       "  [0, 0, 0, 0, 0, 0, 3.0, -3.186522, -3.603647, 0.2839241376139679, 0, []]),\n",
       " '請': (6.3834864316658066,\n",
       "  [0, 0, 0, 0, 0, 0, 4.0, -3.186522, -3.250367, 0.23834864316658066, 0, []]),\n",
       " '講': (5.6506251248553401,\n",
       "  [0, 0, 0, 1, 0, 0, 3.0, -3.186522, -3.243133, 0.16506251248553397, 0, []]),\n",
       " '謝': (5.9173413517970799,\n",
       "  [0, 0, 0, 0, 0, 0, 3.0, -3.186522, -3.585238, 0.29173413517970798, 0, []]),\n",
       " '證': (6.3218053157905834,\n",
       "  [0, 0, 0, 0, 0, 0, 2.0, -3.186522, -3.282812, 0.43218053157905834, 0, []]),\n",
       " '警': (5.4061955592440212,\n",
       "  [0, 0, 0, 1, 1, 0, 2.0, -3.186522, -3.266286, 0.14061955592440215, 0, []]),\n",
       " '譽': (5.3133354974538562,\n",
       "  [0, 0, 0, 0, 1, 0, 1.0, -3.186522, -4.411489, 0.33133354974538565, 0, []]),\n",
       " '讓': (6.4535045023222182,\n",
       "  [0, 0, 0, 0, 1, 0, 3.0, -3.186522, -3.182046, 0.24535045023222185, 0, []]),\n",
       " '象': (6.8022302286754242,\n",
       "  [0, 0, 0, 2, 0, 0, 3.0, -3.186522, -3.524371, 0.18022302286754244, 0, []]),\n",
       " '責': (5.0392174484098238,\n",
       "  [0, 0, 0, 0, 0, 0, 2.0, -3.186522, -3.582991, 0.30392174484098239, 0, []]),\n",
       " '買': (6.6588132672699079,\n",
       "  [0, 0, 0, 0, 0, 0, 3.0, -3.186522, -3.276126, 0.36588132672699075, 0, []]),\n",
       " '費': (5.387072850290787,\n",
       "  [0, 0, 0, 0, 0, 0, 3.0, -3.186522, -3.291889, 0.23870728502907873, 0, []]),\n",
       " '資': (6.8226818155126576,\n",
       "  [0, 0, 0, 0, 0, 0, 3.0, -3.186522, -2.973858, 0.38226818155126574, 0, []]),\n",
       " '賴': (5.6823070750236289,\n",
       "  [0, 0, 0, 0, 0, 0, 1.0, -3.186522, -3.740696, 0.4682307075023629, 0, []]),\n",
       " '超': (5.9914098204310946,\n",
       "  [0, 0, 0, 0, 0, 0, 3.0, -3.186522, -3.252456, 0.2991409820431094, 0, []]),\n",
       " '跟': (5.0816750063611202,\n",
       "  [0, 0, 0, 0, 0, 0, 3.0, -3.186522, -3.121475, 0.20816750063611206, 0, []]),\n",
       " '路': (5.6546468804641128,\n",
       "  [0, 0, 0, 0, 0, 0, 3.0, -3.186522, -3.116853, 0.26546468804641127, 0, []]),\n",
       " '身': (11.816195211899657,\n",
       "  [4, 0, 0, 4, 0, 0, 3.0, -3.186522, -3.025303, 0.081619521189965738, 0, []]),\n",
       " '較': (5.0729102605223417,\n",
       "  [0, 0, 0, 0, 0, 0, 3.0, -3.186522, -3.07873, 0.20729102605223415, 0, []]),\n",
       " '辛': (5.6302171942385417,\n",
       "  [0, 0, 0, 3, 0, 0, 1.0, -3.186522, -3.587497, 0.16302171942385416, 0, []]),\n",
       " '辦': (5.5670351631300354,\n",
       "  [0, 0, 0, 0, 0, 0, 3.0, -3.186522, -3.131662, 0.25670351631300353, 0, []]),\n",
       " '迅': (5.8607869885765576,\n",
       "  [4, 0, 0, 0, 0, 0, 1.0, -3.186522, -3.721777, 0.086078698857655761, 0, []]),\n",
       " '近': (7.0058555210972839,\n",
       "  [0, 0, 0, 2, 0, 0, 3.0, -3.186522, -3.224084, 0.20058555210972839, 0, []]),\n",
       " '迷': (5.3550355276847945,\n",
       "  [0, 0, 0, 0, 0, 0, 3.0, -3.186522, -3.444133, 0.23550355276847942, 0, []]),\n",
       " '這': (8.6311354859459968,\n",
       "  [0, 1, 0, 0, 1, 0, 4.0, -3.186522, -2.741607, 0.26311354859459957, 0, []]),\n",
       " '通': (6.0421683104110047,\n",
       "  [0, 0, 0, 0, 0, 0, 3.0, -3.186522, -3.021595, 0.30421683104110048, 0, []]),\n",
       " '連': (5.0107872318366997,\n",
       "  [0, 0, 0, 0, 0, 0, 3.0, -3.186522, -3.056831, 0.20107872318367001, 0, []]),\n",
       " '進': (6.6288117182456405,\n",
       "  [0, 0, 0, 2, 0, 0, 3.0, -3.186522, -2.843408, 0.16288117182456405, 0, []]),\n",
       " '過': (6.5984606321397834,\n",
       "  [0, 0, 0, 0, 0, 0, 4.0, -3.186522, -2.786119, 0.25984606321397835, 0, []]),\n",
       " '道': (5.3393099400988699,\n",
       "  [0, 0, 0, 0, 0, 0, 4.0, -3.186522, -3.048896, 0.13393099400988695, 0, []]),\n",
       " '遜': (6.5199698932226582,\n",
       "  [2,\n",
       "   0,\n",
       "   0,\n",
       "   0,\n",
       "   0,\n",
       "   0,\n",
       "   1.0,\n",
       "   -3.186522,\n",
       "   -4.209782,\n",
       "   0.25199698932226583,\n",
       "   1,\n",
       "   ['2東東錯別字.txt']]),\n",
       " '遠': (6.4929072765156022,\n",
       "  [0, 0, 0, 0, 0, 0, 3.0, -3.186522, -3.250367, 0.34929072765156022, 0, []]),\n",
       " '選': (5.313233151690266,\n",
       "  [0, 0, 0, 0, 0, 0, 3.0, -3.186522, -3.063557, 0.2313233151690266, 0, []]),\n",
       " '還': (6.3912935228692156,\n",
       "  [0, 0, 0, 0, 0, 0, 4.0, -3.186522, -2.852067, 0.23912935228692156, 0, []]),\n",
       " '那': (6.0349913151565158,\n",
       "  [0, 0, 0, 0, 0, 0, 4.0, -3.186522, -2.902349, 0.20349913151565152, 0, []]),\n",
       " '邦': (5.5326037015921994,\n",
       "  [0, 0, 0, 0, 0, 0, 1.0, -3.186522, -3.990821, 0.45326037015921994, 0, []]),\n",
       " '都': (6.8773364706249689,\n",
       "  [0, 0, 0, 0, 0, 0, 4.0, -3.186522, -2.727624, 0.28773364706249688, 0, []]),\n",
       " '釁': (9.265749071280446,\n",
       "  [4, 0, 0, 4, 0, 0, 0.0, -3.186522, -5.848711, 0.1265749071280447, 0, []]),\n",
       " '重': (5.1728992037355424,\n",
       "  [0, 0, 0, 0, 0, 0, 3.0, -3.186522, -2.954451, 0.21728992037355421, 0, []]),\n",
       " '金': (8.1097845889105713,\n",
       "  [0, 0, 0, 1, 0, 0, 3.0, -3.186522, -3.041103, 0.41097845889105716, 0, []]),\n",
       " '銀': (6.1467024014336014,\n",
       "  [0, 0, 0, 0, 0, 0, 1.0, -3.186522, -3.386296, 0.51467024014336016, 0, []]),\n",
       " '錢': (5.9431903598676366,\n",
       "  [0, 0, 0, 0, 0, 0, 3.0, -3.186522, -3.4313, 0.29431903598676368, 0, []]),\n",
       " '錯': (5.2579479660214554,\n",
       "  [0, 0, 0, 0, 0, 0, 3.0, -3.186522, -3.450695, 0.22579479660214555, 0, []]),\n",
       " '長': (5.6344486331968806,\n",
       "  [0, 0, 0, 0, 0, 0, 3.0, -3.186522, -2.939425, 0.26344486331968803, 0, []]),\n",
       " '門': (5.0800652391037122,\n",
       "  [0, 0, 0, 0, 0, 0, 3.0, -3.186522, -3.213427, 0.20800652391037128, 0, []]),\n",
       " '關': (5.692070092415574,\n",
       "  [0, 0, 0, 0, 0, 0, 3.0, -3.186522, -3.044982, 0.26920700924155738, 0, []]),\n",
       " '阿': (5.7589190419403158,\n",
       "  [0, 0, 0, 0, 0, 0, 3.0, -3.186522, -3.346819, 0.27589190419403159, 0, []]),\n",
       " '陞': (6.7232016264065004,\n",
       "  [2, 0, 0, 2, 0, 0, 0, -3.186522, -5.42962, 0.27232016264065007, 0, []]),\n",
       " '集': (5.3932836274681701,\n",
       "  [0, 0, 0, 0, 0, 0, 2.0, -3.186522, -3.160338, 0.33932836274681699, 0, []]),\n",
       " '雖': (5.2879991913258086,\n",
       "  [0, 0, 0, 0, 0, 0, 3.0, -3.186522, -3.133251, 0.22879991913258085, 0, []]),\n",
       " '電': (7.9192275482610333,\n",
       "  [0, 0, 0, 0, 0, 0, 4.0, -3.186522, -2.956565, 0.39192275482610334, 0, []]),\n",
       " '需': (5.1096187919029799,\n",
       "  [0, 0, 0, 0, 0, 0, 3.0, -3.186522, -3.152782, 0.21096187919029794, 0, []]),\n",
       " '靖': (5.5009768314738885,\n",
       "  [0, 0, 0, 2, 0, 0, 1.0, -3.186522, -4.38229, 0.25009768314738884, 0, []]),\n",
       " '靜': (5.5583133567738408,\n",
       "  [0, 0, 0, 2, 0, 0, 2.0, -3.186522, -3.462421, 0.15583133567738405, 0, []]),\n",
       " '靠': (5.1722724584647146,\n",
       "  [0, 0, 0, 0, 0, 0, 2.0, -3.186522, -3.490478, 0.31722724584647144, 0, []]),\n",
       " '音': (5.0585576553926659,\n",
       "  [0, 0, 0, 0, 0, 0, 3.0, -3.186522, -3.162036, 0.20585576553926657, 0, []]),\n",
       " '顧': (5.5983638540205556,\n",
       "  [0, 0, 0, 0, 0, 0, 2.0, -3.186522, -3.406719, 0.35983638540205554, 0, []]),\n",
       " '香': (5.4170753868102945,\n",
       "  [0, 0, 0, 1, 0, 0, 2.0, -3.186522, -3.276126, 0.24170753868102951, 0, []]),\n",
       " '馨': (8.5124726508023389,\n",
       "  [4, 0, 0, 3, 0, 0, 0.0, -3.186522, -4.574503, 0.15124726508023395, 0, []]),\n",
       " '駪': (6.0031782496890713,\n",
       "  [4, 0, 0, 0, 0, 0, 0, -3.186522, -99.0, 0.20031782496890715, 0, []]),\n",
       " '高': (5.7117116451919143,\n",
       "  [0, 0, 0, 0, 0, 0, 3.0, -3.186522, -2.836523, 0.27117116451919143, 0, []]),\n",
       " '鯓': (5.5831763277621977,\n",
       "  [4, 0, 0, 0, 0, 0, 0, -3.186522, -99.0, 0.15831763277621982, 0, []]),\n",
       " '麼': (5.4293884118133517,\n",
       "  [0, 0, 0, 0, 0, 0, 4.0, -3.186522, -4.396644, 0.14293884118133515, 0, []]),\n",
       " '黃': (5.3070543992276091,\n",
       "  [0, 0, 0, 0, 0, 0, 3.0, -3.186522, -3.185623, 0.23070543992276094, 0, []]),\n",
       " '龍': (5.0228330658770624,\n",
       "  [0, 0, 0, 0, 0, 0, 3.0, -3.186522, -3.386296, 0.20228330658770621, 0, []])}"
      ]
     },
     "execution_count": 39,
     "metadata": {},
     "output_type": "execute_result"
    }
   ],
   "source": [
    "dataset['信']"
   ]
  },
  {
   "cell_type": "code",
   "execution_count": 41,
   "metadata": {
    "collapsed": false
   },
   "outputs": [],
   "source": [
    "score, log = dataset['信']['今']"
   ]
  },
  {
   "cell_type": "code",
   "execution_count": 42,
   "metadata": {
    "collapsed": true
   },
   "outputs": [],
   "source": [
    "fff = fCombine(score, log)"
   ]
  },
  {
   "cell_type": "code",
   "execution_count": 46,
   "metadata": {
    "collapsed": false
   },
   "outputs": [
    {
     "data": {
      "text/plain": [
       "[0, 0, 0, 1, 0, 0, 3.0, -3.186522, -3.175858, 0.19084640315413054, 0, []]"
      ]
     },
     "execution_count": 46,
     "metadata": {},
     "output_type": "execute_result"
    }
   ],
   "source": [
    "log[-2] == 0"
   ]
  },
  {
   "cell_type": "code",
   "execution_count": 45,
   "metadata": {
    "collapsed": false
   },
   "outputs": [
    {
     "data": {
      "text/plain": [
       "0"
      ]
     },
     "execution_count": 45,
     "metadata": {},
     "output_type": "execute_result"
    }
   ],
   "source": [
    "len(log[-1])"
   ]
  },
  {
   "cell_type": "code",
   "execution_count": 43,
   "metadata": {
    "collapsed": false
   },
   "outputs": [
    {
     "data": {
      "text/plain": [
       "[0,\n",
       " 0,\n",
       " 0,\n",
       " 1,\n",
       " 0,\n",
       " 0,\n",
       " 3.0,\n",
       " -3.186522,\n",
       " -3.175858,\n",
       " 0.19084640315413054,\n",
       " 4.1908464031541302]"
      ]
     },
     "execution_count": 43,
     "metadata": {},
     "output_type": "execute_result"
    }
   ],
   "source": [
    "fff"
   ]
  },
  {
   "cell_type": "code",
   "execution_count": 95,
   "metadata": {
    "collapsed": false
   },
   "outputs": [
    {
     "data": {
      "text/plain": [
       "array([1469571,  332118,  203670, ...,  595908,  251154,  615528])"
      ]
     },
     "execution_count": 95,
     "metadata": {},
     "output_type": "execute_result"
    }
   ],
   "source": [
    "label[-1]"
   ]
  },
  {
   "cell_type": "code",
   "execution_count": 94,
   "metadata": {
    "collapsed": false
   },
   "outputs": [
    {
     "data": {
      "text/plain": [
       "array([-1, -1, -1, -1, -1, -1, -1, -1, -1, -1])"
      ]
     },
     "execution_count": 94,
     "metadata": {},
     "output_type": "execute_result"
    }
   ],
   "source": [
    "clf.predict(feature[:10])"
   ]
  },
  {
   "cell_type": "code",
   "execution_count": 47,
   "metadata": {
    "collapsed": true
   },
   "outputs": [],
   "source": [
    "tp_case = 0\n",
    "fp_case = 0\n",
    "fn_case = 0 \n",
    "tn_case = 0\n",
    "\n",
    "for ch_a, cands in dataset.items():\n",
    "    for cand, (score, log) in cands.items():\n",
    "        cand_feature = fCombine(score, log)\n",
    "        if PRE:                \n",
    "            tmp = pre_filter.transform(np.asarray(cand_feature).reshape(1,-1))\n",
    "        else:\n",
    "            tmp = np.asarray(cand_feature).reshape(1,-1)\n",
    "            \n",
    "        f = clf.predict_proba(tmp).tolist()[0]\n",
    "        \n",
    "        \n",
    "        if f[1]>=f[0]:\n",
    "            # True positive\n",
    "            if log[-2] != 0:\n",
    "                tp_case += 1\n",
    "            # False positive \n",
    "            else:\n",
    "                fp_case += 1            \n",
    "        else:\n",
    "            # Fasle negative \n",
    "            if log[-2] != 0:\n",
    "                fn_case += 1\n",
    "            else:\n",
    "                tn_case += 1"
   ]
  },
  {
   "cell_type": "code",
   "execution_count": 48,
   "metadata": {
    "collapsed": false
   },
   "outputs": [
    {
     "data": {
      "text/plain": [
       "8960"
      ]
     },
     "execution_count": 48,
     "metadata": {},
     "output_type": "execute_result"
    }
   ],
   "source": [
    "tp_case"
   ]
  },
  {
   "cell_type": "code",
   "execution_count": 49,
   "metadata": {
    "collapsed": false
   },
   "outputs": [
    {
     "data": {
      "text/plain": [
       "30908"
      ]
     },
     "execution_count": 49,
     "metadata": {},
     "output_type": "execute_result"
    }
   ],
   "source": [
    "fp_case"
   ]
  },
  {
   "cell_type": "code",
   "execution_count": 50,
   "metadata": {
    "collapsed": false
   },
   "outputs": [
    {
     "data": {
      "text/plain": [
       "397"
      ]
     },
     "execution_count": 50,
     "metadata": {},
     "output_type": "execute_result"
    }
   ],
   "source": [
    "fn_case"
   ]
  },
  {
   "cell_type": "code",
   "execution_count": 51,
   "metadata": {
    "collapsed": false
   },
   "outputs": [
    {
     "data": {
      "text/plain": [
       "1677614"
      ]
     },
     "execution_count": 51,
     "metadata": {},
     "output_type": "execute_result"
    }
   ],
   "source": [
    "tn_case"
   ]
  },
  {
   "cell_type": "code",
   "execution_count": 80,
   "metadata": {
    "collapsed": true
   },
   "outputs": [],
   "source": [
    "X = np.concatenate((np.full(tp_case+fn_case,0,dtype='int'), np.full(fp_case+tn_case,1,dtype='int')))"
   ]
  },
  {
   "cell_type": "code",
   "execution_count": 81,
   "metadata": {
    "collapsed": false
   },
   "outputs": [],
   "source": [
    "Y = np.concatenate((np.full(tp_case,0,dtype='int'), np.full(fn_case,1,dtype='int'),\n",
    "                   np.full(fp_case,0,dtype='int'), np.full(tn_case,1,dtype='int')))"
   ]
  },
  {
   "cell_type": "code",
   "execution_count": 64,
   "metadata": {
    "collapsed": true
   },
   "outputs": [],
   "source": [
    "from sklearn.metrics import confusion_matrix\n",
    "import itertools\n"
   ]
  },
  {
   "cell_type": "code",
   "execution_count": 76,
   "metadata": {
    "collapsed": false
   },
   "outputs": [
    {
     "data": {
      "text/plain": [
       "9357"
      ]
     },
     "execution_count": 76,
     "metadata": {},
     "output_type": "execute_result"
    }
   ],
   "source": [
    "len(np.where(X==1)[0])"
   ]
  },
  {
   "cell_type": "code",
   "execution_count": 82,
   "metadata": {
    "collapsed": true
   },
   "outputs": [],
   "source": [
    "cnf_matrix = confusion_matrix(X,Y)"
   ]
  },
  {
   "cell_type": "code",
   "execution_count": 69,
   "metadata": {
    "collapsed": false
   },
   "outputs": [
    {
     "data": {
      "image/png": "[encoded data removed]",
      "text/plain": [
       "<matplotlib.figure.Figure at 0x7f8c01111d68>"
      ]
     },
     "metadata": {},
     "output_type": "display_data"
    }
   ],
   "source": [
    "plt.imshow(cnf_matrix)\n",
    "plt.show()"
   ]
  },
  {
   "cell_type": "code",
   "execution_count": 163,
   "metadata": {
    "collapsed": false
   },
   "outputs": [],
   "source": [
    "def plot_confusion_matrix(cm, classes,\n",
    "                          normalize=False,\n",
    "                          title='Confusion matrix',\n",
    "                          cmap=plt.cm.Blues):\n",
    "    \"\"\"\n",
    "    This function prints and plots the confusion matrix.\n",
    "    Normalization can be applied by setting `normalize=True`.\n",
    "    \"\"\"\n",
    "    plt.imshow(cm, interpolation='nearest', cmap=cmap)\n",
    "    plt.title(title)\n",
    "    plt.colorbar()\n",
    "    tick_marks = np.arange(len(classes))\n",
    "    plt.xticks(tick_marks, classes, rotation=45)\n",
    "    plt.yticks(tick_marks, classes)\n",
    "\n",
    "    if normalize:\n",
    "        cm = cm.astype('float') / cm.sum(axis=1)[:, np.newaxis]\n",
    "        print(\"Normalized confusion matrix\")\n",
    "    else:\n",
    "        print('Confusion matrix, without normalization')\n",
    "\n",
    "    print(cm)\n",
    "\n",
    "    thresh = cm.max() / 2.\n",
    "    for i, j in itertools.product(range(cm.shape[0]), range(cm.shape[1])):\n",
    "        plt.text(j, i, '{:.4f}'.format(cm[i, j]),\n",
    "                 horizontalalignment=\"center\", \n",
    "                 color=\"red\")\n",
    "#                  color=\"white\" if cm[i, j] > thresh else \"black\")\n",
    "\n",
    "    plt.tight_layout()\n",
    "    plt.ylabel('True label')\n",
    "    plt.xlabel('Predicted label')\n"
   ]
  },
  {
   "cell_type": "code",
   "execution_count": 162,
   "metadata": {
    "collapsed": true
   },
   "outputs": [],
   "source": [
    "plt.text?"
   ]
  },
  {
   "cell_type": "code",
   "execution_count": 72,
   "metadata": {
    "collapsed": false
   },
   "outputs": [
    {
     "data": {
      "text/plain": [
       "array([[1677614,   30908],\n",
       "       [    397,    8960]])"
      ]
     },
     "execution_count": 72,
     "metadata": {},
     "output_type": "execute_result"
    }
   ],
   "source": [
    "cnf_matrix"
   ]
  },
  {
   "cell_type": "code",
   "execution_count": 92,
   "metadata": {
    "collapsed": false
   },
   "outputs": [
    {
     "name": "stdout",
     "output_type": "stream",
     "text": [
      "Normalized confusion matrix\n",
      "[[ 0.95757187  0.04242813]\n",
      " [ 0.01809049  0.98190951]]\n"
     ]
    },
    {
     "data": {
      "image/png": "[encoded data removed]",
      "text/plain": [
       "<matplotlib.figure.Figure at 0x7f8b84cca7f0>"
      ]
     },
     "metadata": {},
     "output_type": "display_data"
    }
   ],
   "source": [
    "plt.figure()\n",
    "plot_confusion_matrix(cnf_matrix, classes=['True','False'],normalize=True,\n",
    "                      title='Confusion matrix, without normalization')\n",
    "plt.show()"
   ]
  },
  {
   "cell_type": "code",
   "execution_count": null,
   "metadata": {
    "collapsed": true
   },
   "outputs": [],
   "source": [
    " cand_feature = fCombine(score,log)\n",
    "            if PRE:                \n",
    "                tmp = pre_filter.transform(np.asarray(cand_feature).reshape(1,-1))\n",
    "            else:\n",
    "                tmp = np.asarray(cand_feature).reshape(1,-1)\n",
    "            \n",
    "            f = clf.predict_proba(tmp).tolist()[0]            \n",
    "                               \n",
    "            if f[1] > f[0] and f[1] > threshold[0]:\n",
    "                f_batch.append((ca, f[1]))"
   ]
  },
  {
   "cell_type": "code",
   "execution_count": 37,
   "metadata": {
    "collapsed": false
   },
   "outputs": [
    {
     "data": {
      "text/plain": [
       "{-1: array([1469571,  332118,  203670, ...,  595908,  251154,  615528]),\n",
       " 1: array([ 597608,  416448,  625737, ...,  802907, 1533169,  365453]),\n",
       " 2: array([1469571,  332118,  203670, ...,  595908,  251154,  615528])}"
      ]
     },
     "execution_count": 37,
     "metadata": {},
     "output_type": "execute_result"
    }
   ],
   "source": [
    "label"
   ]
  },
  {
   "cell_type": "code",
   "execution_count": 34,
   "metadata": {
    "collapsed": false
   },
   "outputs": [
    {
     "ename": "ValueError",
     "evalue": "Found input variables with inconsistent numbers of samples: [3, 1561823]",
     "output_type": "error",
     "traceback": [
      "\u001b[0;31m---------------------------------------------------------------------------\u001b[0m",
      "\u001b[0;31mValueError\u001b[0m                                Traceback (most recent call last)",
      "\u001b[0;32m<ipython-input-34-7c9268a39ee3>\u001b[0m in \u001b[0;36m<module>\u001b[0;34m()\u001b[0m\n\u001b[0;32m----> 1\u001b[0;31m \u001b[0mclf\u001b[0m\u001b[0;34m.\u001b[0m\u001b[0mscore\u001b[0m\u001b[0;34m(\u001b[0m\u001b[0mnew_feature\u001b[0m\u001b[0;34m,\u001b[0m \u001b[0mlabel\u001b[0m\u001b[0;34m)\u001b[0m\u001b[0;34m\u001b[0m\u001b[0m\n\u001b[0m",
      "\u001b[0;32m/home/kiwi/anaconda3/lib/python3.6/site-packages/sklearn/base.py\u001b[0m in \u001b[0;36mscore\u001b[0;34m(self, X, y, sample_weight)\u001b[0m\n\u001b[1;32m    347\u001b[0m         \"\"\"\n\u001b[1;32m    348\u001b[0m         \u001b[0;32mfrom\u001b[0m \u001b[0;34m.\u001b[0m\u001b[0mmetrics\u001b[0m \u001b[0;32mimport\u001b[0m \u001b[0maccuracy_score\u001b[0m\u001b[0;34m\u001b[0m\u001b[0m\n\u001b[0;32m--> 349\u001b[0;31m         \u001b[0;32mreturn\u001b[0m \u001b[0maccuracy_score\u001b[0m\u001b[0;34m(\u001b[0m\u001b[0my\u001b[0m\u001b[0;34m,\u001b[0m \u001b[0mself\u001b[0m\u001b[0;34m.\u001b[0m\u001b[0mpredict\u001b[0m\u001b[0;34m(\u001b[0m\u001b[0mX\u001b[0m\u001b[0;34m)\u001b[0m\u001b[0;34m,\u001b[0m \u001b[0msample_weight\u001b[0m\u001b[0;34m=\u001b[0m\u001b[0msample_weight\u001b[0m\u001b[0;34m)\u001b[0m\u001b[0;34m\u001b[0m\u001b[0m\n\u001b[0m\u001b[1;32m    350\u001b[0m \u001b[0;34m\u001b[0m\u001b[0m\n\u001b[1;32m    351\u001b[0m \u001b[0;34m\u001b[0m\u001b[0m\n",
      "\u001b[0;32m/home/kiwi/anaconda3/lib/python3.6/site-packages/sklearn/metrics/classification.py\u001b[0m in \u001b[0;36maccuracy_score\u001b[0;34m(y_true, y_pred, normalize, sample_weight)\u001b[0m\n\u001b[1;32m    170\u001b[0m \u001b[0;34m\u001b[0m\u001b[0m\n\u001b[1;32m    171\u001b[0m     \u001b[0;31m# Compute accuracy for each possible representation\u001b[0m\u001b[0;34m\u001b[0m\u001b[0;34m\u001b[0m\u001b[0m\n\u001b[0;32m--> 172\u001b[0;31m     \u001b[0my_type\u001b[0m\u001b[0;34m,\u001b[0m \u001b[0my_true\u001b[0m\u001b[0;34m,\u001b[0m \u001b[0my_pred\u001b[0m \u001b[0;34m=\u001b[0m \u001b[0m_check_targets\u001b[0m\u001b[0;34m(\u001b[0m\u001b[0my_true\u001b[0m\u001b[0;34m,\u001b[0m \u001b[0my_pred\u001b[0m\u001b[0;34m)\u001b[0m\u001b[0;34m\u001b[0m\u001b[0m\n\u001b[0m\u001b[1;32m    173\u001b[0m     \u001b[0;32mif\u001b[0m \u001b[0my_type\u001b[0m\u001b[0;34m.\u001b[0m\u001b[0mstartswith\u001b[0m\u001b[0;34m(\u001b[0m\u001b[0;34m'multilabel'\u001b[0m\u001b[0;34m)\u001b[0m\u001b[0;34m:\u001b[0m\u001b[0;34m\u001b[0m\u001b[0m\n\u001b[1;32m    174\u001b[0m         \u001b[0mdiffering_labels\u001b[0m \u001b[0;34m=\u001b[0m \u001b[0mcount_nonzero\u001b[0m\u001b[0;34m(\u001b[0m\u001b[0my_true\u001b[0m \u001b[0;34m-\u001b[0m \u001b[0my_pred\u001b[0m\u001b[0;34m,\u001b[0m \u001b[0maxis\u001b[0m\u001b[0;34m=\u001b[0m\u001b[0;36m1\u001b[0m\u001b[0;34m)\u001b[0m\u001b[0;34m\u001b[0m\u001b[0m\n",
      "\u001b[0;32m/home/kiwi/anaconda3/lib/python3.6/site-packages/sklearn/metrics/classification.py\u001b[0m in \u001b[0;36m_check_targets\u001b[0;34m(y_true, y_pred)\u001b[0m\n\u001b[1;32m     70\u001b[0m     \u001b[0my_pred\u001b[0m \u001b[0;34m:\u001b[0m \u001b[0marray\u001b[0m \u001b[0;32mor\u001b[0m \u001b[0mindicator\u001b[0m \u001b[0mmatrix\u001b[0m\u001b[0;34m\u001b[0m\u001b[0m\n\u001b[1;32m     71\u001b[0m     \"\"\"\n\u001b[0;32m---> 72\u001b[0;31m     \u001b[0mcheck_consistent_length\u001b[0m\u001b[0;34m(\u001b[0m\u001b[0my_true\u001b[0m\u001b[0;34m,\u001b[0m \u001b[0my_pred\u001b[0m\u001b[0;34m)\u001b[0m\u001b[0;34m\u001b[0m\u001b[0m\n\u001b[0m\u001b[1;32m     73\u001b[0m     \u001b[0mtype_true\u001b[0m \u001b[0;34m=\u001b[0m \u001b[0mtype_of_target\u001b[0m\u001b[0;34m(\u001b[0m\u001b[0my_true\u001b[0m\u001b[0;34m)\u001b[0m\u001b[0;34m\u001b[0m\u001b[0m\n\u001b[1;32m     74\u001b[0m     \u001b[0mtype_pred\u001b[0m \u001b[0;34m=\u001b[0m \u001b[0mtype_of_target\u001b[0m\u001b[0;34m(\u001b[0m\u001b[0my_pred\u001b[0m\u001b[0;34m)\u001b[0m\u001b[0;34m\u001b[0m\u001b[0m\n",
      "\u001b[0;32m/home/kiwi/anaconda3/lib/python3.6/site-packages/sklearn/utils/validation.py\u001b[0m in \u001b[0;36mcheck_consistent_length\u001b[0;34m(*arrays)\u001b[0m\n\u001b[1;32m    179\u001b[0m     \u001b[0;32mif\u001b[0m \u001b[0mlen\u001b[0m\u001b[0;34m(\u001b[0m\u001b[0muniques\u001b[0m\u001b[0;34m)\u001b[0m \u001b[0;34m>\u001b[0m \u001b[0;36m1\u001b[0m\u001b[0;34m:\u001b[0m\u001b[0;34m\u001b[0m\u001b[0m\n\u001b[1;32m    180\u001b[0m         raise ValueError(\"Found input variables with inconsistent numbers of\"\n\u001b[0;32m--> 181\u001b[0;31m                          \" samples: %r\" % [int(l) for l in lengths])\n\u001b[0m\u001b[1;32m    182\u001b[0m \u001b[0;34m\u001b[0m\u001b[0m\n\u001b[1;32m    183\u001b[0m \u001b[0;34m\u001b[0m\u001b[0m\n",
      "\u001b[0;31mValueError\u001b[0m: Found input variables with inconsistent numbers of samples: [3, 1561823]"
     ]
    }
   ],
   "source": [
    "clf.score(new_feature, label)"
   ]
  },
  {
   "cell_type": "code",
   "execution_count": 33,
   "metadata": {
    "collapsed": false
   },
   "outputs": [
    {
     "data": {
      "text/plain": [
       "0.98858108108108111"
      ]
     },
     "execution_count": 33,
     "metadata": {},
     "output_type": "execute_result"
    }
   ],
   "source": [
    "accuracy"
   ]
  },
  {
   "cell_type": "code",
   "execution_count": 26,
   "metadata": {
    "collapsed": false,
    "scrolled": true
   },
   "outputs": [
    {
     "name": "stdout",
     "output_type": "stream",
     "text": [
      "PRE\tFalse\n",
      "NB\tFalse\n",
      "trainSet = 4000\tcost_pars = 1\tgamma = 0.09\n",
      "Accuracy (4400/8800): 0.9931818181818182\n",
      "Positive Accuracy (4400): 0.9986363636363637\n",
      "Total_error: 5152\n",
      "Sum_cands: 19638\n",
      "Max_cands: 26\n",
      "Min_cands: 1\n",
      "Mean_cands: 3.81\n",
      "Mid_cands: ('靦', 3)\n",
      "Top 20 cands:\n",
      " [('是', 26), ('事', 22), ('經', 19), ('以', 18), ('理', 18), ('付', 18), ('古', 18), ('至', 18), ('維', 17), ('模', 17), ('奇', 17), ('期', 17), ('時', 17), ('住', 17), ('莫', 16), ('裡', 16), ('愈', 16), ('適', 16), ('愉', 16), ('其', 16)]\n"
     ]
    },
    {
     "data": {
      "image/png": "[encoded data removed]",
      "text/plain": [
       "<matplotlib.figure.Figure at 0x7f04f4ad2c50>"
      ]
     },
     "metadata": {},
     "output_type": "display_data"
    }
   ],
   "source": [
    "PROCESSCNT = 8\n",
    "TOKEN = args.token\n",
    "MULTIPROCESS = args.multi\n",
    "PRE = args.pre\n",
    "NB = args.nb\n",
    "\n",
    "# TOKEN = 'd'\n",
    "# MULTIPROCESS = True\n",
    "# PRE = False\n",
    "# NB = False\n",
    "\n",
    "print('PRE\\t{}NB\\t{}'.format(PRE,NB))\n",
    "\n",
    "# train_cnt_pars = list(range(1000, 5000, 1000))\n",
    "# cost_pars = [0.125, 0.25, 0.5, 1, 2, 4, 8]\n",
    "# gamma_pars = [0.0225, 0.045, 0.09, 0.18, 0.36]\n",
    "# threshold = [0.9,50]\n",
    "# ncm_setting_pars = [0.9995, 0.99995, 0.999995, 0.9999995]\n",
    "\n",
    "train_cnt_pars = [4000]\n",
    "cost_pars = [1]\n",
    "gamma_pars = [0.09]\n",
    "threshold = [0, 30]\n",
    "ncm_setting_pars = [0.9995]\n",
    "\n",
    "\n",
    "for train_cnt in train_cnt_pars:\n",
    "    for cost in cost_pars:\n",
    "        for gamma in gamma_pars:\n",
    "            print('trainSet = {}\\tcost_pars = {}\\tgamma = {}'.format(train_cnt, cost, gamma))            \n",
    "            batch_token = '{}_{}_{}_{}'.format(TOKEN, str(train_cnt), str(cost)[2:], str(gamma)[2:])\n",
    "            (new_feature, pre_filter) = preprocess(feature, 'normal')\n",
    "            label = rnSelect(new_feature, label)            \n",
    "            clf, accuracy = train_svm(new_feature, label, train_cnt, cost, gamma)\n",
    "\n",
    "            confu_raw = create(dataset)\n",
    "            info(confu_raw, batch_token)\n",
    "            for ncm_setting in ncm_setting_pars:\n",
    "                confu = outputPKL(confu_raw, ncm_setting, output_file(TOKEN, batch_token, str(ncm_setting)[2:]))"
   ]
  }
 ],
 "metadata": {
  "kernelspec": {
   "display_name": "Python 3",
   "language": "python",
   "name": "python3"
  },
  "language_info": {
   "codemirror_mode": {
    "name": "ipython",
    "version": 3
   },
   "file_extension": ".py",
   "mimetype": "text/x-python",
   "name": "python",
   "nbconvert_exporter": "python",
   "pygments_lexer": "ipython3",
   "version": "3.6.0"
  }
 },
 "nbformat": 4,
 "nbformat_minor": 2
}
