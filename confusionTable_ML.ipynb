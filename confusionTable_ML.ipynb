{
 "cells": [
  {
   "cell_type": "code",
   "execution_count": 1,
   "metadata": {
    "collapsed": true
   },
   "outputs": [],
   "source": [
    "# import confusionTable_extractFeature as CTF"
   ]
  },
  {
   "cell_type": "code",
   "execution_count": 2,
   "metadata": {
    "collapsed": true
   },
   "outputs": [],
   "source": [
    "import math"
   ]
  },
  {
   "cell_type": "code",
   "execution_count": 3,
   "metadata": {
    "collapsed": true
   },
   "outputs": [],
   "source": [
    "import sys\n",
    "import os\n",
    "import argparse"
   ]
  },
  {
   "cell_type": "code",
   "execution_count": 4,
   "metadata": {
    "collapsed": true
   },
   "outputs": [],
   "source": [
    "from multiprocessing import Pool"
   ]
  },
  {
   "cell_type": "code",
   "execution_count": 5,
   "metadata": {
    "collapsed": true
   },
   "outputs": [],
   "source": [
    "import pickle\n",
    "import numpy as np\n",
    "from sklearn import svm"
   ]
  },
  {
   "cell_type": "code",
   "execution_count": 6,
   "metadata": {
    "collapsed": true
   },
   "outputs": [],
   "source": [
    "from sklearn.preprocessing import Normalizer, StandardScaler"
   ]
  },
  {
   "cell_type": "code",
   "execution_count": 7,
   "metadata": {
    "collapsed": true
   },
   "outputs": [],
   "source": [
    "from sklearn.naive_bayes import GaussianNB"
   ]
  },
  {
   "cell_type": "code",
   "execution_count": 8,
   "metadata": {
    "collapsed": true
   },
   "outputs": [],
   "source": [
    "from collections import defaultdict\n",
    "import matplotlib.pyplot as plt"
   ]
  },
  {
   "cell_type": "code",
   "execution_count": 9,
   "metadata": {
    "collapsed": false
   },
   "outputs": [],
   "source": [
    "with open('./ch_5401.txt', 'r', encoding='utf8') as fp:                    \n",
    "    CH5400 = set(i.strip() for i in fp.readlines())"
   ]
  },
  {
   "cell_type": "code",
   "execution_count": 10,
   "metadata": {
    "collapsed": true
   },
   "outputs": [],
   "source": [
    "POS = 1\n",
    "NEG = -1\n",
    "UNK = 2"
   ]
  },
  {
   "cell_type": "code",
   "execution_count": 11,
   "metadata": {
    "collapsed": true
   },
   "outputs": [],
   "source": [
    "PROCESSCNT = 6\n",
    "MULTIPROCESS = True\n",
    "PRE = False\n",
    "NB = False"
   ]
  },
  {
   "cell_type": "code",
   "execution_count": 12,
   "metadata": {
    "collapsed": true
   },
   "outputs": [],
   "source": [
    "def fCombine(score, log):\n",
    "    '''The method of extract feature \n",
    "    Args:\n",
    "        score(float): total score of feature \n",
    "        log(list): feature \n",
    "    Return:\n",
    "        tmp(list): selected feature \n",
    "    '''\n",
    "    # 0.89/0.86    \n",
    "#     tmp = log[:-2]\n",
    "#     tmp.append(score-log[-3]*9-log[-2])\n",
    "    \n",
    "    \n",
    "    # 0.90/0.89\n",
    "#     tmp = log[:-2]\n",
    "\n",
    "    # 0.90/0.89\n",
    "#     tmp = log[:-2]\n",
    "\n",
    "    # 0.99/0.99\n",
    "#     tmp = log[:-2]\n",
    "#     tmp.append(score)\n",
    "\n",
    "    # 0.89/0.86\n",
    "#     tmp = log[:-2]\n",
    "#     s = sum(log[:-2])\n",
    "#     tmp.append(s)\n",
    "\n",
    "    # 0.99/0.99\n",
    "    tmp = log[:-2]\n",
    "    s = score - log[-3]*9\n",
    "    tmp.append(s)\n",
    "    \n",
    "    \n",
    "    return tmp"
   ]
  },
  {
   "cell_type": "code",
   "execution_count": 13,
   "metadata": {
    "collapsed": false
   },
   "outputs": [],
   "source": [
    "def extract(dataset):\n",
    "    '''Extract (feature/label) from filename\n",
    "    Args:\n",
    "        bigDict (nested dict): the dict of feature (*.pkl) from confusionTable_extractFeature\n",
    "    Return:\n",
    "        train_feature (np.array): feature array\n",
    "        train_label (np.array): the label of feature             \n",
    "    '''    \n",
    "    \n",
    "    # Initial \n",
    "    label = list()\n",
    "    feature = list()\n",
    "\n",
    "    for error_ch, (cands_val) in dataset.items():           \n",
    "        if error_ch not in CH5400:\n",
    "            # If confusion matrix have, choose \n",
    "            # else choose the highest score            \n",
    "            in_pairs = {cand:(score, log) for cand, (score, log) in cands_val.items() if log[-2]!=0}\n",
    "            if not in_pairs:\n",
    "                try:\n",
    "                    best_cand = max(cands_val.items(), key=lambda x:x[1][0])                \n",
    "                except:\n",
    "                    print(cands_val)\n",
    "                    return \n",
    "                dataset[error_ch] = {best_cand[0]:best_cand[1]}\n",
    "            else:\n",
    "                dataset[error_ch] = in_pairs\n",
    "            continue        \n",
    "        \n",
    "        # two situation for error: (error-pair) or (higher-score)\n",
    "        # Skip the candidates which is not in COMMON-5000\n",
    "        for cand, (score, log) in cands_val.items():  \n",
    "            if cand not in CH5400:\n",
    "                continue\n",
    "                                    \n",
    "            feature.append(fCombine(score,log))\n",
    "            if log[-2] != 0:\n",
    "                label.append(POS)\n",
    "            else:\n",
    "                label.append(UNK)\n",
    "    \n",
    "    # Combine\n",
    "    train_feature = np.asarray(feature, dtype='float')            \n",
    "    tmp_label = np.asarray(label, dtype='int')\n",
    "    pos = np.where(tmp_label == POS )[0]\n",
    "    neg = np.where(tmp_label == UNK )[0]\n",
    "    train_label = {POS:pos, UNK:neg}        \n",
    "\n",
    "    print('The number of sample = {}'.format(train_feature.shape))\n",
    "    print('Positive case (candidate) = {}'.format(len(train_label[POS])))\n",
    "    print('Negative case (uncandidate) = {}'.format(len(train_label[UNK])))\n",
    "    \n",
    "    return (train_feature, train_label)"
   ]
  },
  {
   "cell_type": "code",
   "execution_count": 14,
   "metadata": {
    "collapsed": true
   },
   "outputs": [],
   "source": [
    "def preprocess(data, method):\n",
    "    '''Preprocessing of feature    \n",
    "    Args:\n",
    "        data (np.array): feature \n",
    "        method (str): 'normal'-normalization // 'standard'-standardization\n",
    "        (Normal is better)\n",
    "    Return:\n",
    "        new_data (np.array): after preprocessing \n",
    "        pre (scikit.preprocess): transform model for feature     \n",
    "    '''\n",
    "    if PRE:    \n",
    "        if method == 'normal':\n",
    "            pre = Normalizer().fit(data)\n",
    "            new_data = pre.transform(data)\n",
    "        elif method == 'standard':\n",
    "            pre = Normalizer().fit(data)\n",
    "            new_data = pre.transform(data)\n",
    "        else:\n",
    "            print('Unknown method')\n",
    "            sys.exit(0)\n",
    "        \n",
    "        return (new_data, pre)\n",
    "    else:\n",
    "        return (data, [])"
   ]
  },
  {
   "cell_type": "code",
   "execution_count": 15,
   "metadata": {
    "collapsed": true
   },
   "outputs": [],
   "source": [
    "def rnBatch(para):\n",
    "    (idx, feature, nbf) = para\n",
    "    \n",
    "    if nbf.predict(feature.reshape(1,-1)) == UNK:\n",
    "        return idx\n",
    "    else:\n",
    "        return -1"
   ]
  },
  {
   "cell_type": "code",
   "execution_count": 16,
   "metadata": {
    "collapsed": false
   },
   "outputs": [],
   "source": [
    "def rnSelect(feature, label):\n",
    "    \n",
    "    if NB:\n",
    "        \n",
    "        nbf_idx = np.concatenate((label[POS],label[UNK]))\n",
    "        nbf_label = np.concatenate(\n",
    "            (np.full(len(label[POS]), POS, dtype=int)\n",
    "             , np.full(len(label[UNK]), UNK, dtype=int)))\n",
    "        nbf_feature = feature[nbf_idx]\n",
    "        nbf = GaussianNB().fit(nbf_feature, nbf_label)\n",
    "\n",
    "        print('Prepare chunk')\n",
    "        chunk = [(idx, feature[idx], nbf) for idx in label[UNK]]\n",
    "\n",
    "        print('Start RN step select')    \n",
    "        if MULTIPROCESS:\n",
    "            with Pool(processes=PROCESSCNT) as pool:\n",
    "                rn_neg = pool.map(rnBatch, chunk)\n",
    "        else:\n",
    "            rn_neg = [rnBatch(c) for c in chunk]\n",
    "\n",
    "\n",
    "        label[NEG] = np.where(np.asarray(rn_neg) != -1)[0]\n",
    "\n",
    "\n",
    "        print('Label[POS]: {}'.format(len(label[POS])))\n",
    "        print('Label[NEG]: {}'.format(len(label[NEG])))\n",
    "        print('Remove Unknown {} samples'.format(len(label[UNK])-len(label[NEG])))\n",
    "    \n",
    "    else:\n",
    "        label[NEG] = label[UNK]\n",
    "    \n",
    "    return label"
   ]
  },
  {
   "cell_type": "code",
   "execution_count": 17,
   "metadata": {
    "collapsed": false
   },
   "outputs": [],
   "source": [
    "def train_svm(feature, label, train_cnt, cost= 0, g=1/11, test_cnt=0, cross_validation=False):\n",
    "    '''Train SVM model from feature\n",
    "    Args:\n",
    "        feature (np.array): feature array\n",
    "        label (np.array): the label of feature \n",
    "        train_cnt (int): the number of training samples \n",
    "        test_cnt (int): (default=samples-train_cnt) the number of testing samples\n",
    "    Return:\n",
    "        xxx    \n",
    "    '''\n",
    "    \n",
    "    assert train_cnt < len(label[POS]), 'Train count must less than positive samples'\n",
    "    \n",
    "    # If test_cnt not declare, use all the remain set as test set    \n",
    "    if train_cnt==0:\n",
    "        assert False, 'sample count cannot be zero'\n",
    "        \n",
    "    if test_cnt==0:\n",
    "        test_cnt = len(label[POS]) - train_cnt\n",
    "        \n",
    "    # Picke feature/label to train & test set    \n",
    "    np.random.shuffle(label[POS])\n",
    "    np.random.shuffle(label[NEG])\n",
    "\n",
    "    train_idx = np.concatenate(\n",
    "        (label[POS][:train_cnt],\n",
    "         label[NEG][:train_cnt]))\n",
    "    train_label = np.concatenate(\n",
    "        (np.full(train_cnt, POS, dtype=int), np.full(train_cnt, NEG, dtype=int)))\n",
    "    train_feature = feature[train_idx]\n",
    "\n",
    "    test_idx = np.concatenate(\n",
    "        (label[POS][train_cnt:train_cnt+test_cnt], \n",
    "         label[NEG][train_cnt:train_cnt+test_cnt]))\n",
    "    test_label = np.concatenate(\n",
    "        (np.full(test_cnt, POS, dtype=int), np.full(test_cnt, NEG, dtype=int)))\n",
    "    test_feature = feature[test_idx]\n",
    "\n",
    "    # Training \n",
    "    clf = svm.SVC(kernel='rbf',C=cost,gamma=g, probability=True)\n",
    "    clf.fit(train_feature,train_label)\n",
    "    \n",
    "    # Testing \n",
    "    accuracy = clf.score(test_feature, test_label)\n",
    "    pos_acc = clf.score(test_feature[:test_cnt], test_label[:test_cnt])\n",
    "    print('Accuracy ({}/{}): {}'.format(test_cnt, len(test_label), accuracy))\n",
    "    print('Positive Accuracy ({}): {}'.format(test_cnt, pos_acc))\n",
    "    \n",
    "#     output = [accuracy, train_cnt, test_cnt*2]\n",
    "#     return output\n",
    "    return clf, accuracy"
   ]
  },
  {
   "cell_type": "code",
   "execution_count": 18,
   "metadata": {
    "collapsed": false
   },
   "outputs": [],
   "source": [
    "def create_batch(chunk):\n",
    "    global clf\n",
    "    global pre_filter\n",
    "    global threshold\n",
    "    \n",
    "    (ch, cands) = chunk  \n",
    "    \n",
    "    f_batch = []\n",
    "    for ca, (score,log) in cands.items(): \n",
    "        if ca not in CH5400:\n",
    "            continue        \n",
    "        \n",
    "        if False:\n",
    "#         if log[-2] != 0:\n",
    "            f_batch.append((ca, 1))   \n",
    "        else:\n",
    "            cand_feature = fCombine(score,log)\n",
    "            if PRE:                \n",
    "                tmp = pre_filter.transform(np.asarray(cand_feature).reshape(1,-1))\n",
    "            else:\n",
    "                tmp = np.asarray(cand_feature).reshape(1,-1)\n",
    "            \n",
    "            f = clf.predict_proba(tmp).tolist()[0]            \n",
    "                               \n",
    "            if f[1] > f[0] and f[1] > threshold[0]:\n",
    "                f_batch.append((ca, f[1]))\n",
    "#             elif log[-2] != 0:\n",
    "#                 print(ch, ca)\n",
    "\n",
    "    if len(f_batch) > 0:\n",
    "        f_sorted = sorted(f_batch, key=lambda x:x[1], reverse=True)[:threshold[1]]\n",
    "        f_dict = {ca:s for ca, s in f_sorted}\n",
    "\n",
    "        return (ch, f_dict)\n",
    "    else:\n",
    "        return []\n"
   ]
  },
  {
   "cell_type": "code",
   "execution_count": 19,
   "metadata": {
    "collapsed": false
   },
   "outputs": [],
   "source": [
    "def create(bigDict):    \n",
    "    '''Select the candidates in bigDict\n",
    "    \n",
    "    '''    \n",
    "    confusion = dict()\n",
    "    c_t, c_tf, sk = 0,0,0\n",
    "    \n",
    "    tt = list(bigDict.items())\n",
    "    \n",
    "    if MULTIPROCESS:\n",
    "        with Pool(processes=PROCESSCNT) as pool:\n",
    "            r = pool.map(create_batch, tt)\n",
    "        confusion = {c[0]:c[1] for c in r if len(c)>0}\n",
    "    else:\n",
    "        for chunk in tt:\n",
    "            batch = create_batch(chunk)\n",
    "            if len(batch)>0:\n",
    "                confusion[batch[0]] = batch[1] \n",
    "            \n",
    "    return confusion"
   ]
  },
  {
   "cell_type": "code",
   "execution_count": 20,
   "metadata": {
    "collapsed": true
   },
   "outputs": [],
   "source": [
    "def info(confusion, fig_token):\n",
    "    '''Get basic information about NCM \n",
    "    \n",
    "    '''\n",
    "    total_error = len(confusion)\n",
    "    cands = [(ch, len(cand)) for (ch, cand) in \n",
    "        sorted(confusion.items(), key= lambda x:len(x[1]), reverse=True)]\n",
    "\n",
    "    sum_cands = sum(cnt for _, cnt in cands)\n",
    "    max_cands = max(cnt for _, cnt in cands)\n",
    "    min_cands = min(cnt for _, cnt in cands)\n",
    "    mean_cands = sum_cands/total_error\n",
    "    \n",
    "    if total_error%2 == 0:\n",
    "        mid_cands = cands[total_error//2]\n",
    "    else:\n",
    "        mid_cands = cands[(total_error+1)//2]\n",
    "    \n",
    "    print('Total_error: {}\\nSum_cands: {}'.format(total_error, sum_cands))\n",
    "    print('Max_cands: {}\\nMin_cands: {}'.format(max_cands, min_cands))\n",
    "    print('Mean_cands: {:.2f}\\nMid_cands: {}'.format(mean_cands, mid_cands))\n",
    "    print('Top 20 cands:\\n {}'.format(cands[:20]))\n",
    "    \n",
    "    plt.plot([cnt for _, cnt in cands])\n",
    "    plt.xlabel('index')\n",
    "    plt.ylabel('candidates number')\n",
    "    fig = plt.gcf()\n",
    "#     plt.show()\n",
    "    fig.savefig('./confusionTable/confuInfo_{}.png'.format(fig_token), dpi=100)"
   ]
  },
  {
   "cell_type": "code",
   "execution_count": 21,
   "metadata": {
    "collapsed": true
   },
   "outputs": [],
   "source": [
    "def outputPKL(confusion, ncm_correct, pkl_file):\n",
    "    '''Assign local probability and output to NCM file\n",
    "    '''\n",
    "    output = defaultdict(dict)\n",
    "    print('Output PKL')\n",
    "    for ch, cands in confusion.items():\n",
    "        total_cand_val = sum(cands.values())*(1-ncm_correct) + ncm_correct\n",
    "        output[ch] = {ca:(p*(1-ncm_correct))/total_cand_val for ca,p in cands.items()}\n",
    "        output[ch][ch] = ncm_correct/total_cand_val        \n",
    "    \n",
    "    with open(pkl_file, 'wb') as fp:\n",
    "        pickle.dump(output, fp)\n",
    "    \n",
    "    return output"
   ]
  },
  {
   "cell_type": "code",
   "execution_count": 22,
   "metadata": {
    "collapsed": true
   },
   "outputs": [],
   "source": [
    "def process_command():\n",
    "    parser = argparse.ArgumentParser()\n",
    "    parser.add_argument('--token', required=True)\n",
    "    parser.add_argument('--multi', action='store_false')\n",
    "    parser.add_argument('--pre', action='store_true')\n",
    "    parser.add_argument('--nb', action='store_true')    \n",
    "    \n",
    "    return parser.parse_args()"
   ]
  },
  {
   "cell_type": "code",
   "execution_count": 23,
   "metadata": {
    "collapsed": false
   },
   "outputs": [],
   "source": [
    "# args = process_command()\n",
    "feature_file = './confusionTable/feature.pkl'\n",
    "output_file = './confusionTable/confu_{}_{}_{}.pkl'.format\n",
    "\n",
    "with open(feature_file, 'rb') as fp:\n",
    "    dataset = pickle.load(fp)        "
   ]
  },
  {
   "cell_type": "code",
   "execution_count": 27,
   "metadata": {
    "collapsed": false
   },
   "outputs": [
    {
     "data": {
      "text/plain": [
       "True"
      ]
     },
     "execution_count": 27,
     "metadata": {},
     "output_type": "execute_result"
    }
   ],
   "source": [
    "'勣' in CH5400"
   ]
  },
  {
   "cell_type": "code",
   "execution_count": 24,
   "metadata": {
    "collapsed": false,
    "scrolled": true
   },
   "outputs": [
    {
     "name": "stdout",
     "output_type": "stream",
     "text": [
      "Before extract = 2592820\n"
     ]
    }
   ],
   "source": [
    "print('Before extract = {}'.format(sum(len(cand) for cand in dataset.values())))"
   ]
  },
  {
   "cell_type": "code",
   "execution_count": 25,
   "metadata": {
    "collapsed": false
   },
   "outputs": [
    {
     "name": "stdout",
     "output_type": "stream",
     "text": [
      "The number of sample = (1561823, 11)\n",
      "Positive case (candidate) = 8400\n",
      "Negative case (uncandidate) = 1553423\n",
      "After extract = 1717879\n"
     ]
    }
   ],
   "source": [
    "feature,label = extract(dataset)\n",
    "print('After extract = {}'.format(sum(len(cand) for cand in dataset.values())))"
   ]
  },
  {
   "cell_type": "code",
   "execution_count": 26,
   "metadata": {
    "collapsed": false,
    "scrolled": true
   },
   "outputs": [
    {
     "name": "stdout",
     "output_type": "stream",
     "text": [
      "PRE\tFalse\n",
      "NB\tFalse\n",
      "trainSet = 4000\tcost_pars = 1\tgamma = 0.09\n",
      "Accuracy (4400/8800): 0.9931818181818182\n",
      "Positive Accuracy (4400): 0.9986363636363637\n",
      "Total_error: 5152\n",
      "Sum_cands: 19638\n",
      "Max_cands: 26\n",
      "Min_cands: 1\n",
      "Mean_cands: 3.81\n",
      "Mid_cands: ('靦', 3)\n",
      "Top 20 cands:\n",
      " [('是', 26), ('事', 22), ('經', 19), ('以', 18), ('理', 18), ('付', 18), ('古', 18), ('至', 18), ('維', 17), ('模', 17), ('奇', 17), ('期', 17), ('時', 17), ('住', 17), ('莫', 16), ('裡', 16), ('愈', 16), ('適', 16), ('愉', 16), ('其', 16)]\n"
     ]
    },
    {
     "data": {
      "image/png": "[encoded data removed]",
      "text/plain": [
       "<matplotlib.figure.Figure at 0x7f04f4ad2c50>"
      ]
     },
     "metadata": {},
     "output_type": "display_data"
    }
   ],
   "source": [
    "PROCESSCNT = 8\n",
    "TOKEN = args.token\n",
    "MULTIPROCESS = args.multi\n",
    "PRE = args.pre\n",
    "NB = args.nb\n",
    "\n",
    "# TOKEN = 'd'\n",
    "# MULTIPROCESS = True\n",
    "# PRE = False\n",
    "# NB = False\n",
    "\n",
    "print('PRE\\t{}NB\\t{}'.format(PRE,NB))\n",
    "\n",
    "# train_cnt_pars = list(range(1000, 5000, 1000))\n",
    "# cost_pars = [0.125, 0.25, 0.5, 1, 2, 4, 8]\n",
    "# gamma_pars = [0.0225, 0.045, 0.09, 0.18, 0.36]\n",
    "# threshold = [0.9,50]\n",
    "# ncm_setting_pars = [0.9995, 0.99995, 0.999995, 0.9999995]\n",
    "\n",
    "train_cnt_pars = [4000]\n",
    "cost_pars = [1]\n",
    "gamma_pars = [0.09]\n",
    "threshold = [0, 30]\n",
    "ncm_setting_pars = [0.9995]\n",
    "\n",
    "\n",
    "for train_cnt in train_cnt_pars:\n",
    "    for cost in cost_pars:\n",
    "        for gamma in gamma_pars:\n",
    "            print('trainSet = {}\\tcost_pars = {}\\tgamma = {}'.format(train_cnt, cost, gamma))            \n",
    "            batch_token = '{}_{}_{}_{}'.format(TOKEN, str(train_cnt), str(cost)[2:], str(gamma)[2:])\n",
    "            (new_feature, pre_filter) = preprocess(feature, 'normal')\n",
    "            label = rnSelect(new_feature, label)            \n",
    "            clf, accuracy = train_svm(new_feature, label, train_cnt, cost, gamma)\n",
    "\n",
    "            confu_raw = create(dataset)\n",
    "            info(confu_raw, batch_token)\n",
    "            for ncm_setting in ncm_setting_pars:\n",
    "                confu = outputPKL(confu_raw, ncm_setting, output_file(TOKEN, batch_token, str(ncm_setting)[2:]))"
   ]
  }
 ],
 "metadata": {
  "kernelspec": {
   "display_name": "Python 3",
   "language": "python",
   "name": "python3"
  },
  "language_info": {
   "codemirror_mode": {
    "name": "ipython",
    "version": 3
   },
   "file_extension": ".py",
   "mimetype": "text/x-python",
   "name": "python",
   "nbconvert_exporter": "python",
   "pygments_lexer": "ipython3",
   "version": "3.6.0"
  }
 },
 "nbformat": 4,
 "nbformat_minor": 2
}
