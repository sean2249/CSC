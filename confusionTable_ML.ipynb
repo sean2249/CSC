{
 "cells": [
  {
   "cell_type": "code",
   "execution_count": 1,
   "metadata": {
    "collapsed": true
   },
   "outputs": [],
   "source": [
    "import pickle\n",
    "import numpy as np\n",
    "from sklearn import svm"
   ]
  },
  {
   "cell_type": "code",
   "execution_count": 2,
   "metadata": {
    "collapsed": false
   },
   "outputs": [],
   "source": [
    "def extract(filename, threshold=20):\n",
    "    '''Extract (feature/label) from filename\n",
    "    Args:\n",
    "        filename (str): the filename of feature (*.pkl) from confusionTable_extractFeature\n",
    "        threshold (int): may use it for append positive sample from feature \n",
    "    Return:\n",
    "        train_feature (np.array): feature array\n",
    "        train_label (np.array): the label of feature \n",
    "            (1 for positive, 2 for negative )\n",
    "    '''\n",
    "    \n",
    "    # Initial \n",
    "    with open(filename, 'rb') as fp:\n",
    "        bigDict = pickle.load(fp)    \n",
    "    label = list()\n",
    "    feature = list()\n",
    "\n",
    "    # idx = 0 \n",
    "    for error_ch, (cands_val) in bigDict.items():\n",
    "    #     if idx>50: break\n",
    "    #     idx += 1\n",
    "        # two situation for error: (error-pair) or (higher-score)\n",
    "        for cand, (score, log) in cands_val.items():\n",
    "            # Feature \n",
    "            tmp = [i for i in log[:4]]\n",
    "            tmp.extend(log[4])\n",
    "            tmp.append(log[-1])\n",
    "\n",
    "            feature.append(tmp)\n",
    "\n",
    "            # Positive case (error)\n",
    "            if len(log) > 6:\n",
    "                label.append(1)\n",
    "            else:\n",
    "                label.append(2)\n",
    "    \n",
    "    # Combine\n",
    "    train_feature = np.asarray(feature, dtype='float')            \n",
    "    tmp_label = np.asarray(label, dtype='int')\n",
    "    pos = np.where(tmp_label == 1 )[0]\n",
    "    neg = np.where(tmp_label == 2 )[0]\n",
    "    train_label = {1:pos, 2:neg}        \n",
    "\n",
    "    print('The number of sample = {}'.format(train_feature.shape))\n",
    "    print('Positive case (candidate) = {}'.format(len(train_label[1])))\n",
    "    print('Negative case (uncandidate) = {}'.format(len(train_label[2])))\n",
    "    \n",
    "    return (train_feature, train_label)"
   ]
  },
  {
   "cell_type": "code",
   "execution_count": 29,
   "metadata": {
    "collapsed": false
   },
   "outputs": [],
   "source": [
    "def train(feature, label, train_cnt, test_cnt=0, cross_validation=False):\n",
    "    '''Train SVM model from feature\n",
    "    Args:\n",
    "        feature (np.array): feature array\n",
    "        label (np.array): the label of feature \n",
    "        train_cnt (int): the number of training samples \n",
    "        test_cnt (int): (default=samples-train_cnt) the number of testing samples\n",
    "    Return:\n",
    "        xxx    \n",
    "    '''\n",
    "    \n",
    "    assert train_cnt < len(label[1]), 'Train count must less than positive samples'\n",
    "    \n",
    "    # If test_cnt not declare, use all the remain set as test set    \n",
    "    if train_cnt==0:\n",
    "        assert False, 'sample count cannot be zero'\n",
    "        \n",
    "    if test_cnt==0:\n",
    "        test_cnt = len(label[1]) - train_cnt\n",
    "        \n",
    "    # Picke feature/label to train & test set    \n",
    "    np.random.shuffle(label[1])\n",
    "    np.random.shuffle(label[2])\n",
    "\n",
    "    train_idx = np.concatenate(\n",
    "        (label[1][:train_cnt],\n",
    "         label[2][:train_cnt]))\n",
    "    train_label = np.concatenate(\n",
    "        (np.full(train_cnt, 1, dtype=int), np.full(train_cnt, 2, dtype=int)))\n",
    "    train_feature = feature[train_idx]\n",
    "\n",
    "    test_idx = np.concatenate(\n",
    "        (label[1][train_cnt:train_cnt+test_cnt], \n",
    "         label[2][train_cnt:train_cnt+test_cnt]))\n",
    "    test_label = np.concatenate(\n",
    "        (np.full(test_cnt, 1, dtype=int), np.full(test_cnt, 2, dtype=int)))\n",
    "    test_feature = feature[test_idx]\n",
    "\n",
    "    # Training \n",
    "    clf = svm.SVC(kernel='rbf',C=5, probability=True)\n",
    "    clf.fit(train_feature,train_label)\n",
    "    \n",
    "    # Testing \n",
    "    print(clf.score(train_feature, train_label))\n",
    "    accuracy = clf.score(test_feature, test_label)\n",
    "    \n",
    "    output = [accuracy, train_cnt, test_cnt*2]\n",
    "#     return output\n",
    "    return clf"
   ]
  },
  {
   "cell_type": "code",
   "execution_count": 27,
   "metadata": {
    "collapsed": false
   },
   "outputs": [
    {
     "name": "stdout",
     "output_type": "stream",
     "text": [
      "The number of sample = (3949878, 7)\n",
      "Positive case (candidate) = 11465\n",
      "Negative case (uncandidate) = 3938413\n",
      "0.9205\n"
     ]
    }
   ],
   "source": [
    "if __name__ == '__main__':\n",
    "    filename = 'confu.pkl'\n",
    "    \n",
    "    (feature, label) = extract(filename)\n",
    "    output = train(feature, label, 1000, 5000)"
   ]
  },
  {
   "cell_type": "code",
   "execution_count": 30,
   "metadata": {
    "collapsed": false
   },
   "outputs": [
    {
     "name": "stdout",
     "output_type": "stream",
     "text": [
      "0.9285\n"
     ]
    }
   ],
   "source": [
    "clf = train(feature, label, 1000, 5000)"
   ]
  },
  {
   "cell_type": "code",
   "execution_count": 53,
   "metadata": {
    "collapsed": false
   },
   "outputs": [
    {
     "name": "stderr",
     "output_type": "stream",
     "text": [
      "F:\\Program Files\\Anaconda3\\lib\\site-packages\\sklearn\\utils\\validation.py:395: DeprecationWarning: Passing 1d arrays as data is deprecated in 0.17 and will raise ValueError in 0.19. Reshape your data either using X.reshape(-1, 1) if your data has a single feature or X.reshape(1, -1) if it contains a single sample.\n",
      "  DeprecationWarning)\n"
     ]
    },
    {
     "data": {
      "text/plain": [
       "array([[-0.46991276, -0.98098072]])"
      ]
     },
     "execution_count": 53,
     "metadata": {},
     "output_type": "execute_result"
    }
   ],
   "source": [
    "clf.predict_log_proba([4,0,0,0,0,0,6])"
   ]
  },
  {
   "cell_type": "code",
   "execution_count": 52,
   "metadata": {
    "collapsed": false
   },
   "outputs": [
    {
     "name": "stderr",
     "output_type": "stream",
     "text": [
      "F:\\Program Files\\Anaconda3\\lib\\site-packages\\sklearn\\utils\\validation.py:395: DeprecationWarning: Passing 1d arrays as data is deprecated in 0.17 and will raise ValueError in 0.19. Reshape your data either using X.reshape(-1, 1) if your data has a single feature or X.reshape(1, -1) if it contains a single sample.\n",
      "  DeprecationWarning)\n"
     ]
    },
    {
     "data": {
      "text/plain": [
       "array([1])"
      ]
     },
     "execution_count": 52,
     "metadata": {},
     "output_type": "execute_result"
    }
   ],
   "source": [
    "clf.predict([4,0,0,0,0,0,6])"
   ]
  },
  {
   "cell_type": "code",
   "execution_count": 19,
   "metadata": {
    "collapsed": true
   },
   "outputs": [],
   "source": [
    "train_set = [3,5,10,20,50,100,200,300,500,700,1000,1500,2000,3000,5000,7000,10000]"
   ]
  },
  {
   "cell_type": "code",
   "execution_count": 10,
   "metadata": {
    "collapsed": false
   },
   "outputs": [
    {
     "data": {
      "text/plain": [
       "[[0.7985953585761647, 3, 22924],\n",
       " [0.74864746945898775, 5, 22920],\n",
       " [0.81335661283282412, 10, 22910],\n",
       " [0.86845784185233732, 20, 22890],\n",
       " [0.86141042487954445, 50, 22830],\n",
       " [0.84879014518257812, 100, 22730],\n",
       " [0.86977363515312911, 200, 22530],\n",
       " [0.88571428571428568, 300, 22330],\n",
       " [0.89238486092111258, 500, 21930],\n",
       " [0.90204366000928937, 700, 21530],\n",
       " [0.89961777353081696, 1000, 20930],\n",
       " [0.90280983442047169, 1500, 19930],\n",
       " [0.90417326994189118, 2000, 18930],\n",
       " [0.90265800354400472, 3000, 16930],\n",
       " [0.90100541376643462, 5000, 12930],\n",
       " [0.90179171332586783, 7000, 8930],\n",
       " [0.90307167235494878, 10000, 2930]]"
      ]
     },
     "execution_count": 10,
     "metadata": {},
     "output_type": "execute_result"
    }
   ],
   "source": [
    "performance"
   ]
  },
  {
   "cell_type": "code",
   "execution_count": 25,
   "metadata": {
    "collapsed": false
   },
   "outputs": [
    {
     "name": "stdout",
     "output_type": "stream",
     "text": [
      "1.0\n",
      "0.8\n",
      "1.0\n",
      "1.0\n",
      "0.96\n",
      "0.89\n",
      "0.94\n",
      "0.916666666667\n",
      "0.905\n",
      "0.913571428571\n",
      "0.9035\n",
      "0.907666666667\n",
      "0.912\n",
      "0.912\n",
      "0.9057\n",
      "0.910071428571\n",
      "0.9086\n"
     ]
    }
   ],
   "source": [
    "performance = []\n",
    "for t in train_set:\n",
    "    performance.append(train(feature, label, t))"
   ]
  },
  {
   "cell_type": "code",
   "execution_count": 17,
   "metadata": {
    "collapsed": false
   },
   "outputs": [
    {
     "data": {
      "text/plain": [
       "[[0.69499214796719599, 3, 22924],\n",
       " [0.78630017452006984, 5, 22920],\n",
       " [0.81981667394151025, 10, 22910],\n",
       " [0.82629969418960247, 20, 22890],\n",
       " [0.80779675865089795, 50, 22830],\n",
       " [0.87817861856577206, 100, 22730],\n",
       " [0.8917887261429206, 200, 22530],\n",
       " [0.88392297357814598, 300, 22330],\n",
       " [0.89648882808937524, 500, 21930],\n",
       " [0.90102183000464464, 700, 21530],\n",
       " [0.90167224080267561, 1000, 20930],\n",
       " [0.90697441043652782, 1500, 19930],\n",
       " [0.90433174854727949, 2000, 18930],\n",
       " [0.90472533963378621, 3000, 16930],\n",
       " [0.90402165506573862, 5000, 12930],\n",
       " [0.90817469204927215, 7000, 8930],\n",
       " [0.90409556313993178, 10000, 2930]]"
      ]
     },
     "execution_count": 17,
     "metadata": {},
     "output_type": "execute_result"
    }
   ],
   "source": [
    "performance"
   ]
  },
  {
   "cell_type": "code",
   "execution_count": 21,
   "metadata": {
    "collapsed": false
   },
   "outputs": [
    {
     "data": {
      "text/plain": [
       "[[0.76094922352120054, 3, 22924],\n",
       " [0.79550610820244327, 5, 22920],\n",
       " [0.84718463553033607, 10, 22910],\n",
       " [0.809916994320664, 20, 22890],\n",
       " [0.88589575120455544, 50, 22830],\n",
       " [0.87338319401671805, 100, 22730],\n",
       " [0.88211273857079453, 200, 22530],\n",
       " [0.8838781907747425, 300, 22330],\n",
       " [0.89758321933424534, 500, 21930],\n",
       " [0.90315838365071988, 700, 21530],\n",
       " [0.90243669374104152, 1000, 20930],\n",
       " [0.90260913196186654, 1500, 19930],\n",
       " [0.90385631273111466, 2000, 18930],\n",
       " [0.90626107501476671, 3000, 16930],\n",
       " [0.90208816705336425, 5000, 12930],\n",
       " [0.90190369540873461, 7000, 8930],\n",
       " [0.90546075085324229, 10000, 2930]]"
      ]
     },
     "execution_count": 21,
     "metadata": {},
     "output_type": "execute_result"
    }
   ],
   "source": [
    "performance"
   ]
  },
  {
   "cell_type": "code",
   "execution_count": 12,
   "metadata": {
    "collapsed": false
   },
   "outputs": [],
   "source": [
    "with open('./confusionTable/SVMacc_setNumber.csv', 'w', encoding='utf8') as wp:\n",
    "    wp.write('Train_set,Test_set,Acc\\n')\n",
    "    for i in performance:\n",
    "        wp.write('{p[1]},{p[2]},{p[0]}\\n'.format(p=i))"
   ]
  }
 ],
 "metadata": {
  "kernelspec": {
   "display_name": "Python [default]",
   "language": "python",
   "name": "python3"
  },
  "language_info": {
   "codemirror_mode": {
    "name": "ipython",
    "version": 3
   },
   "file_extension": ".py",
   "mimetype": "text/x-python",
   "name": "python",
   "nbconvert_exporter": "python",
   "pygments_lexer": "ipython3",
   "version": "3.5.2"
  }
 },
 "nbformat": 4,
 "nbformat_minor": 2
}
