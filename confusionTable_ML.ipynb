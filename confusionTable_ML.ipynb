{
 "cells": [
  {
   "cell_type": "code",
   "execution_count": null,
   "metadata": {
    "collapsed": true
   },
   "outputs": [],
   "source": [
    "import  confusionTable_extractFeature as CTF"
   ]
  },
  {
   "cell_type": "code",
   "execution_count": 1,
   "metadata": {
    "collapsed": true
   },
   "outputs": [],
   "source": [
    "import math"
   ]
  },
  {
   "cell_type": "code",
   "execution_count": 2,
   "metadata": {
    "collapsed": true
   },
   "outputs": [],
   "source": [
    "import sys"
   ]
  },
  {
   "cell_type": "code",
   "execution_count": 3,
   "metadata": {
    "collapsed": true
   },
   "outputs": [],
   "source": [
    "from multiprocessing import Pool"
   ]
  },
  {
   "cell_type": "code",
   "execution_count": 4,
   "metadata": {
    "collapsed": true
   },
   "outputs": [],
   "source": [
    "import pickle\n",
    "import numpy as np\n",
    "from sklearn import svm"
   ]
  },
  {
   "cell_type": "code",
   "execution_count": 5,
   "metadata": {
    "collapsed": true
   },
   "outputs": [],
   "source": [
    "from sklearn.preprocessing import Normalizer, StandardScaler"
   ]
  },
  {
   "cell_type": "code",
   "execution_count": 6,
   "metadata": {
    "collapsed": true
   },
   "outputs": [],
   "source": [
    "from sklearn.naive_bayes import GaussianNB"
   ]
  },
  {
   "cell_type": "code",
   "execution_count": 7,
   "metadata": {
    "collapsed": true
   },
   "outputs": [],
   "source": [
    "from collections import defaultdict\n",
    "import matplotlib.pyplot as plt"
   ]
  },
  {
   "cell_type": "code",
   "execution_count": 10,
   "metadata": {
    "collapsed": false
   },
   "outputs": [],
   "source": [
    "with open('/home/kiwi/udn_data/training_confusion/ch_5401.txt', 'r', encoding='utf8') as fp:                    \n",
    "    CH5400 = set(i.strip() for i in fp.readlines())"
   ]
  },
  {
   "cell_type": "code",
   "execution_count": 11,
   "metadata": {
    "collapsed": true
   },
   "outputs": [],
   "source": [
    "\n",
    "POS = 1\n",
    "NEG = -1\n",
    "UNK = 2\n"
   ]
  },
  {
   "cell_type": "code",
   "execution_count": 12,
   "metadata": {
    "collapsed": true
   },
   "outputs": [],
   "source": [
    "PROCESSCNT = 6\n",
    "MULTIPROCESS = True\n",
    "PRE = False\n",
    "NB = False"
   ]
  },
  {
   "cell_type": "code",
   "execution_count": 13,
   "metadata": {
    "collapsed": true
   },
   "outputs": [],
   "source": [
    "def fCombine(score, log):\n",
    "    # 0.89/0.86    \n",
    "#     tmp = log[:-2]\n",
    "#     tmp.append(score-log[-3]*9-log[-2])\n",
    "    \n",
    "    \n",
    "    # 0.90/0.89\n",
    "#     tmp = log[:-2]\n",
    "\n",
    "    # 0.90/0.89\n",
    "#     tmp = log[:-2]\n",
    "\n",
    "    # 0.99/0.99\n",
    "#     tmp = log[:-2]\n",
    "#     tmp.append(score)\n",
    "\n",
    "    # 0.89/0.86\n",
    "#     tmp = log[:-2]\n",
    "#     s = sum(log[:-2])\n",
    "#     tmp.append(s)\n",
    "\n",
    "    # 0.99/0.99\n",
    "    tmp = log[:-2]\n",
    "    s = score - log[-3]*9\n",
    "    tmp.append(s)\n",
    "    \n",
    "    \n",
    "    return tmp"
   ]
  },
  {
   "cell_type": "code",
   "execution_count": 14,
   "metadata": {
    "collapsed": false
   },
   "outputs": [],
   "source": [
    "def extract(bigDict):\n",
    "    '''Extract (feature/label) from filename\n",
    "    Args:\n",
    "        bigDict (nested dict): the dict of feature (*.pkl) from confusionTable_extractFeature\n",
    "    Return:\n",
    "        train_feature (np.array): feature array\n",
    "        train_label (np.array): the label of feature \n",
    "            (1 for positive, 2 for negative )\n",
    "    '''\n",
    "    \n",
    "    # Initial \n",
    "    label = list()\n",
    "    feature = list()\n",
    "\n",
    "    for error_ch, (cands_val) in bigDict.items():\n",
    "        if error_ch not in CH5400:\n",
    "            continue\n",
    "        \n",
    "        \n",
    "        # two situation for error: (error-pair) or (higher-score)\n",
    "        for cand, (score, log) in cands_val.items():  \n",
    "            if cand not in CH5400:\n",
    "                continue\n",
    "            \n",
    "            \n",
    "            \n",
    "            feature.append(fCombine(score,log))\n",
    "            if log[-2] != 0:\n",
    "                label.append(POS)\n",
    "            else:\n",
    "                label.append(UNK)\n",
    "    \n",
    "    # Combine\n",
    "    train_feature = np.asarray(feature, dtype='float')            \n",
    "    tmp_label = np.asarray(label, dtype='int')\n",
    "    pos = np.where(tmp_label == POS )[0]\n",
    "    neg = np.where(tmp_label == UNK )[0]\n",
    "    train_label = {POS:pos, UNK:neg}        \n",
    "\n",
    "    print('The number of sample = {}'.format(train_feature.shape))\n",
    "    print('Positive case (candidate) = {}'.format(len(train_label[POS])))\n",
    "    print('Negative case (uncandidate) = {}'.format(len(train_label[UNK])))\n",
    "    \n",
    "    return (train_feature, train_label)"
   ]
  },
  {
   "cell_type": "code",
   "execution_count": 15,
   "metadata": {
    "collapsed": true
   },
   "outputs": [],
   "source": [
    "def preprocess(data, method):\n",
    "    '''Preprocessing of feature\n",
    "    Args:\n",
    "        data (np.array): feature \n",
    "        method (str): 'normal'-normalization // 'standard'-standardization\n",
    "    Return:\n",
    "        new_data (np.array): after preprocessing \n",
    "        pre (scikit.preprocess): transform model for feature     \n",
    "    '''\n",
    "    if PRE:    \n",
    "        if method == 'normal':\n",
    "            pre = Normalizer().fit(data)\n",
    "            new_data = pre.transform(data)\n",
    "        elif method == 'standard':\n",
    "            pre = Normalizer().fit(data)\n",
    "            new_data = pre.transform(data)\n",
    "        else:\n",
    "            print('Unknown method')\n",
    "            sys.exit(0)\n",
    "        \n",
    "        return (new_data, pre)\n",
    "    else:\n",
    "        return (data, [])"
   ]
  },
  {
   "cell_type": "code",
   "execution_count": 16,
   "metadata": {
    "collapsed": true
   },
   "outputs": [],
   "source": [
    "def rnBatch(para):\n",
    "    (idx, feature, nbf) = para\n",
    "    \n",
    "    if nbf.predict(feature.reshape(1,-1)) == UNK:\n",
    "        return idx\n",
    "    else:\n",
    "        return -1"
   ]
  },
  {
   "cell_type": "code",
   "execution_count": 17,
   "metadata": {
    "collapsed": false
   },
   "outputs": [],
   "source": [
    "def rnSelect(feature, label):\n",
    "    \n",
    "    if NB:\n",
    "        \n",
    "        nbf_idx = np.concatenate((label[POS],label[UNK]))\n",
    "        nbf_label = np.concatenate(\n",
    "            (np.full(len(label[POS]), POS, dtype=int)\n",
    "             , np.full(len(label[UNK]), UNK, dtype=int)))\n",
    "        nbf_feature = feature[nbf_idx]\n",
    "        nbf = GaussianNB().fit(nbf_feature, nbf_label)\n",
    "\n",
    "        print('Prepare chunk')\n",
    "        chunk = [(idx, feature[idx], nbf) for idx in label[UNK]]\n",
    "\n",
    "        print('Start RN step select')    \n",
    "        if MULTIPROCESS:\n",
    "            with Pool(processes=PROCESSCNT) as pool:\n",
    "                rn_neg = pool.map(rnBatch, chunk)\n",
    "        else:\n",
    "            rn_neg = [rnBatch(c) for c in chunk]\n",
    "\n",
    "\n",
    "        label[NEG] = np.where(np.asarray(rn_neg) != -1)[0]\n",
    "\n",
    "\n",
    "        print('Label[POS]: {}'.format(len(label[POS])))\n",
    "        print('Label[NEG]: {}'.format(len(label[NEG])))\n",
    "        print('Remove Unknown {} samples'.format(len(label[UNK])-len(label[NEG])))\n",
    "    \n",
    "    else:\n",
    "        label[NEG] = label[UNK]\n",
    "    \n",
    "    return label"
   ]
  },
  {
   "cell_type": "code",
   "execution_count": 18,
   "metadata": {
    "collapsed": false
   },
   "outputs": [],
   "source": [
    "def train_svm(feature, label, train_cnt, cost= 0, test_cnt=0, cross_validation=False, g=1/11):\n",
    "    '''Train SVM model from feature\n",
    "    Args:\n",
    "        feature (np.array): feature array\n",
    "        label (np.array): the label of feature \n",
    "        train_cnt (int): the number of training samples \n",
    "        test_cnt (int): (default=samples-train_cnt) the number of testing samples\n",
    "    Return:\n",
    "        xxx    \n",
    "    '''\n",
    "    \n",
    "    assert train_cnt < len(label[POS]), 'Train count must less than positive samples'\n",
    "    \n",
    "    # If test_cnt not declare, use all the remain set as test set    \n",
    "    if train_cnt==0:\n",
    "        assert False, 'sample count cannot be zero'\n",
    "        \n",
    "    if test_cnt==0:\n",
    "        test_cnt = len(label[POS]) - train_cnt\n",
    "        \n",
    "    # Picke feature/label to train & test set    \n",
    "    np.random.shuffle(label[POS])\n",
    "    np.random.shuffle(label[NEG])\n",
    "\n",
    "    train_idx = np.concatenate(\n",
    "        (label[POS][:train_cnt],\n",
    "         label[NEG][:train_cnt]))\n",
    "    train_label = np.concatenate(\n",
    "        (np.full(train_cnt, POS, dtype=int), np.full(train_cnt, NEG, dtype=int)))\n",
    "    train_feature = feature[train_idx]\n",
    "\n",
    "    test_idx = np.concatenate(\n",
    "        (label[POS][train_cnt:train_cnt+test_cnt], \n",
    "         label[NEG][train_cnt:train_cnt+test_cnt]))\n",
    "    test_label = np.concatenate(\n",
    "        (np.full(test_cnt, POS, dtype=int), np.full(test_cnt, NEG, dtype=int)))\n",
    "    test_feature = feature[test_idx]\n",
    "\n",
    "    # Training \n",
    "    clf = svm.SVC(kernel='rbf',C=cost,gamma=g, probability=True)\n",
    "    clf.fit(train_feature,train_label)\n",
    "    \n",
    "    # Testing \n",
    "    accuracy = clf.score(test_feature, test_label)\n",
    "    pos_acc = clf.score(test_feature[:test_cnt], test_label[:test_cnt])\n",
    "    print('Accuracy ({}/{}): {}'.format(test_cnt, len(test_label), accuracy))\n",
    "    print('Positive Accuracy ({}): {}'.format(test_cnt, pos_acc))\n",
    "    \n",
    "#     output = [accuracy, train_cnt, test_cnt*2]\n",
    "#     return output\n",
    "    return clf"
   ]
  },
  {
   "cell_type": "code",
   "execution_count": 19,
   "metadata": {
    "collapsed": false
   },
   "outputs": [],
   "source": [
    "def create_batch(chunk):\n",
    "    global clf\n",
    "    global pre_filter\n",
    "    global threshold\n",
    "#     global confusion\n",
    "#     (cand, threshold) = chunk\n",
    "    \n",
    "    (ch, cands) = chunk\n",
    "    \n",
    "    if ch not in CH5400:\n",
    "        return []\n",
    "    \n",
    "    \n",
    "    \n",
    "    f_batch = []\n",
    "    for ca, (score,log) in cands.items(): \n",
    "        if ca not in CH5400:\n",
    "            continue        \n",
    "        \n",
    "        if log[-2] != 0:\n",
    "            f_batch.append((ca, 1))   \n",
    "        else:\n",
    "            t = fCombine(score,log)\n",
    "            if PRE:\n",
    "                \n",
    "                tmp = pre_filter.transform(np.asarray(t).reshape(1,-1))\n",
    "            else:\n",
    "                tmp = np.asarray(t).reshape(1,-1)\n",
    "            \n",
    "            f = clf.predict_proba(tmp).tolist()[0]            \n",
    "                               \n",
    "            if f[1] > f[0] and f[1] > threshold[0]:\n",
    "                f_batch.append((ca, f[1]))\n",
    "\n",
    "    if len(f_batch) > 0:\n",
    "        f_sorted = sorted(f_batch, key=lambda x:x[1], reverse=True)[:threshold[1]]\n",
    "        f_dict = {ca:s for ca, s in f_sorted}\n",
    "\n",
    "        return (ch, f_dict)\n",
    "    else:\n",
    "        return []\n"
   ]
  },
  {
   "cell_type": "code",
   "execution_count": 20,
   "metadata": {
    "collapsed": false
   },
   "outputs": [],
   "source": [
    "# def create_old(clf, bigDict, pre_filter, threshold):\n",
    "def create(bigDict):\n",
    "    \n",
    "    '''Construct basic NCM\n",
    "    \n",
    "    '''\n",
    "#     global clf\n",
    "#     global pre_filter\n",
    "    \n",
    "    confusion = dict()\n",
    "    c_t, c_tf, sk = 0,0,0\n",
    "    \n",
    "    tt = list(bigDict.items())\n",
    "    \n",
    "    if MULTIPROCESS:\n",
    "        with Pool(processes=PROCESSCNT) as pool:\n",
    "            r = pool.map(create_batch, tt)\n",
    "        confusion = {c[0]:c[1] for c in r if len(c)>0}\n",
    "    else:\n",
    "        for chunk in tt:\n",
    "            batch = create_batch(chunk)\n",
    "            if len(batch)>0:\n",
    "                confusion[batch[0]] = batch[1] \n",
    "            \n",
    "    return confusion"
   ]
  },
  {
   "cell_type": "code",
   "execution_count": 21,
   "metadata": {
    "collapsed": true
   },
   "outputs": [],
   "source": [
    "def info(confusion):\n",
    "    '''Get basic information about NCM \n",
    "    \n",
    "    '''\n",
    "    total_error = len(confusion)\n",
    "    cands = [(ch, len(cand)) for (ch, cand) in \n",
    "        sorted(confusion.items(), key= lambda x:len(x[1]), reverse=True)]\n",
    "\n",
    "    sum_cands = sum(cnt for _, cnt in cands)\n",
    "    max_cands = max(cnt for _, cnt in cands)\n",
    "    min_cands = min(cnt for _, cnt in cands)\n",
    "    mean_cands = sum_cands/total_error\n",
    "    \n",
    "    if total_error%2 == 0:\n",
    "        mid_cands = cands[total_error//2]\n",
    "    else:\n",
    "        mid_cands = cands[(total_error+1)//2]\n",
    "    \n",
    "    print('Total_error: {}\\nSum_cands: {}'.format(total_error, sum_cands))\n",
    "    print('Max_cands: {}\\nMin_cands: {}'.format(max_cands, min_cands))\n",
    "    print('Mean_cands: {:.2f}\\nMid_cands: {}'.format(mean_cands, mid_cands))\n",
    "    print('Top 20 cands:\\n {}'.format(cands[:20]))\n",
    "    \n",
    "    plt.plot([cnt for _, cnt in cands])\n",
    "    plt.xlabel('index')\n",
    "    plt.ylabel('candidates number')\n",
    "    fig = plt.gcf()\n",
    "    plt.show()\n",
    "    fig.savefig('./confusionTable/confu_info.png',dpi=100)"
   ]
  },
  {
   "cell_type": "code",
   "execution_count": 22,
   "metadata": {
    "collapsed": true
   },
   "outputs": [],
   "source": [
    "def outputPKL(confusion, ncm_correct, pkl_file):\n",
    "    '''Assign local probability and output to NCM file\n",
    "    '''\n",
    "    output = defaultdict(dict)\n",
    "    \n",
    "    for ch, cands in confusion.items():\n",
    "        total_cand_val = sum(cands.values())*(1-ncm_correct) + ncm_correct\n",
    "        output[ch] = {ca:(p*(1-ncm_correct))/total_cand_val for ca,p in cands.items()}\n",
    "        output[ch][ch] = ncm_correct/total_cand_val        \n",
    "    \n",
    "    with open(pkl_file, 'wb') as fp:\n",
    "        pickle.dump(output, fp)\n",
    "    \n",
    "    return output"
   ]
  },
  {
   "cell_type": "code",
   "execution_count": 23,
   "metadata": {
    "collapsed": false
   },
   "outputs": [],
   "source": [
    "if __name__ == '__main__':\n",
    "    feature_file = './confusionTable/feature.pkl'\n",
    "    output_file = './confusionTable/confu_{}.pkl'.format\n",
    "    ncm_correct = 0.95\n",
    "        \n",
    "    with open(feature_file, 'rb') as fp:\n",
    "        dataset = pickle.load(fp)\n",
    "    \n",
    "    "
   ]
  },
  {
   "cell_type": "code",
   "execution_count": 24,
   "metadata": {
    "collapsed": false
   },
   "outputs": [
    {
     "name": "stdout",
     "output_type": "stream",
     "text": [
      "[1000, 2000, 3000, 4000, 5000, 6000, 7000]\n"
     ]
    }
   ],
   "source": [
    "test_val = list(range(1000,8000,1000))\n",
    "print(test_val)"
   ]
  },
  {
   "cell_type": "code",
   "execution_count": 25,
   "metadata": {
    "collapsed": false,
    "scrolled": true
   },
   "outputs": [
    {
     "name": "stdout",
     "output_type": "stream",
     "text": [
      "The number of sample = (1561823, 11)\n",
      "Positive case (candidate) = 8400\n",
      "Negative case (uncandidate) = 1553423\n"
     ]
    }
   ],
   "source": [
    "feature,label = extract(dataset)"
   ]
  },
  {
   "cell_type": "code",
   "execution_count": 28,
   "metadata": {
    "collapsed": true
   },
   "outputs": [],
   "source": [
    "PROCESSCNT = 6\n",
    "MULTIPROCESS = True\n",
    "PRE = False\n",
    "NB = False\n",
    "\n",
    "choose_train = 4"
   ]
  },
  {
   "cell_type": "code",
   "execution_count": 29,
   "metadata": {
    "collapsed": false
   },
   "outputs": [
    {
     "name": "stdout",
     "output_type": "stream",
     "text": [
      "PRE\tFalse\n",
      "NB\tFalse\n"
     ]
    }
   ],
   "source": [
    "print('PRE\\t{}\\nNB\\t{}'.format(PRE,NB))"
   ]
  },
  {
   "cell_type": "code",
   "execution_count": 221,
   "metadata": {
    "collapsed": true
   },
   "outputs": [
    {
     "name": "stdout",
     "output_type": "stream",
     "text": [
      "5000 0.05 0.01125\n"
     ]
    },
    {
     "ename": "KeyboardInterrupt",
     "evalue": "",
     "output_type": "error",
     "traceback": [
      "\u001b[0;31m---------------------------------------------------------------------------\u001b[0m",
      "\u001b[0;31mKeyboardInterrupt\u001b[0m                         Traceback (most recent call last)",
      "\u001b[0;32m<ipython-input-221-883f5ab44b7b>\u001b[0m in \u001b[0;36m<module>\u001b[0;34m()\u001b[0m\n\u001b[1;32m      8\u001b[0m         \u001b[0mprint\u001b[0m\u001b[0;34m(\u001b[0m\u001b[0mtest_val\u001b[0m\u001b[0;34m[\u001b[0m\u001b[0mchoose_train\u001b[0m\u001b[0;34m]\u001b[0m\u001b[0;34m,\u001b[0m \u001b[0mcc\u001b[0m\u001b[0;34m,\u001b[0m \u001b[0mgg\u001b[0m\u001b[0;34m)\u001b[0m\u001b[0;34m\u001b[0m\u001b[0m\n\u001b[1;32m      9\u001b[0m         \u001b[0;32mfor\u001b[0m \u001b[0mi\u001b[0m \u001b[0;32min\u001b[0m \u001b[0mrange\u001b[0m\u001b[0;34m(\u001b[0m\u001b[0;36m2\u001b[0m\u001b[0;34m)\u001b[0m\u001b[0;34m:\u001b[0m\u001b[0;34m\u001b[0m\u001b[0m\n\u001b[0;32m---> 10\u001b[0;31m             \u001b[0mclf\u001b[0m \u001b[0;34m=\u001b[0m \u001b[0mtrain_svm\u001b[0m\u001b[0;34m(\u001b[0m\u001b[0mnew_feature\u001b[0m\u001b[0;34m,\u001b[0m \u001b[0mlabel\u001b[0m\u001b[0;34m,\u001b[0m \u001b[0mtest_val\u001b[0m\u001b[0;34m[\u001b[0m\u001b[0mchoose_train\u001b[0m\u001b[0;34m]\u001b[0m\u001b[0;34m,\u001b[0m \u001b[0mcost\u001b[0m\u001b[0;34m=\u001b[0m\u001b[0mcc\u001b[0m\u001b[0;34m,\u001b[0m \u001b[0mg\u001b[0m\u001b[0;34m=\u001b[0m\u001b[0mgg\u001b[0m\u001b[0;34m)\u001b[0m\u001b[0;34m\u001b[0m\u001b[0m\n\u001b[0m",
      "\u001b[0;32m<ipython-input-181-a2805a623b38>\u001b[0m in \u001b[0;36mtrain_svm\u001b[0;34m(feature, label, train_cnt, cost, test_cnt, cross_validation, g)\u001b[0m\n\u001b[1;32m     39\u001b[0m     \u001b[0;31m# Training\u001b[0m\u001b[0;34m\u001b[0m\u001b[0;34m\u001b[0m\u001b[0m\n\u001b[1;32m     40\u001b[0m     \u001b[0mclf\u001b[0m \u001b[0;34m=\u001b[0m \u001b[0msvm\u001b[0m\u001b[0;34m.\u001b[0m\u001b[0mSVC\u001b[0m\u001b[0;34m(\u001b[0m\u001b[0mkernel\u001b[0m\u001b[0;34m=\u001b[0m\u001b[0;34m'rbf'\u001b[0m\u001b[0;34m,\u001b[0m\u001b[0mC\u001b[0m\u001b[0;34m=\u001b[0m\u001b[0mcost\u001b[0m\u001b[0;34m,\u001b[0m\u001b[0mgamma\u001b[0m\u001b[0;34m=\u001b[0m\u001b[0mg\u001b[0m\u001b[0;34m,\u001b[0m \u001b[0mprobability\u001b[0m\u001b[0;34m=\u001b[0m\u001b[0;32mTrue\u001b[0m\u001b[0;34m)\u001b[0m\u001b[0;34m\u001b[0m\u001b[0m\n\u001b[0;32m---> 41\u001b[0;31m     \u001b[0mclf\u001b[0m\u001b[0;34m.\u001b[0m\u001b[0mfit\u001b[0m\u001b[0;34m(\u001b[0m\u001b[0mtrain_feature\u001b[0m\u001b[0;34m,\u001b[0m\u001b[0mtrain_label\u001b[0m\u001b[0;34m)\u001b[0m\u001b[0;34m\u001b[0m\u001b[0m\n\u001b[0m\u001b[1;32m     42\u001b[0m \u001b[0;34m\u001b[0m\u001b[0m\n\u001b[1;32m     43\u001b[0m     \u001b[0;31m# Testing\u001b[0m\u001b[0;34m\u001b[0m\u001b[0;34m\u001b[0m\u001b[0m\n",
      "\u001b[0;32m/home/kiwi/anaconda3/lib/python3.6/site-packages/sklearn/svm/base.py\u001b[0m in \u001b[0;36mfit\u001b[0;34m(self, X, y, sample_weight)\u001b[0m\n\u001b[1;32m    187\u001b[0m \u001b[0;34m\u001b[0m\u001b[0m\n\u001b[1;32m    188\u001b[0m         \u001b[0mseed\u001b[0m \u001b[0;34m=\u001b[0m \u001b[0mrnd\u001b[0m\u001b[0;34m.\u001b[0m\u001b[0mrandint\u001b[0m\u001b[0;34m(\u001b[0m\u001b[0mnp\u001b[0m\u001b[0;34m.\u001b[0m\u001b[0miinfo\u001b[0m\u001b[0;34m(\u001b[0m\u001b[0;34m'i'\u001b[0m\u001b[0;34m)\u001b[0m\u001b[0;34m.\u001b[0m\u001b[0mmax\u001b[0m\u001b[0;34m)\u001b[0m\u001b[0;34m\u001b[0m\u001b[0m\n\u001b[0;32m--> 189\u001b[0;31m         \u001b[0mfit\u001b[0m\u001b[0;34m(\u001b[0m\u001b[0mX\u001b[0m\u001b[0;34m,\u001b[0m \u001b[0my\u001b[0m\u001b[0;34m,\u001b[0m \u001b[0msample_weight\u001b[0m\u001b[0;34m,\u001b[0m \u001b[0msolver_type\u001b[0m\u001b[0;34m,\u001b[0m \u001b[0mkernel\u001b[0m\u001b[0;34m,\u001b[0m \u001b[0mrandom_seed\u001b[0m\u001b[0;34m=\u001b[0m\u001b[0mseed\u001b[0m\u001b[0;34m)\u001b[0m\u001b[0;34m\u001b[0m\u001b[0m\n\u001b[0m\u001b[1;32m    190\u001b[0m         \u001b[0;31m# see comment on the other call to np.iinfo in this file\u001b[0m\u001b[0;34m\u001b[0m\u001b[0;34m\u001b[0m\u001b[0m\n\u001b[1;32m    191\u001b[0m \u001b[0;34m\u001b[0m\u001b[0m\n",
      "\u001b[0;32m/home/kiwi/anaconda3/lib/python3.6/site-packages/sklearn/svm/base.py\u001b[0m in \u001b[0;36m_dense_fit\u001b[0;34m(self, X, y, sample_weight, solver_type, kernel, random_seed)\u001b[0m\n\u001b[1;32m    254\u001b[0m                 \u001b[0mcache_size\u001b[0m\u001b[0;34m=\u001b[0m\u001b[0mself\u001b[0m\u001b[0;34m.\u001b[0m\u001b[0mcache_size\u001b[0m\u001b[0;34m,\u001b[0m \u001b[0mcoef0\u001b[0m\u001b[0;34m=\u001b[0m\u001b[0mself\u001b[0m\u001b[0;34m.\u001b[0m\u001b[0mcoef0\u001b[0m\u001b[0;34m,\u001b[0m\u001b[0;34m\u001b[0m\u001b[0m\n\u001b[1;32m    255\u001b[0m                 \u001b[0mgamma\u001b[0m\u001b[0;34m=\u001b[0m\u001b[0mself\u001b[0m\u001b[0;34m.\u001b[0m\u001b[0m_gamma\u001b[0m\u001b[0;34m,\u001b[0m \u001b[0mepsilon\u001b[0m\u001b[0;34m=\u001b[0m\u001b[0mself\u001b[0m\u001b[0;34m.\u001b[0m\u001b[0mepsilon\u001b[0m\u001b[0;34m,\u001b[0m\u001b[0;34m\u001b[0m\u001b[0m\n\u001b[0;32m--> 256\u001b[0;31m                 max_iter=self.max_iter, random_seed=random_seed)\n\u001b[0m\u001b[1;32m    257\u001b[0m \u001b[0;34m\u001b[0m\u001b[0m\n\u001b[1;32m    258\u001b[0m         \u001b[0mself\u001b[0m\u001b[0;34m.\u001b[0m\u001b[0m_warn_from_fit_status\u001b[0m\u001b[0;34m(\u001b[0m\u001b[0;34m)\u001b[0m\u001b[0;34m\u001b[0m\u001b[0m\n",
      "\u001b[0;31mKeyboardInterrupt\u001b[0m: "
     ]
    }
   ],
   "source": [
    "# cc = 200\n",
    "# gg = 0.045\n",
    "for cc in [0.05,0.1,0.5,1,2,5,10,20,50,100,200,400,800,1600]:\n",
    "    for gg in [0.01125, 0.0225, 0.045, 0.09, 0.18, 0.36, 0.72, 1.44]:\n",
    "# if True:\n",
    "        (new_feature, pre_filter) = preprocess(feature, 'normal')\n",
    "        label = rnSelect(new_feature, label)\n",
    "        print(test_val[choose_train], cc, gg)\n",
    "        for i in range(2):\n",
    "            clf = train_svm(new_feature, label, test_val[choose_train], cost=cc, g=gg)"
   ]
  },
  {
   "cell_type": "code",
   "execution_count": 231,
   "metadata": {
    "collapsed": false
   },
   "outputs": [
    {
     "name": "stdout",
     "output_type": "stream",
     "text": [
      "5000 0.0225\n",
      "Accuracy (3400/6800): 0.9995588235294117\n",
      "Positive Accuracy (3400): 0.9994117647058823\n",
      "Accuracy (3400/6800): 0.9997058823529412\n",
      "Positive Accuracy (3400): 0.9994117647058823\n"
     ]
    }
   ],
   "source": [
    "# for cc in [0.05,0.1,0.5,1,2,5,10,20,50,100]:\n",
    "# for gg in [0.01125, 0.0225, 0.045, 0.09, 0.18, 0.36, 0.72, 1.44]:\n",
    "\n",
    "(new_feature, pre_filter) = preprocess(feature, 'normal')\n",
    "label = rnSelect(new_feature, label)\n",
    "print(test_val[choose_train], 0.0225)\n",
    "for i in range(2):\n",
    "    clf = train_svm(new_feature, label, test_val[choose_train], cost=800, g=0.0225)"
   ]
  },
  {
   "cell_type": "code",
   "execution_count": 30,
   "metadata": {
    "collapsed": false
   },
   "outputs": [
    {
     "name": "stdout",
     "output_type": "stream",
     "text": [
      "5000 0.0225\n",
      "Accuracy (3400/6800): 0.9991176470588236\n",
      "Positive Accuracy (3400): 0.9991176470588236\n",
      "Accuracy (3400/6800): 0.9995588235294117\n",
      "Positive Accuracy (3400): 0.9994117647058823\n"
     ]
    }
   ],
   "source": [
    "# for cc in [0.05,0.1,0.5,1,2,5,10,20,50,100]:\n",
    "# for gg in [0.01125, 0.0225, 0.045, 0.09, 0.18, 0.36, 0.72, 1.44]:\n",
    "\n",
    "(new_feature, pre_filter) = preprocess(feature, 'normal')\n",
    "label = rnSelect(new_feature, label)\n",
    "print(test_val[choose_train], 0.0225)\n",
    "for i in range(2):\n",
    "    clf = train_svm(new_feature, label, test_val[choose_train], cost=800, g=0.0225)"
   ]
  },
  {
   "cell_type": "code",
   "execution_count": 312,
   "metadata": {
    "collapsed": true
   },
   "outputs": [],
   "source": [
    "threshold = [0.9,50]"
   ]
  },
  {
   "cell_type": "code",
   "execution_count": 31,
   "metadata": {
    "collapsed": false
   },
   "outputs": [
    {
     "data": {
      "text/plain": [
       "SVC(C=800, cache_size=200, class_weight=None, coef0=0.0,\n",
       "  decision_function_shape=None, degree=3, gamma=0.0225, kernel='rbf',\n",
       "  max_iter=-1, probability=True, random_state=None, shrinking=True,\n",
       "  tol=0.001, verbose=False)"
      ]
     },
     "execution_count": 31,
     "metadata": {},
     "output_type": "execute_result"
    }
   ],
   "source": [
    "clf"
   ]
  },
  {
   "cell_type": "code",
   "execution_count": 313,
   "metadata": {
    "collapsed": false
   },
   "outputs": [
    {
     "name": "stdout",
     "output_type": "stream",
     "text": [
      "Total_error: 3561\n",
      "Sum_cands: 10021\n",
      "Max_cands: 23\n",
      "Min_cands: 1\n",
      "Mean_cands: 2.81\n",
      "Mid_cands: ('序', 2)\n",
      "Top 20 cands:\n",
      " [('是', 23), ('事', 21), ('以', 17), ('昤', 16), ('貍', 15), ('鉋', 15), ('至', 15), ('隹', 14), ('起', 14), ('經', 14), ('之', 13), ('付', 13), ('識', 12), ('師', 12), ('心', 12), ('正', 12), ('鉑', 12), ('式', 12), ('一', 12), ('長', 12)]\n"
     ]
    },
    {
     "data": {
      "image/png": "[encoded data removed]",
      "text/plain": [
       "<matplotlib.figure.Figure at 0x7fee62fa46a0>"
      ]
     },
     "metadata": {},
     "output_type": "display_data"
    }
   ],
   "source": [
    "# 0.9/50\n",
    "confu_raw = create(dataset)\n",
    "info(confu_raw)"
   ]
  },
  {
   "cell_type": "code",
   "execution_count": 33,
   "metadata": {
    "collapsed": false
   },
   "outputs": [
    {
     "name": "stdout",
     "output_type": "stream",
     "text": [
      "Total_error: 3411\n",
      "Sum_cands: 9054\n",
      "Max_cands: 23\n",
      "Min_cands: 1\n",
      "Mean_cands: 2.65\n",
      "Mid_cands: ('俱', 2)\n",
      "Top 20 cands:\n",
      " [('是', 23), ('事', 21), ('以', 17), ('至', 15), ('起', 14), ('經', 14), ('之', 13), ('付', 13), ('識', 12), ('師', 12), ('心', 12), ('正', 12), ('式', 12), ('一', 12), ('長', 12), ('知', 12), ('息', 12), ('決', 12), ('時', 12), ('機', 12)]\n"
     ]
    },
    {
     "data": {
      "image/png": "[encoded data removed]",
      "text/plain": [
       "<matplotlib.figure.Figure at 0x7f42a7f046d8>"
      ]
     },
     "metadata": {},
     "output_type": "display_data"
    }
   ],
   "source": [
    "# 0.8/50\n",
    "threshold = [0.8,50]\n",
    "confu_raw = create(dataset)\n",
    "info(confu_raw)"
   ]
  },
  {
   "cell_type": "code",
   "execution_count": 335,
   "metadata": {
    "collapsed": false
   },
   "outputs": [
    {
     "name": "stdout",
     "output_type": "stream",
     "text": [
      "Total_error: 3607\n",
      "Sum_cands: 10200\n",
      "Max_cands: 23\n",
      "Min_cands: 1\n",
      "Mean_cands: 2.83\n",
      "Mid_cands: ('窺', 2)\n",
      "Top 20 cands:\n",
      " [('是', 23), ('事', 21), ('以', 17), ('昤', 16), ('貍', 15), ('鉋', 15), ('至', 15), ('隹', 14), ('鮫', 14), ('起', 14), ('經', 14), ('蝓', 13), ('之', 13), ('付', 13), ('氦', 12), ('識', 12), ('師', 12), ('心', 12), ('正', 12), ('鉑', 12)]\n"
     ]
    },
    {
     "data": {
      "image/png": "[encoded data removed]",
      "text/plain": [
       "<matplotlib.figure.Figure at 0x7fee62fa4390>"
      ]
     },
     "metadata": {},
     "output_type": "display_data"
    }
   ],
   "source": [
    "# 0.7/30\n",
    "threshold = [0.7,30]\n",
    "confu_raw = create(dataset)\n",
    "info(confu_raw)"
   ]
  },
  {
   "cell_type": "code",
   "execution_count": 336,
   "metadata": {
    "collapsed": false
   },
   "outputs": [
    {
     "name": "stdout",
     "output_type": "stream",
     "text": [
      "Total_error: 3643\n",
      "Sum_cands: 10302\n",
      "Max_cands: 23\n",
      "Min_cands: 1\n",
      "Mean_cands: 2.83\n",
      "Mid_cands: ('匡', 2)\n",
      "Top 20 cands:\n",
      " [('是', 23), ('事', 21), ('以', 17), ('昤', 16), ('貍', 15), ('鉋', 15), ('至', 15), ('隹', 14), ('鮫', 14), ('起', 14), ('經', 14), ('蝓', 13), ('之', 13), ('付', 13), ('鯖', 13), ('氦', 12), ('識', 12), ('師', 12), ('心', 12), ('正', 12)]\n"
     ]
    },
    {
     "data": {
      "image/png": "[encoded data removed]",
      "text/plain": [
       "<matplotlib.figure.Figure at 0x7fee497f07b8>"
      ]
     },
     "metadata": {},
     "output_type": "display_data"
    }
   ],
   "source": [
    "# 0.6/30\n",
    "threshold = [0.6, 30]\n",
    "confu_raw = create(dataset)\n",
    "info(confu_raw)"
   ]
  },
  {
   "cell_type": "code",
   "execution_count": 311,
   "metadata": {
    "collapsed": false
   },
   "outputs": [
    {
     "data": {
      "text/plain": [
       "{'伯': 0.9999999999999699,\n",
       " '帕': 0.9437608408254147,\n",
       " '帛': 0.9999998776399319,\n",
       " '柏': 0.9999999999999699,\n",
       " '泊': 0.9999999999999699,\n",
       " '白': 1,\n",
       " '箔': 0.9974343539890578,\n",
       " '粕': 0.9999994837121372,\n",
       " '舶': 0.9999999999999699,\n",
       " '迫': 0.999988737048717,\n",
       " '鈸': 0.9999960053510258,\n",
       " '魄': 0.9316106477359433}"
      ]
     },
     "execution_count": 311,
     "metadata": {},
     "output_type": "execute_result"
    }
   ],
   "source": [
    "confu_raw['鉑']"
   ]
  },
  {
   "cell_type": "code",
   "execution_count": 304,
   "metadata": {
    "collapsed": false
   },
   "outputs": [
    {
     "name": "stdout",
     "output_type": "stream",
     "text": [
      "[4, 1, 1, 0, 1, 0, 0, -3.102533, -99.0, 0.0, 7.0]\n",
      "[4, 1, 1, 0, 1, 0, 0, -3.102533, -99.0, 0.0, 7.0]\n",
      "[-1  1]\n",
      "[1]\n"
     ]
    },
    {
     "data": {
      "text/plain": [
       "[3.00000089999998e-14, 0.9999999999999699]"
      ]
     },
     "execution_count": 304,
     "metadata": {},
     "output_type": "execute_result"
    }
   ],
   "source": [
    "ch_x, ch_y = '世','紲'\n",
    "t = dataset[ch_x][ch_y][1][:-2]\n",
    "t.append(dataset[ch_x][ch_y][0])\n",
    "\n",
    "print(t)\n",
    "\n",
    "ffff = fCombine(dataset[ch_x][ch_y][0], dataset[ch_x][ch_y][1])\n",
    "\n",
    "print(ffff)\n",
    "\n",
    "# tmp = np.asarray(t).reshape(1,-1)\n",
    "tmp = np.asarray(ffff).reshape(1,-1)\n",
    "\n",
    "print(clf.classes_)\n",
    "print(clf.predict(tmp))\n",
    "clf.predict_proba(tmp).tolist()[0]\n"
   ]
  },
  {
   "cell_type": "code",
   "execution_count": 256,
   "metadata": {
    "collapsed": false
   },
   "outputs": [
    {
     "data": {
      "text/plain": [
       "array([-1,  1])"
      ]
     },
     "execution_count": 256,
     "metadata": {},
     "output_type": "execute_result"
    }
   ],
   "source": [
    "clf.classes_"
   ]
  },
  {
   "cell_type": "code",
   "execution_count": 246,
   "metadata": {
    "collapsed": false
   },
   "outputs": [
    {
     "data": {
      "text/plain": [
       "[4,\n",
       " 0,\n",
       " 0,\n",
       " 4,\n",
       " 0,\n",
       " 0,\n",
       " 3.0,\n",
       " -4.646023,\n",
       " -2.961896,\n",
       " 0.088673893414276256,\n",
       " 11.886738934142763]"
      ]
     },
     "execution_count": 246,
     "metadata": {},
     "output_type": "execute_result"
    }
   ],
   "source": [
    "t"
   ]
  },
  {
   "cell_type": "code",
   "execution_count": 248,
   "metadata": {
    "collapsed": false
   },
   "outputs": [
    {
     "data": {
      "text/plain": [
       "[3,\n",
       " 0,\n",
       " 0,\n",
       " 3,\n",
       " 0,\n",
       " 0,\n",
       " 3.0,\n",
       " -4.646023,\n",
       " -2.911803,\n",
       " 0.12919455018158885,\n",
       " 10.291945501815889]"
      ]
     },
     "execution_count": 248,
     "metadata": {},
     "output_type": "execute_result"
    }
   ],
   "source": [
    "t"
   ]
  },
  {
   "cell_type": "code",
   "execution_count": 243,
   "metadata": {
    "collapsed": false
   },
   "outputs": [
    {
     "data": {
      "text/plain": [
       "array([1])"
      ]
     },
     "execution_count": 243,
     "metadata": {},
     "output_type": "execute_result"
    }
   ],
   "source": [
    "clf.predict(np.asarray(t).reshape(1,-1))"
   ]
  },
  {
   "cell_type": "code",
   "execution_count": 329,
   "metadata": {
    "collapsed": false
   },
   "outputs": [],
   "source": [
    "confu = outputPKL(confu_raw, 0.999995, output_file('999995_9_50'))"
   ]
  },
  {
   "cell_type": "code",
   "execution_count": 34,
   "metadata": {
    "collapsed": false
   },
   "outputs": [],
   "source": [
    "confu = outputPKL(confu_raw, 0.9999995, output_file('9999995_8_50'))"
   ]
  },
  {
   "cell_type": "code",
   "execution_count": 333,
   "metadata": {
    "collapsed": false
   },
   "outputs": [],
   "source": [
    "confu = outputPKL(confu_raw, 0.995, output_file('995_9_50'))"
   ]
  },
  {
   "cell_type": "code",
   "execution_count": 334,
   "metadata": {
    "collapsed": false
   },
   "outputs": [
    {
     "data": {
      "text/plain": [
       "{'房': 0.00492610837438424,\n",
       " '放': 0.00492610837438424,\n",
       " '方': 0.980295566502463,\n",
       " '芳': 0.00492610837438424,\n",
       " '風': 0.00492610837438424}"
      ]
     },
     "execution_count": 334,
     "metadata": {},
     "output_type": "execute_result"
    }
   ],
   "source": [
    "confu['方']"
   ]
  },
  {
   "cell_type": "code",
   "execution_count": 317,
   "metadata": {
    "collapsed": false
   },
   "outputs": [
    {
     "data": {
      "text/plain": [
       "{'房': 1, '放': 1, '芳': 1, '風': 1}"
      ]
     },
     "execution_count": 317,
     "metadata": {},
     "output_type": "execute_result"
    }
   ],
   "source": [
    "confu_raw['方']"
   ]
  }
 ],
 "metadata": {
  "kernelspec": {
   "display_name": "Python 3",
   "language": "python",
   "name": "python3"
  },
  "language_info": {
   "codemirror_mode": {
    "name": "ipython",
    "version": 3
   },
   "file_extension": ".py",
   "mimetype": "text/x-python",
   "name": "python",
   "nbconvert_exporter": "python",
   "pygments_lexer": "ipython3",
   "version": "3.6.0"
  }
 },
 "nbformat": 4,
 "nbformat_minor": 2
}
