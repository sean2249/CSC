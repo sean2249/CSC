{
 "cells": [
  {
   "cell_type": "code",
   "execution_count": 87,
   "metadata": {
    "collapsed": true
   },
   "outputs": [],
   "source": [
    "import re\n",
    "from collections import defaultdict"
   ]
  },
  {
   "cell_type": "code",
   "execution_count": 1,
   "metadata": {
    "collapsed": true
   },
   "outputs": [],
   "source": [
    "labelFile = './withError_label.txt'"
   ]
  },
  {
   "cell_type": "code",
   "execution_count": 124,
   "metadata": {
    "collapsed": false
   },
   "outputs": [],
   "source": [
    "uniseq = dict()\n",
    "error_type = defaultdict(lambda :defaultdict(int))\n",
    "testData = []\n",
    "discard = []\n",
    "with open(labelFile, 'r', encoding='utf8') as fp:\n",
    "#     line = fp.readline().strip()\n",
    "    for line in fp:\n",
    "        \n",
    "        line = line.strip()\n",
    "        \n",
    "        if line in uniseq:     \n",
    "            if line[0] == uniseq.get(line,''):                \n",
    "                continue\n",
    "            # Same sequence different label             \n",
    "            else:\n",
    "                print('sequence: {}'.format(line))                \n",
    "                continue                        \n",
    "            \n",
    "        if line[0] == 'S':\n",
    "            errors = re.findall(r'\\(.\\)', line)\n",
    "            \n",
    "            for e in re.finditer(r'\\(.\\)', line):\n",
    "                co = e.group()[1]\n",
    "                er = line[e.start()-1]                \n",
    "                error_type[er][co] += 1                                \n",
    "            \n",
    "            testData.append((line[1:], errors))\n",
    "        else:\n",
    "            discard.append(line[1:]) \n",
    "        \n",
    "        uniseq[line] = line[0]"
   ]
  },
  {
   "cell_type": "code",
   "execution_count": 134,
   "metadata": {
    "collapsed": false
   },
   "outputs": [],
   "source": [
    "def exchangeCheck(error_type):\n",
    "    '''Check the errors contained mutual relation     \n",
    "    '''\n",
    "    runThrough = set()\n",
    "    for er, cands in error_type.items():\n",
    "        for co, erco_cnt in cands.items():        \n",
    "            if er in error_type.get(co, dict()):            \n",
    "                if er+co in runThrough:\n",
    "                    continue\n",
    "                coer_cnt = error_type[co][er]\n",
    "\n",
    "                runThrough.add(er+co)\n",
    "                runThrough.add(co+er)\n",
    "                print('{}->{}/{}  {}->{}/{}'\n",
    "                      .format(er,co,erco_cnt,co,er,coer_cnt))                                                            "
   ]
  },
  {
   "cell_type": "code",
   "execution_count": 135,
   "metadata": {
    "collapsed": false
   },
   "outputs": [
    {
     "name": "stdout",
     "output_type": "stream",
     "text": [
      "在->再/1  再->在/3\n",
      "的->地/6  地->的/1\n",
      "你->妳/1  妳->你/1\n",
      "做->作/8  作->做/9\n",
      "份->分/37  分->份/3\n",
      "已->以/3  以->已/1\n",
      "為->位/1  位->為/1\n",
      "臺->台/26  台->臺/3\n",
      "涌->湧/1  湧->涌/2\n",
      "檔->擋/1  擋->檔/1\n",
      "兇->凶/5  凶->兇/2\n",
      "儘->盡/9  盡->儘/3\n",
      "紀->記/8  記->紀/4\n",
      "形->型/2  型->形/1\n",
      "鎖->瑣/1  瑣->鎖/1\n",
      "濕->溼/7  溼->濕/1\n",
      "雇->僱/2  僱->雇/2\n",
      "嚐->嘗/6  嘗->嚐/2\n",
      "銷->消/1  消->銷/1\n"
     ]
    }
   ],
   "source": [
    "exchangeCheck(error_type)"
   ]
  }
 ],
 "metadata": {
  "kernelspec": {
   "display_name": "Python 3",
   "language": "python",
   "name": "python3"
  },
  "language_info": {
   "codemirror_mode": {
    "name": "ipython",
    "version": 3
   },
   "file_extension": ".py",
   "mimetype": "text/x-python",
   "name": "python",
   "nbconvert_exporter": "python",
   "pygments_lexer": "ipython3",
   "version": "3.6.0"
  }
 },
 "nbformat": 4,
 "nbformat_minor": 2
}
