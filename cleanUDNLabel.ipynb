{
 "cells": [
  {
   "cell_type": "code",
   "execution_count": 35,
   "metadata": {
    "collapsed": true
   },
   "outputs": [],
   "source": [
    "import os\n",
    "import re\n",
    "import random\n",
    "from collections import defaultdict\n",
    "import argparse"
   ]
  },
  {
   "cell_type": "code",
   "execution_count": 16,
   "metadata": {
    "collapsed": true
   },
   "outputs": [],
   "source": [
    "def extractErrors(seq):\n",
    "    for pair in re.finditer(r'.\\(.\\)', seq):\n",
    "        err_ch, cor_ch = pair.group()[0], pair.group()[2]\n",
    "        yield err_ch, cor_ch"
   ]
  },
  {
   "cell_type": "code",
   "execution_count": 17,
   "metadata": {
    "collapsed": true
   },
   "outputs": [],
   "source": [
    "def dataAction(seq, action):\n",
    "    global testData_output, testData_output, error_type, discard\n",
    "    \n",
    "    if action == 'append':\n",
    "        errors = []\n",
    "        for (err_ch, cor_ch) in extractErrors(seq):\n",
    "            if cor_ch > err_ch:\n",
    "                pair = (err_ch, cor_ch) \n",
    "                error_type[pair][0] += 1\n",
    "            else:\n",
    "                pair = (cor_ch, err_ch)\n",
    "                error_type[pair][1] += 1\n",
    "\n",
    "            testData_pair[pair].add(seq)\n",
    "            errors.append((err_ch, cor_ch))    \n",
    "\n",
    "        testData_output[seq] = errors\n",
    "    \n",
    "    elif action == 'remove':\n",
    "        for (err_ch, cor_ch) in extractErrors(seq):\n",
    "            if cor_ch > err_ch:\n",
    "                pair = (err_ch, cor_ch) \n",
    "                error_type[pair][0] -= 1\n",
    "            else:\n",
    "                pair = (cor_ch, err_ch)\n",
    "                error_type[pair][1] -= 1\n",
    "            if seq in testData_pair[pair]:\n",
    "                testData_pair[pair].remove(seq)\n",
    "            \n",
    "\n",
    "        testData_output.pop(seq)        \n",
    "        discard.add(seq)"
   ]
  },
  {
   "cell_type": "code",
   "execution_count": 18,
   "metadata": {
    "collapsed": false
   },
   "outputs": [],
   "source": [
    "def loadData(labelFile):            \n",
    "    global discard\n",
    "    confused = []\n",
    "    uniseq = dict()\n",
    "    with open(labelFile, 'r', encoding='utf8') as fp:\n",
    "        for line in fp:\n",
    "            line = line.strip()        \n",
    "            label, seq = line[0], line[1:]\n",
    "\n",
    "            if seq in uniseq:            \n",
    "                if label != uniseq.get(seq, ''):\n",
    "                    confused.append(seq)                \n",
    "                    if uniseq.get(seq,'E') == 'S':                    \n",
    "                        dataAction(seq, 'remove')\n",
    "            elif label == 'S':                        \n",
    "                dataAction(seq, 'append')\n",
    "\n",
    "            elif label == 'E':\n",
    "                discard.add(seq)\n",
    "\n",
    "            uniseq[seq] = label           \n",
    "    \n",
    "        \n",
    "    return confused"
   ]
  },
  {
   "cell_type": "code",
   "execution_count": 19,
   "metadata": {
    "collapsed": false,
    "scrolled": true
   },
   "outputs": [],
   "source": [
    "logFile = './UDN_benchmark/UDN_benchmark45.md'\n",
    "\n",
    "def loadLog(logFile):\n",
    "    with open(logFile, 'r', encoding='utf8') as fp:\n",
    "        for idx, line in enumerate(fp,1):\n",
    "            if line[0] == '#': continue\n",
    "\n",
    "            lst = line.strip().split('|||')\n",
    "            if lst[0] == 'remove':\n",
    "                pass\n",
    "            elif lst[0] == 'append':\n",
    "                dataAction(lst[1], 'append')\n",
    "\n",
    "            elif lst[0] == 'process':\n",
    "                pass        \n",
    "\n",
    "            elif lst[0] == 'kick_pair':\n",
    "                pass            \n",
    "\n",
    "            elif lst[0] == 'kick_remove':\n",
    "                dataAction(lst[1], 'remove')\n",
    "\n",
    "            elif lst[0] == 'rank':\n",
    "                pair = tuple(lst[1].split(','))\n",
    "                pairRanking[pair] = int(lst[2])\n",
    "\n",
    "            elif lst[0] == 'unrank':\n",
    "                pair = tuple(lst[1].split(','))            \n",
    "                pairRanking[pair] = 0\n",
    "\n",
    "            else:\n",
    "                print(idx,lst)\n",
    "                break"
   ]
  },
  {
   "cell_type": "code",
   "execution_count": 20,
   "metadata": {
    "collapsed": true
   },
   "outputs": [],
   "source": [
    "def infoPrint():\n",
    "    print('Total number of sequence = {}'.format(len(testData_output)+len(discard)))\n",
    "    print('Number of Spelling errors = {}'.format(len(testData_output)))\n",
    "    print('Number of editor errors = {}'.format(len(discard)))\n",
    "    \n",
    "    print('Average length of spelling error sentences = {:.2f}'.\n",
    "          format(sum(len(i) for i in testData_output.keys())/len(testData_output)))\n",
    "    print('Average error in spelling error sentence = {:.2f}'.\n",
    "          format(sum(len(e) for s, e in testData_output.items())/len(testData_output)))\n",
    "    \n",
    "    mutual_case = len([1 for pair, count in error_type.items()\n",
    "                       if count[0]!= 0 and count[1]!=0])\n",
    "    \n",
    "    error_sort = sorted(error_type.items(), key=lambda x:sum(x[1]), reverse=True)\n",
    "        \n",
    "    print('Number of unique pairs = {}'.format(len(testData_pair)+mutual_case))\n",
    "    for idx,t in enumerate(error_sort[:10],1):\n",
    "        print('Top {} count in pair {di[0]}/{di[1]}'.format(idx,di=t))\n",
    "        \n",
    "    print('===== Ranking =====')\n",
    "    if not pairRanking:\n",
    "        print('Ranking not load...')\n",
    "    else:\n",
    "        print('Number of unique pairs = {}'.format(len(pairRanking)))\n",
    "        sc = list(pairRanking.values())\n",
    "        for r in set(sc):\n",
    "            print('Case {} have {}'.format(r, sc.count(r)))\n",
    "            "
   ]
  },
  {
   "cell_type": "code",
   "execution_count": 21,
   "metadata": {
    "collapsed": false
   },
   "outputs": [],
   "source": [
    "def confusedLabelClassify(confused):\n",
    "    # Confused label classify \n",
    "    ####\n",
    "    fid = open(UDN_benchmark_log, 'a', encoding='utf8')\n",
    "    fid.write('### Conufsed Label Classify \\n')\n",
    "    #####\n",
    "\n",
    "    for seq in confused:\n",
    "        while(1):\n",
    "            ans = input('{} want to add? y;/n\\'\\t'.format(seq)).lower()\n",
    "            if ans == ';':\n",
    "                dataAction(seq, 'append')   \n",
    "                fid.write('append|||{}\\n'.format(seq))\n",
    "                break\n",
    "            elif ans == '\\'':\n",
    "                fid.write('remove|||{}\\n'.format(seq))\n",
    "                break\n",
    "    fid.close()"
   ]
  },
  {
   "cell_type": "code",
   "execution_count": 22,
   "metadata": {
    "collapsed": true
   },
   "outputs": [],
   "source": [
    "def mutualCase():\n",
    "    ####\n",
    "    fid = open(UDN_benchmark_log, 'a', encoding='utf8')\n",
    "    fid.write('### Mutual Error Case \\n')\n",
    "    #####\n",
    "    \n",
    "    mutual_case = [(pair,count) for pair, count in error_type.items()\n",
    "                       if count[0]!= 0 and count[1]!=0]\n",
    "\n",
    "    for pair, count in mutual_case:    \n",
    "        allSeqs = list(testData_pair[pair])\n",
    "        print('==========')\n",
    "        print('\\n'.join(allSeqs))\n",
    "        print('{}->{} {}'.format(pair[0],pair[1],count[0]))\n",
    "        print('{}->{} {}'.format(pair[1],pair[0],count[1]))    \n",
    "\n",
    "        while(1):\n",
    "            action = input('Want to process? Y;/N\\'\\t').lower()\n",
    "            if action == ';':\n",
    "                tag = 1 \n",
    "                fid.write('process|||{}\\n'.format(pair))\n",
    "                break\n",
    "            elif action == '\\'':\n",
    "                tag = 0\n",
    "                fid.write('kick_pair|||{}\\n'.format(pair))\n",
    "                break\n",
    "\n",
    "        fid.write('#### {}\\n'.format(input('Comment: ')))\n",
    "\n",
    "        if tag == 1:\n",
    "            for seq in allSeqs:\n",
    "                while(1):\n",
    "                    action = input('{} Store? Y;/N\\'\\t'.format(seq)).lower()\n",
    "                    if action == '\\'':\n",
    "                        dataAction(seq, 'remove')\n",
    "                        fid.write('kick_remove|||{}\\n'.format(seq))\n",
    "                        break\n",
    "                    elif action == ';':\n",
    "                        break\n",
    "        else:\n",
    "            for seq in allSeqs:\n",
    "                dataAction(seq, 'remove')   \n",
    "                fid.write('kick_remove|||{}\\n'.format(seq))\n",
    "\n",
    "    if not fid.closed: fid.close()"
   ]
  },
  {
   "cell_type": "code",
   "execution_count": 23,
   "metadata": {
    "collapsed": false
   },
   "outputs": [],
   "source": [
    "def rankPair():\n",
    "    # Ranking pair\n",
    "    # testData_pair = defaultdict(set)\n",
    "    # testData_output = dict()\n",
    "    # error_type = defaultdict(lambda :[0,0])    \n",
    "\n",
    "    #####\n",
    "    with open(UDN_benchmark_log, 'a', encoding='utf8') as fid:\n",
    "        fid.write('### Rank Pair \\n')\n",
    "    #####\n",
    "\n",
    "    items = error_type.items()\n",
    "    for pair, nums in items:        \n",
    "        for idx in range(2):            \n",
    "            fid = open(UDN_benchmark_log, 'a', encoding='utf8')\n",
    "            \n",
    "            if nums[idx] != 0:\n",
    "                p = (pair[0],pair[1]) if idx==0 else (pair[1], pair[0])                \n",
    "                \n",
    "                \n",
    "                if p in pairRanking:\n",
    "                    continue\n",
    "                \n",
    "                seqs = [seq for seq in testData_pair[pair] if p in testData_output[seq]]\n",
    "                print('======')\n",
    "                print(p, nums[idx])\n",
    "                print('\\n'.join(seqs[:5]))\n",
    "                while (1):\n",
    "                    action = input('Rank {}-{} 0(Remove)-5(Good)\\t'.format(p[0],p[1]))\n",
    "                    if not action.isdigit():\n",
    "                        continue\n",
    "                    else:\n",
    "                        action = int(action)\n",
    "                        if action <= 0:\n",
    "                            fid.write('unrank|||{}\\n'.format(','.join(p)))\n",
    "                            for seq in seqs:\n",
    "                                fid.write('kick_remove|||{}\\n'.format(seq))\n",
    "                                dataAction(seq, 'remove')\n",
    "                            break\n",
    "                        elif action <=5 :\n",
    "                            fid.write('rank|||{}|||{}\\n'.format(','.join(p), action))\n",
    "                            pairRanking[p] = action \n",
    "                            break\n",
    "                \n",
    "                action = input('Need comment? Y; ')\n",
    "                if action == ';':\n",
    "                    fid.write('#### {} {}\\n'.format(pair, input('comment: ')))\n",
    "                    \n",
    "            fid.close()                                "
   ]
  },
  {
   "cell_type": "code",
   "execution_count": 24,
   "metadata": {
    "collapsed": false
   },
   "outputs": [],
   "source": [
    "def outputSeperate(seq):\n",
    "    errLst = re.findall(r'\\(.\\)', seq)\n",
    "    tmpStr = re.subn(r'\\(.\\)', '|||', seq)[0].split('|||')\n",
    "    total_length = 0\n",
    "    error_info = []\n",
    "    for idx, cor_ch in zip(tmpStr[:-1], errLst):\n",
    "        error_info.append((len(idx)+total_length, cor_ch[1]))\n",
    "        total_length += len(idx)\n",
    "\n",
    "    return ''.join(tmpStr), error_info"
   ]
  },
  {
   "cell_type": "code",
   "execution_count": 183,
   "metadata": {
    "collapsed": false
   },
   "outputs": [],
   "source": [
    "def generateTestData(pairRanking, select):\n",
    "#     PAIRLIMIT = 5\n",
    "    SEQLEN = 5\n",
    "    \n",
    "    output_seq = dict()\n",
    "    for pair, r in pairRanking.items():\n",
    "        if r not in select: continue\n",
    "\n",
    "        if pair in testData_pair:\n",
    "            seqs = testData_pair[pair]\n",
    "        else:        \n",
    "            p = (pair[1], pair[0])\n",
    "            seqs = testData_pair[p]\n",
    "        \n",
    "        pick = 0\n",
    "        for seq in list(seqs):\n",
    "            error_pairs = [(e,c) for (e,c) in extractErrors(seq)]\n",
    "            if pair in error_pairs and len(seq)>SEQLEN and '\\xa0' not in seq and 'http' not in seq:\n",
    "#                 if pick>PAIRLIMIT: \n",
    "#                     break\n",
    "#                 else:\n",
    "#                     pick += 1                    \n",
    "                clean_seq, error_info = outputSeperate(seq)\n",
    "                output_seq[clean_seq] = error_info\n",
    "    \n",
    "    print('Output {} sentences with {} errors'.format(\n",
    "        len(output_seq), sum(len(es) for es in output_seq.values()) ))\n",
    "\n",
    "    \n",
    "    return output_seq"
   ]
  },
  {
   "cell_type": "code",
   "execution_count": 195,
   "metadata": {
    "collapsed": true
   },
   "outputs": [],
   "source": [
    "def dumpTest(output_seq, output_file):\n",
    "    # Write into File\n",
    "#     with open(output_file, 'w', encoding='utf8') as wp:\n",
    "#         for (seq, error_info) in output_seq.items():\n",
    "#             error_infoStr = ', '.join(['{}, {}'.format(idx,ch) for idx, ch in error_info])\n",
    "#             wp.write('{}|||{}\\n'.format(seq, error_infoStr))\n",
    "#     with open(output_file, 'w', encoding='utf8') as wp:\n",
    "#         for (seq, error_info) in output_seq:\n",
    "#             error_infoStr = ', '.join(['{}, {}'.format(idx,ch) for idx, ch in error_info])\n",
    "#             wp.write('{}|||{}\\n'.format(seq, error_infoStr))\n",
    "    with open(output_file, 'w', encoding='utf8') as wp:\n",
    "        for item in output_seq:\n",
    "            if len(item)==2:\n",
    "                seq, error_info = item\n",
    "                error_infoStr = ', '.join(['{}, {}'.format(idx,ch) for idx, ch in error_info])\n",
    "                wp.write('{}|||{}\\n'.format(seq, error_infoStr))\n",
    "            else:\n",
    "                wp.write('{}|||\\n'.format(item))"
   ]
  },
  {
   "cell_type": "code",
   "execution_count": 26,
   "metadata": {
    "collapsed": true
   },
   "outputs": [],
   "source": [
    "def garbageDump(filename):\n",
    "    print('Editor error sentences = {}'.format(len(discard)))\n",
    "    with open(filename, 'w', encoding='utf8') as fp:\n",
    "        fp.write('\\n'.join(discard))"
   ]
  },
  {
   "cell_type": "code",
   "execution_count": 27,
   "metadata": {
    "collapsed": false
   },
   "outputs": [],
   "source": [
    "def testDataErrorInfo(logFile, error_infoFile):\n",
    "    # Output error type information \n",
    "    def errorInfo():    \n",
    "        output = dict()\n",
    "        for pair, r in pairRanking.items():   \n",
    "            if r == 0: continue\n",
    "            if pair in testData_pair:\n",
    "                cnt = error_type[pair][0]\n",
    "            else:        \n",
    "                p = (pair[1], pair[0])\n",
    "                cnt = error_type[p][1]\n",
    "\n",
    "            output[pair] = [r, cnt//2]\n",
    "\n",
    "        return output\n",
    "\n",
    "    def commentInfo(logFile):\n",
    "        comment_dict = dict()\n",
    "        with open(logFile, 'r', encoding='utf8') as fp:\n",
    "            all_seqs = fp.readlines()\n",
    "\n",
    "        for cur_idx in range(len(all_seqs)):\n",
    "            if all_seqs[cur_idx][0] == '#':\n",
    "                continue\n",
    "\n",
    "            lst = all_seqs[cur_idx].strip().split('|||')\n",
    "\n",
    "            if lst[0] == 'process' or lst[0] == 'kick_pair':\n",
    "                pair = tuple((lst[1][2], lst[1][7]))\n",
    "\n",
    "                comment = ' '.join(all_seqs[cur_idx+1].strip().split()[1:])\n",
    "\n",
    "                comment_dict[pair] = comment\n",
    "                comment_dict[(pair[1],pair[0])] = comment\n",
    "\n",
    "\n",
    "            elif lst[0][0:2] == 'ra' or lst[0][0:2] == 'un':\n",
    "                pair = tuple(lst[1].split(','))\n",
    "\n",
    "                check_ptn = ['#', 'r', 'u']\n",
    "\n",
    "                scan_idx = cur_idx\n",
    "                while(1):\n",
    "                    scan_idx += 1            \n",
    "                    next_line = all_seqs[scan_idx]            \n",
    "                    if next_line[0] in check_ptn:\n",
    "                        break\n",
    "\n",
    "                if next_line[0] == '#':\n",
    "                    comment = ' '.join(next_line.strip().split()[3:])\n",
    "\n",
    "                    if pair in comment_dict:\n",
    "                        comment_dict[pair] += comment\n",
    "                    else:\n",
    "                        comment_dict[pair] = comment\n",
    "\n",
    "        return comment_dict\n",
    "    \n",
    "    \n",
    "    error_info = errorInfo()\n",
    "    comment_info = commentInfo(logFile)\n",
    "    \n",
    "    for pair, comment in comment_info.items():\n",
    "        if pair in error_info:\n",
    "            error_info[pair].append(comment)\n",
    "        else:\n",
    "            error_info[pair] = [0,0,comment]\n",
    "    \n",
    "    _sort = sorted(error_info.items(), key=lambda x:(-x[1][0], -x[1][1]))\n",
    "    \n",
    "    with open(error_infoFile, 'w', encoding='utf8') as wp:\n",
    "        for pair, info in _sort:\n",
    "            wp.write('{p[0]}\\t{p[1]}\\t{s}\\n'.format(\n",
    "            p=pair, s='\\t'.join([str(i) for i in info])))"
   ]
  },
  {
   "cell_type": "code",
   "execution_count": 28,
   "metadata": {
    "collapsed": false
   },
   "outputs": [],
   "source": [
    "### Global \n",
    "testData_pair = defaultdict(set)\n",
    "testData_output = dict()\n",
    "error_type = defaultdict(lambda :[0,0])\n",
    "discard = set()\n",
    "pairRanking = dict()\n",
    "UDN_benchmark_log = './UDN_benchmark/UDN_benchmark45.md'\n",
    "labelFile = 'withError_label.txt'"
   ]
  },
  {
   "cell_type": "code",
   "execution_count": 29,
   "metadata": {
    "collapsed": false
   },
   "outputs": [
    {
     "name": "stdout",
     "output_type": "stream",
     "text": [
      "Total number of sequence = 3626\n",
      "Number of Spelling errors = 1332\n",
      "Number of editor errors = 2294\n",
      "Average length of spelling error sentences = 20.48\n",
      "Average error in spelling error sentence = 1.03\n",
      "Number of unique pairs = 660\n",
      "Top 1 count in pair ('劃', '畫')/[133, 0]\n",
      "Top 2 count in pair ('周', '週')/[0, 87]\n",
      "Top 3 count in pair ('佈', '布')/[84, 0]\n",
      "Top 4 count in pair ('份', '分')/[77, 2]\n",
      "Top 5 count in pair ('愈', '越')/[0, 63]\n",
      "Top 6 count in pair ('佔', '占')/[50, 0]\n",
      "Top 7 count in pair ('台', '臺')/[0, 49]\n",
      "Top 8 count in pair ('祕', '秘')/[0, 41]\n",
      "Top 9 count in pair ('汙', '污')/[0, 31]\n",
      "Top 10 count in pair ('作', '做')/[19, 11]\n",
      "===== Ranking =====\n",
      "Number of unique pairs = 633\n",
      "Case 0 have 162\n",
      "Case 1 have 36\n",
      "Case 2 have 16\n",
      "Case 3 have 144\n",
      "Case 4 have 268\n",
      "Case 5 have 7\n"
     ]
    }
   ],
   "source": [
    "confused = loadData(labelFile)\n",
    "logFile = './UDN_benchmark/UDN_action.log'\n",
    "loadLog(logFile)\n",
    "infoPrint()"
   ]
  },
  {
   "cell_type": "code",
   "execution_count": 184,
   "metadata": {
    "collapsed": false,
    "scrolled": true
   },
   "outputs": [
    {
     "name": "stdout",
     "output_type": "stream",
     "text": [
      "Output 1217 sentences with 1255 errors\n"
     ]
    }
   ],
   "source": [
    "select = [2,3,4,5]\n",
    "output_file = 'UDN_benchmark/UDN_testdata.txt'\n",
    "output_seq = generateTestData(pairRanking, select)\n",
    "\n",
    "##### Make 650 \n",
    "# output_seq['專注的表清帶著感恩，'] = [(5,'情')]\n",
    "\n",
    "# Transform to list \n",
    "output_error_lst = [(seq, info) for seq, info in output_seq.items()]"
   ]
  },
  {
   "cell_type": "code",
   "execution_count": 186,
   "metadata": {
    "collapsed": true
   },
   "outputs": [],
   "source": [
    "def correctSelect(correct_filename):\n",
    "    \n",
    "    _choose = 2500\n",
    "    correct_seqs = []\n",
    "    with open(correct_filename, 'r', encoding='utf8') as fp:\n",
    "    #     for i in range(_choose):\n",
    "        while(len(correct_seqs)<_choose):\n",
    "            try:\n",
    "                line = fp.readline().strip().split(', ')[1].strip()\n",
    "            except IndexError:\n",
    "                continue\n",
    "            if '●' not in line and '【' not in line and len(line)>8 and '\\xa0' not in line and 'http' not in line:\n",
    "                correct_seqs.append(line)\n",
    "                \n",
    "    return correct_seqs"
   ]
  },
  {
   "cell_type": "code",
   "execution_count": 187,
   "metadata": {
    "collapsed": true
   },
   "outputs": [],
   "source": [
    "CORRECTCHOOSE = len(output_error_lst)\n",
    "correct_filename = './extractUDN/withError_correct.txt'\n",
    "output_correct_lst = correctSelect(correct_filename)\n",
    "random.shuffle(output_correct_lst)\n",
    "output_correct_lst = output_correct_lst[:CORRECTCHOOSE]"
   ]
  },
  {
   "cell_type": "code",
   "execution_count": 190,
   "metadata": {
    "collapsed": true
   },
   "outputs": [],
   "source": [
    "output_lst = list(output_correct_lst)\n",
    "output_lst.extend(output_error_lst)"
   ]
  },
  {
   "cell_type": "code",
   "execution_count": 191,
   "metadata": {
    "collapsed": false
   },
   "outputs": [],
   "source": [
    "random.shuffle(output_lst)"
   ]
  },
  {
   "cell_type": "code",
   "execution_count": 196,
   "metadata": {
    "collapsed": false
   },
   "outputs": [],
   "source": [
    "dumpTest(output_lst, output_file)"
   ]
  },
  {
   "cell_type": "code",
   "execution_count": 197,
   "metadata": {
    "collapsed": false
   },
   "outputs": [
    {
     "name": "stdout",
     "output_type": "stream",
     "text": [
      "Editor error sentences = 2294\n"
     ]
    }
   ],
   "source": [
    "garbage_file = 'UDN_benchmark/UDN_editorSequence.txt'\n",
    "garbageDump(garbage_file)"
   ]
  },
  {
   "cell_type": "code",
   "execution_count": 198,
   "metadata": {
    "collapsed": false
   },
   "outputs": [],
   "source": [
    "error_infoFile = 'UDN_benchmark/UDN_errorInfo.txt'\n",
    "testDataErrorInfo(logFile, error_infoFile)"
   ]
  }
 ],
 "metadata": {
  "kernelspec": {
   "display_name": "Python 3",
   "language": "python",
   "name": "python3"
  },
  "language_info": {
   "codemirror_mode": {
    "name": "ipython",
    "version": 3
   },
   "file_extension": ".py",
   "mimetype": "text/x-python",
   "name": "python",
   "nbconvert_exporter": "python",
   "pygments_lexer": "ipython3",
   "version": "3.6.0"
  }
 },
 "nbformat": 4,
 "nbformat_minor": 2
}
