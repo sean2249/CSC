{
 "cells": [
  {
   "cell_type": "code",
   "execution_count": 3,
   "metadata": {
    "collapsed": false
   },
   "outputs": [],
   "source": [
    "def extract(testData, sysData):\n",
    "    datalst = []\n",
    "    with open(testData[0], 'r', encoding='utf8') as seqf, open(testData[1], 'r', encoding='utf8') as truf:\n",
    "        for seq, tru in zip(seqf, truf):                \n",
    "            seq = seq[seq.find(')') +2:].strip('\\n')\n",
    "            \n",
    "            tru = tru.strip().split()[::2]\n",
    "            datalst.append([seq.strip(), tru[1:] if len(tru)!=1 else 0])\n",
    "    for file in fn:\n",
    "        with open(file, 'r', encoding='utf8') as fp:\n",
    "            for idx, line in enumerate(fp,0):\n",
    "                line = line.strip().split()[::2]\n",
    "                datalst[idx].append(line[1:] if len(line)!=1 else 0)\n",
    "    return datalst"
   ]
  },
  {
   "cell_type": "code",
   "execution_count": 4,
   "metadata": {
    "collapsed": true
   },
   "outputs": [],
   "source": [
    "def export(datalst, filename):\n",
    "    with open(filename, 'w', encoding='utf8') as fp:\n",
    "        \n",
    "        for data in datalst:\n",
    "            fp.write(data[0]+'\\t')\n",
    "            for d in data[1:]:\n",
    "                fp.write(str(d)+'\\t')\n",
    "            fp.write('\\n')\n",
    "            "
   ]
  },
  {
   "cell_type": "code",
   "execution_count": 6,
   "metadata": {
    "collapsed": false
   },
   "outputs": [],
   "source": [
    "if __name__=='__main__':\n",
    "    fn = ['./test_15/re_sinLMng2_2.txt','./test_15/re_sinLMng3_2.txt','./test_15/re_newLM15_2.txt', './test_15/re_newLM15ngrum2_2.txt']\n",
    "    tn = ['./test_15/SIGHAN15_CSC_TestInput.txt', './test_15/SIGHAN15_CSC_TestTruth.txt']\n",
    "    datalst = extract(tn, fn)\n",
    "    export(datalst, 'tmp.csv')"
   ]
  },
  {
   "cell_type": "code",
   "execution_count": null,
   "metadata": {
    "collapsed": true
   },
   "outputs": [],
   "source": []
  }
 ],
 "metadata": {
  "kernelspec": {
   "display_name": "Python [conda root]",
   "language": "python",
   "name": "conda-root-py"
  },
  "language_info": {
   "codemirror_mode": {
    "name": "ipython",
    "version": 3
   },
   "file_extension": ".py",
   "mimetype": "text/x-python",
   "name": "python",
   "nbconvert_exporter": "python",
   "pygments_lexer": "ipython3",
   "version": "3.5.2"
  }
 },
 "nbformat": 4,
 "nbformat_minor": 2
}
