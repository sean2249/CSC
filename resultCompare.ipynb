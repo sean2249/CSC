{
 "cells": [
  {
   "cell_type": "code",
   "execution_count": 2,
   "metadata": {
    "collapsed": true
   },
   "outputs": [],
   "source": [
    "import argparse\n",
    "import pickle"
   ]
  },
  {
   "cell_type": "code",
   "execution_count": 3,
   "metadata": {
    "collapsed": true
   },
   "outputs": [],
   "source": [
    "seqTruth = './test_15/SIGHAN15_CSC_TestInput.txt'\n",
    "groundTruth = './test_15/SIGHAN15_CSC_TestTruth.txt'"
   ]
  },
  {
   "cell_type": "code",
   "execution_count": 5,
   "metadata": {
    "collapsed": true
   },
   "outputs": [],
   "source": [
    "def lineSeperate(line):\n",
    "    _log = line.strip().split(', ')\n",
    "    if len(_log) > 2:\n",
    "        _id, _result = _log[0], dict((a,b) for a,b in zip(_log[1:-1:2], _log[2::2]))\n",
    "    else:\n",
    "        _id, _result = _log[0], dict()\n",
    "    \n",
    "    return _id, _result"
   ]
  },
  {
   "cell_type": "code",
   "execution_count": 6,
   "metadata": {
    "collapsed": true
   },
   "outputs": [],
   "source": [
    "def seqSeperate(line):\n",
    "    _log = line.strip()\n",
    "    \n",
    "    idx1 = _log.find('=')+1\n",
    "    idx2 = _log.find(')')\n",
    "    \n",
    "    _id = _log[idx1:idx2]\n",
    "    _seq = _log[idx2+2:]\n",
    "    \n",
    "    return _id, _seq"
   ]
  },
  {
   "cell_type": "code",
   "execution_count": 17,
   "metadata": {
    "collapsed": true
   },
   "outputs": [],
   "source": [
    "def process(seq_log, gt_log, sys_log, ncm):\n",
    "    global corrcnt, encnt, elcnt, mcnt\n",
    "    \n",
    "    label = dict()            \n",
    "    case = [\n",
    "        'EN','EL','M']\n",
    "    \n",
    "    \n",
    "    keys = set(gt_log.keys()).union(set(sys_log.keys()))\n",
    "    \n",
    "    for key in keys:\n",
    "        error_ch = seq_log[int(key)-1]\n",
    "        sys_ch = sys_log.get(key, 'x')\n",
    "        correct_ch = gt_log.get(key, 'x')\n",
    "        \n",
    "        # Correct\n",
    "        if sys_ch == correct_ch:\n",
    "            label[key] = '({})'.format(correct_ch) \n",
    "            corrcnt += 1\n",
    "        \n",
    "        # Have error\n",
    "        elif correct_ch != 'x':\n",
    "            flag = bool(ncm.get(error_ch,{}).get(correct_ch))\n",
    "            if flag:\n",
    "                label[key] = '({}|{}|{})'.format(sys_ch, correct_ch, case[0])\n",
    "                encnt += 1\n",
    "            else:\n",
    "                label[key] = '({}|{}|{})'.format(sys_ch, correct_ch, case[1])\n",
    "                elcnt += 1\n",
    "                \n",
    "        # Dont' have error\n",
    "        else:\n",
    "            label[key] = '({}|{}|{})'.format(sys_ch, correct_ch, case[2])\n",
    "            mcnt += 1\n",
    "            \n",
    "    label = sorted(label.items(), key=lambda x:int(x[0]))\n",
    "#     print(label)\n",
    "    \n",
    "    output = list(seq_log)\n",
    "    extend = 0\n",
    "    for idx, detail in label:\n",
    "        output.insert(int(idx)+extend, detail)\n",
    "        extend += 1\n",
    "    \n",
    "    return ''.join(output)"
   ]
  },
  {
   "cell_type": "code",
   "execution_count": 22,
   "metadata": {
    "collapsed": false
   },
   "outputs": [],
   "source": [
    "def main(args):\n",
    "    confuFile = args.confusion\n",
    "    sysTruth = args.systruth\n",
    "    outputFile = args.output\n",
    "    \n",
    "    \n",
    "    with open(confuFile, 'rb') as fp:\n",
    "        ncm = pickle.load(fp)\n",
    "\n",
    "    output = []\n",
    "    with open(seqTruth, 'r', encoding='utf8') as seqp,\\\n",
    "        open(groundTruth, 'r', encoding='utf8') as gp,\\\n",
    "        open(sysTruth, 'r', encoding='utf8') as sysp:\n",
    "            \n",
    "            for seq_line, gt_line, sys_line in zip(seqp, gp, sysp):                \n",
    "                seq_id, seq_log = seqSeperate(seq_line)                        \n",
    "                gt_id, gt_log = lineSeperate(gt_line)\n",
    "                sys_id, sys_log = lineSeperate(sys_line)                \n",
    "\n",
    "                if seq_id == gt_id and gt_id == sys_id:\n",
    "                    output.append(process(seq_log, gt_log, sys_log, ncm))\n",
    "\n",
    "    with open(outputFile, 'w', encoding='utf8') as fp:\n",
    "        fp.write('\\n'.join(output))"
   ]
  },
  {
   "cell_type": "code",
   "execution_count": null,
   "metadata": {
    "collapsed": true
   },
   "outputs": [],
   "source": [
    "def process_command():\n",
    "    parse = argparse.ArgumentParser()\n",
    "    parse.add_argument('-s', '--systruth', required=True)\n",
    "    parse.add_argument('-c', '--confusion', required=True)\n",
    "    parse.add_argument('-o','--output', required=True)\n",
    "    \n",
    "    return parse.parse_args()"
   ]
  },
  {
   "cell_type": "code",
   "execution_count": null,
   "metadata": {
    "collapsed": true
   },
   "outputs": [],
   "source": [
    "corrcnt, encnt, elcnt, mcnt = 0, 0, 0, 0"
   ]
  },
  {
   "cell_type": "code",
   "execution_count": null,
   "metadata": {
    "collapsed": true
   },
   "outputs": [],
   "source": [
    "if __name__ == '__main__':    \n",
    "    args = process_command()\n",
    "    \n",
    "    \n",
    "    \n",
    "    main(args)\n",
    "    \n",
    "    print('Correct:{}\\tErrorNCM:{}\\tErrorLack:{}\\tMiss:{}'.format(corrcnt, encnt, elcnt, mcnt))"
   ]
  }
 ],
 "metadata": {
  "kernelspec": {
   "display_name": "Python 3",
   "language": "python",
   "name": "python3"
  },
  "language_info": {
   "codemirror_mode": {
    "name": "ipython",
    "version": 3
   },
   "file_extension": ".py",
   "mimetype": "text/x-python",
   "name": "python",
   "nbconvert_exporter": "python",
   "pygments_lexer": "ipython3",
   "version": "3.6.0"
  }
 },
 "nbformat": 4,
 "nbformat_minor": 2
}
