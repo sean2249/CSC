{
 "cells": [
  {
   "cell_type": "code",
   "execution_count": 1,
   "metadata": {
    "collapsed": true
   },
   "outputs": [],
   "source": [
    "import pickle\n",
    "from collections import defaultdict"
   ]
  },
  {
   "cell_type": "code",
   "execution_count": 2,
   "metadata": {
    "collapsed": true
   },
   "outputs": [],
   "source": [
    "filename = 'confu.pkl'"
   ]
  },
  {
   "cell_type": "code",
   "execution_count": 3,
   "metadata": {
    "collapsed": true
   },
   "outputs": [],
   "source": [
    "with open(filename, 'rb') as fp:\n",
    "    bigDict = pickle.load(fp)"
   ]
  },
  {
   "cell_type": "code",
   "execution_count": 4,
   "metadata": {
    "collapsed": false
   },
   "outputs": [
    {
     "name": "stdout",
     "output_type": "stream",
     "text": [
      "Score < 1000 = 1\n",
      "Average= 16.557692307692307\n",
      "Max= 53\n",
      "Min= 4\n",
      "[('顅', {'前': 11.0, '潛': 5.0, '簽': 8.0, '掮': 6.0, '控': 6.0, '见': 9.0, '薦': 7.0, '身': 8.0, '江': 6.0, '齊': 5.0, '濫': 5.0, '講': 7.0, '允': 6.0, '将': 8.0, '鵳': 7.0, '權': 7.0, '千': 8.0, '淺': 6.0, '遷': 6.0, '臉': 7.0, '艦': 5.0, '浅': 6.0, '將': 8.0, '健': 5.0, '建': 9.0, '牽': 6.0, '鍵': 7.0, '間': 10.0, '監': 6.0, '歉': 7.0, '簡': 7.0, '肩': 9.0, '檢': 7.0, '鑑': 6.0, '猏': 7.0, '見': 9.0, '撿': 5.0, '漸': 6.0, '閒': 6.0, '间': 10.0, '強': 7.0, '賤': 5.0, '堅': 6.0, '菺': 7.0, '兼': 6.0, '剪': 5.0, '錢': 9.0, '件': 9.0, '尖': 6.0, '劍': 7.0, '全': 7.0, '乾': 5.0, '迁': 6.0}), ('淒', {'前': 11.0, '棋': 9.0, '妻': 16.0, '去': 9.0, '器': 13.0, '機': 11.0, '齊': 9.0, '啟': 11.0, '級': 8.0, '騎': 11.0, '契': 9.0, '琪': 9.0, '計': 8.0, '欺': 11.0, '淺': 9.0, '溪': 11.0, '枝': 9.0, '氣': 13.0, '崎': 8.0, '萋': 14.0, '己': 8.0, '棄': 9.0, '谿': 9.0, '旗': 9.0, '慼': 9.0, '戚': 11.0, '淇': 11.0, '歉': 8.0, '漆': 9.0, '清': 10.0, '其': 13.0, '起': 13.0, '深': 8.0, '期': 14.0, '還': 10.0, '企': 9.0, '棲': 15.0, '緝': 8.0, '豈': 9.0, '奇': 13.0, '錢': 9.0, '悽': 15.0, '幾': 9.0, '基': 9.0, '七': 13.0, '区': 8.0, '汽': 9.0, '柒': 9.0}), ('鏭', {'息': 7.0, '系': 9.0, '螅': 4.0, '訢': 4.0, '傒': 4.0, '熈': 4.0, '橀': 4.0, '粞': 4.0, '需': 8.0, '蟋': 7.0, '咦': 6.0, '戲': 7.0, '貕': 4.0, '厀': 4.0, '溪': 6.0, '羲': 4.0, '㛓': 4.0, '洗': 5.0, '喜': 9.0, '嘻': 8.0, '誒': 4.0, '續': 5.0, '谿': 4.0, '細': 7.0, '夕': 5.0, '榽': 4.0, '窸': 7.0, '戏': 8.0, '西': 10.0, '許': 7.0, '係': 8.0, '須': 6.0, '犧': 6.0, '惜': 7.0, '希': 10.0, '兮': 6.0, '闟': 4.0, '巇': 4.0, '咥': 4.0, '屖': 4.0, '悉': 9.0, '牺': 6.0, '僁': 7.0, '吸': 6.0, '席': 5.0, '習': 7.0, '日': 7.0, '析': 6.0}), ('臒', {'服': 8.0, '蠖': 7.0, '韄': 7.0, '業': 8.0, '說': 12.0, '午': 7.0, '許': 9.0, '乎': 9.0, '火': 7.0, '鸌': 7.0, '业': 8.0, '彠': 7.0, '護': 11.0, '护': 8.0, '矱': 7.0, '雘': 7.0, '活': 9.0, '耯': 7.0, '劐': 7.0, '濩': 7.0, '越': 8.0, '月': 10.0, '矆': 7.0, '畫': 10.0, '瓁': 7.0, '湖': 7.0, '和': 12.0, '我': 11.0, '擭': 7.0, '樂': 10.0, '嚄': 7.0, '檴': 7.0, '穫': 7.0, '或': 10.0, '喔': 10.0, '獲': 9.0, '虎': 7.0, '鑊': 7.0, '嬳': 7.0, '核': 7.0, '鱯': 7.0}), ('隒', {'恋': 7.0, '两': 8.0, '言': 9.0, '兩': 8.0, '螊': 6.0, '欄': 5.0, '鎌': 6.0, '眼': 10.0, '厭': 6.0, '零': 5.0, '险': 7.0, '顏': 5.0, '鬑': 6.0, '炎': 5.0, '遠': 8.0, '嚴': 7.0, '這': 11.0, '聯': 9.0, '演': 8.0, '歉': 7.0, '驗': 9.0, '憐': 5.0, '联': 9.0, '賺': 5.0, '廉': 8.0, '熑': 6.0, '臉': 8.0, '練': 7.0, '嫌': 5.0, '彥': 5.0, '广': 8.0, '膁': 6.0, '養': 6.0, '延': 5.0, '連': 9.0, '戀': 7.0, '研': 9.0, '磏': 6.0, '蓮': 5.0, '溓': 7.0})]\n",
      "[('鈛', {'过': 12.0, '國': 11.0, '果': 11.0, '過': 12.0, '国': 11.0, '找': 11.0, '去': 10.0}), ('哢', {'弄': 11.0, '梇': 7.0, '硦': 7.0, '龍': 9.0, '挵': 7.0, '論': 8.0, '龙': 9.0}), ('抃', {'變': 10.0, '变': 10.0, '便': 10.0, '平': 10.0, '玣': 9.0}), ('碼', {'媽': 16.0, '罵': 16.0, '馬': 20.0, '嗎': 25.0}), ('饒', {'繞': 15.0, '橈': 14.0, '嬈': 14.0, '蟯': 14.0})]\n"
     ]
    }
   ],
   "source": [
    "ratio = 0.2\n",
    "total_threshold = 1000\n",
    "score_threshold = 8\n",
    "\n",
    "low_case = 0 \n",
    "outDict = defaultdict(dict)\n",
    "for idx, (error_ch, cands_val) in enumerate(bigDict.items()):\n",
    "#     if idx%2000==0: print(idx)\n",
    "    total_score = sum(score for _, (score, _) in cands_val.items())\n",
    "    cands_sorted = sorted(cands_val.items(), key=lambda x:x[1][0], reverse=True)\n",
    "    \n",
    "    if total_score < total_threshold and cands_sorted[0][1][0] < score_threshold:\n",
    "        low_case += 1\n",
    "        break\n",
    "        \n",
    "    cur_score = 0\n",
    "    target = total_score * ratio\n",
    "    for cand, (score,_) in cands_sorted:\n",
    "        if cur_score > target:\n",
    "            break\n",
    "        else:\n",
    "            cur_score += score \n",
    "            outDict[error_ch][cand] = score\n",
    "        \n",
    "    \n",
    "out_total = sum(len(item) for _,item in outDict.items())\n",
    "out_max = max(len(item) for _,item in outDict.items())\n",
    "out_min = min(len(item) for _,item in outDict.items())\n",
    "out_sorted = sorted(outDict.items(), key=lambda x:len(x[1]), reverse=True)\n",
    "\n",
    "print('Score < {} = {}'.format(total_threshold, low_case))\n",
    "print('Average= {}'.format(out_total/len(outDict)))\n",
    "print('Max= {}'.format(out_max))\n",
    "print('Min= {}'.format(out_min))\n",
    "print(out_sorted[:5])\n",
    "print(out_sorted[-5:])"
   ]
  }
 ],
 "metadata": {
  "kernelspec": {
   "display_name": "Python 3",
   "language": "python",
   "name": "python3"
  },
  "language_info": {
   "codemirror_mode": {
    "name": "ipython",
    "version": 3
   },
   "file_extension": ".py",
   "mimetype": "text/x-python",
   "name": "python",
   "nbconvert_exporter": "python",
   "pygments_lexer": "ipython3",
   "version": "3.6.0"
  }
 },
 "nbformat": 4,
 "nbformat_minor": 2
}
