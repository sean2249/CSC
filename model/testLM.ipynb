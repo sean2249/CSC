{
 "cells": [
  {
   "cell_type": "code",
   "execution_count": 17,
   "metadata": {
    "collapsed": true
   },
   "outputs": [],
   "source": [
    "from collections import namedtuple\n",
    "# import sys\n",
    "# import math\n",
    "# import re\n",
    "# from nltk import bigrams,trigrams"
   ]
  },
  {
   "cell_type": "code",
   "execution_count": 36,
   "metadata": {
    "collapsed": false
   },
   "outputs": [],
   "source": [
    "class LM:\n",
    "    def __init__(self, lm_filename, oov=False):\n",
    "        print('Loading language model %s ...' %(lm_filename))\n",
    "        ngram_stats = namedtuple('lm_prob', 'p,bp')\n",
    "        self.table = {}\n",
    "        with open(lm_filename, 'r', encoding='utf8') as fp:\n",
    "            for line in fp:\n",
    "                seq = line.strip().split('\\t')\n",
    "                if len(seq)>=2:\n",
    "                    (word, prob, backprob) = (tuple(seq[1].split()), float(seq[0]), \n",
    "                                        float(seq[2] if len(seq)==3 else 0.0))\n",
    "                    self.table[word] = ngram_stats(prob, backprob)\n",
    "    def begin(self,state):\n",
    "        return ('<s>', state)\n",
    "    \n",
    "    def end(self,state):\n",
    "        return (state, '</s>')\n",
    "    \n",
    "    def score_batch(self, seq):\n",
    "        ngram_stats = namedtuple('lm_prob', 'p,bp')\n",
    "        failed = ngram_stats(0, 'NotFound')\n",
    "\n",
    "        score = 0.0             \n",
    "        while len(seq)>0:\n",
    "            if seq in self.table:\n",
    "                return score + self.table[seq].p\n",
    "            else:                                \n",
    "                back_prob = self.table.get(seq[:-1], failed).bp\n",
    "                if back_prob == 'NotFound':\n",
    "                    if len(seq)==1:\n",
    "                        back_prob = -99\n",
    "                    else:\n",
    "                        back_prob = self.score_batch(seq[:-1])\n",
    "                score += back_prob                \n",
    "                seq = seq[1:]\n",
    "        \n",
    "        return score        \n",
    "    \n",
    "    def scoring(self, seq, ngnum=2, show=0):\n",
    "        # sentence msut be list                \n",
    "        score = 0.0\n",
    "                \n",
    "        pairs = []\n",
    "        for idx in range(len(seq)):\n",
    "            if idx==0 and seq[idx]=='<s>':\n",
    "                continue\n",
    "            seq_idx = 0 if idx<ngnum else idx-ngnum+1\n",
    "            pairs.append(tuple(seq[seq_idx:idx+1]))                           \n",
    "            \n",
    "        for pair in pairs:\n",
    "            score += self.score_batch(pair)            \n",
    "            if show==1:\n",
    "                print(pair, \":\\t\", score)\n",
    "        \n",
    "        if show == 1:          \n",
    "            print('========')\n",
    "            print(seq, \":\\t\", score)\n",
    "                \n",
    "        return score                        "
   ]
  },
  {
   "cell_type": "code",
   "execution_count": 37,
   "metadata": {
    "collapsed": false
   },
   "outputs": [
    {
     "name": "stdout",
     "output_type": "stream",
     "text": [
      "Loading language model ../sinica.corpus.seg.char.lm ...\n"
     ]
    }
   ],
   "source": [
    "if __name__=='__main__':\n",
    "    lm = LM('../sinica.corpus.seg.char.lm')\n",
    "#     lm2 = LM2('../sinica.corpus.seg.char.lm')"
   ]
  }
 ],
 "metadata": {
  "anaconda-cloud": {},
  "kernelspec": {
   "display_name": "Python 3",
   "language": "python",
   "name": "python3"
  },
  "language_info": {
   "codemirror_mode": {
    "name": "ipython",
    "version": 3
   },
   "file_extension": ".py",
   "mimetype": "text/x-python",
   "name": "python",
   "nbconvert_exporter": "python",
   "pygments_lexer": "ipython3",
   "version": "3.6.0"
  }
 },
 "nbformat": 4,
 "nbformat_minor": 2
}
