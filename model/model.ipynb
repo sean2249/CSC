{
 "cells": [
  {
   "cell_type": "code",
   "execution_count": 1,
   "metadata": {
    "collapsed": true
   },
   "outputs": [],
   "source": [
    "from collections import namedtuple\n",
    "import pickle\n",
    "import re\n",
    "import socket\n",
    "import xml.etree.ElementTree as ET\n",
    "from copy import deepcopy"
   ]
  },
  {
   "cell_type": "code",
   "execution_count": 2,
   "metadata": {
    "collapsed": true
   },
   "outputs": [],
   "source": [
    "class LM:\n",
    "    def __init__(self, lm_filename, unk=False):\n",
    "        print('Loading language model %s ...' %(lm_filename))\n",
    "        ngram_stats = namedtuple('lm_prob', 'p,bp')\n",
    "        self.table = {}\n",
    "        with open(lm_filename, 'r', encoding='utf8') as fp:\n",
    "            for line in fp:\n",
    "                seq = line.strip().split('\\t')\n",
    "                if len(seq)>=2:\n",
    "                    (word, prob, backprob) = (tuple(seq[1].split()), float(seq[0]), \n",
    "                                        float(seq[2] if len(seq)==3 else 0.0))\n",
    "                    self.table[word] = ngram_stats(prob, backprob)\n",
    "        \n",
    "        self.UNK = self.table[('<unk>',)].p if unk else -99\n",
    "        \n",
    "    def begin(self,state):\n",
    "        return ('<s>', state)\n",
    "    \n",
    "    def end(self,state):\n",
    "        return (state, '</s>')\n",
    "    \n",
    "    def score_batch(self, seq):\n",
    "        ngram_stats = namedtuple('lm_prob', 'p,bp')\n",
    "        failed = ngram_stats(0, 'NotFound')\n",
    "\n",
    "        score = 0.0             \n",
    "        while len(seq)>0:\n",
    "            if seq in self.table:\n",
    "                return score + self.table[seq].p\n",
    "            else:                                \n",
    "                back_prob = self.table.get(seq[:-1], failed).bp\n",
    "                if back_prob == 'NotFound':                    \n",
    "                    if len(seq)==1:\n",
    "                        if len(seq[0]) != 1:\n",
    "                            back_prob = self.scoring(list(seq[0]))\n",
    "                        else:\n",
    "                            back_prob = self.UNK\n",
    "                    else:\n",
    "                        back_prob = self.score_batch(seq[:-1])\n",
    "                score += back_prob                \n",
    "                seq = seq[1:]\n",
    "        \n",
    "        return score        \n",
    "    \n",
    "    def scoring(self, seq, ngnum=2, show=0):\n",
    "        # sentence msut be list                \n",
    "        score = 0.0\n",
    "                \n",
    "        pairs = []\n",
    "        for idx in range(len(seq)):\n",
    "            if idx==0 and seq[idx]=='<s>':\n",
    "                continue\n",
    "            seq_idx = 0 if idx<ngnum else idx-ngnum+1\n",
    "            pairs.append(tuple(seq[seq_idx:idx+1]))                           \n",
    "            \n",
    "        for pair in pairs:\n",
    "            score += self.score_batch(pair)            \n",
    "            if show==1:\n",
    "                print(pair, \":\\t\", score)\n",
    "        \n",
    "        if show == 1:          \n",
    "            print('========')\n",
    "            print(seq, \":\\t\", score)\n",
    "                \n",
    "        return score                        "
   ]
  },
  {
   "cell_type": "code",
   "execution_count": 3,
   "metadata": {
    "collapsed": true
   },
   "outputs": [],
   "source": [
    "class NCM:\n",
    "    def __init__(self, channel_filename, ncm_global=[]):\n",
    "        print('Loading channel model %s ...' %(channel_filename))\n",
    "        with open(channel_filename, 'rb') as fp:\n",
    "            self.table = pickle.load(fp, encoding='utf8')\n",
    "        self.ncm_global = ncm_global\n",
    "                        \n",
    "    def get_cands(self, cur_char):       \n",
    "        cand_dict = dict(self.table.get(cur_char,[]))\n",
    "        cur_prob = 1.0 if not cand_dict else cand_dict.pop(cur_char)\n",
    "        \n",
    "        if not self.ncm_global:        \n",
    "            query_cands = [(cur_char,cur_prob)] \n",
    "            query_cands.extend(cand_dict.items())                \n",
    "        else:            \n",
    "            base = self.ncm_global * (1-len(cand_dict)) + len(cand_dict)\n",
    "            query_cands = [(cur_char, self.ncm_global/base)]\n",
    "            query_cands.extend((c,(1-self.ncm_global)/base) for c,p in cand_dict.items())\n",
    "   \n",
    "        return query_cands"
   ]
  },
  {
   "cell_type": "code",
   "execution_count": 4,
   "metadata": {
    "collapsed": true
   },
   "outputs": [],
   "source": [
    "class CASE:\n",
    "    def __init__(self, sentence, ncm):\n",
    "        assert type(sentence) == str, 'Input must be string'\n",
    "        assert len(sentence) > 0, 'Input must have content'\n",
    "        self.query=[]\n",
    "        self.query.append('<s>')\n",
    "        self.query.extend(list(sentence))\n",
    "        self.query.append('</s>')\n",
    "            \n",
    "        # get candidate\n",
    "        self.cands = []\n",
    "        for cur_ch in self.query:\n",
    "            self.cands.append(ncm.get_cands(cur_ch))"
   ]
  },
  {
   "cell_type": "code",
   "execution_count": 5,
   "metadata": {
    "collapsed": false
   },
   "outputs": [],
   "source": [
    "class CKIP:\n",
    "    # Copy from https://github.com/ComposeAI/pyCKIP/blob/master/ckip/__init__.py\n",
    "    def __init__(self, username, password):\n",
    "        self._username = username\n",
    "        self._password = password\n",
    "        self._server = ('140.109.19.104', 1501)\n",
    "        \n",
    "        root = ET.Element('wordsegmentation', version='1.0')\n",
    "        ET.SubElement(root, 'option', showcategory='1')\n",
    "        ET.SubElement(root, 'authentication',\n",
    "                     username=self._username, password=self._password)\n",
    "        self._backup = root\n",
    "        \n",
    "    def cut(self, seq):\n",
    "        root = deepcopy(self._backup)\n",
    "        text_node = ET.SubElement(root, 'text')\n",
    "        text_node.text = seq\n",
    "        \n",
    "        request = ET.tostring(root, encoding='cp950')\n",
    "        \n",
    "        soc = socket.socket(socket.AF_INET, socket.SOCK_STREAM)\n",
    "        soc.connect(self._server)\n",
    "        soc.send(request)\n",
    "        \n",
    "        response = soc.recv(len(seq)*10 + 8192).decode('cp950').encode('utf8')\n",
    "        \n",
    "        root = ET.fromstring(response)\n",
    "        \n",
    "        \n",
    "        status = root.find('processstatus')\n",
    "        if status.get('code') != '0':\n",
    "            raise RuntimeError(status.text)\n",
    "        else:\n",
    "            tmp = root.find('./result/sentence').text.split('\\u3000')[1:]\n",
    "            seg = []            \n",
    "            for i in tmp:\n",
    "                r = re.match(r'(.*)\\((.*)\\)', i)\n",
    "                word, _ = r.groups()\n",
    "                seg.append(word)\n",
    "                \n",
    "        return seg"
   ]
  },
  {
   "cell_type": "code",
   "execution_count": 6,
   "metadata": {
    "collapsed": false
   },
   "outputs": [
    {
     "name": "stdout",
     "output_type": "stream",
     "text": [
      "['幸虧', '我', '話', '說', '得', '文']\n"
     ]
    }
   ],
   "source": [
    "if __name__=='__main__':\n",
    "#     lm = LM('../sinica.corpus.seg.char.lm')\n",
    "#     lm = LM('/home/kiwi/udn_data/training/sinica.seg.word.lm', True)\n",
    "#     lm2 = LM2('../sinica.corpus.seg.char.lm')\n",
    "\n",
    "#     ncm_filename = 'G:/UDN/training_confusion/channelModel.pkl'\n",
    "\n",
    "\n",
    "    ckip = CKIP('sean2249', '3345678')\n",
    "    t = ckip.cut('幸虧我話說得文')\n",
    "    print(t)"
   ]
  }
 ],
 "metadata": {
  "kernelspec": {
   "display_name": "Python 3",
   "language": "python",
   "name": "python3"
  },
  "language_info": {
   "codemirror_mode": {
    "name": "ipython",
    "version": 3
   },
   "file_extension": ".py",
   "mimetype": "text/x-python",
   "name": "python",
   "nbconvert_exporter": "python",
   "pygments_lexer": "ipython3",
   "version": "3.6.0"
  }
 },
 "nbformat": 4,
 "nbformat_minor": 2
}
