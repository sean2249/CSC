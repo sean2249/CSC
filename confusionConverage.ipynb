{
 "cells": [
  {
   "cell_type": "code",
   "execution_count": 1,
   "metadata": {
    "collapsed": true
   },
   "outputs": [],
   "source": [
    "import os\n",
    "import pickle\n",
    "from collections import defaultdict\n",
    "\n",
    "import matplotlib.pyplot as plt"
   ]
  },
  {
   "cell_type": "code",
   "execution_count": 2,
   "metadata": {
    "collapsed": true
   },
   "outputs": [],
   "source": [
    "def gtExtract(testfile, method):\n",
    "    gt_confusion = defaultdict(set)\n",
    "    if method == 'UDN':\n",
    "        with open(testfile, 'r', encoding='utf8') as fp:\n",
    "            fp.readline()\n",
    "            for line in fp:\n",
    "                error = line.strip().split('|||')[1].split(', ')\n",
    "\n",
    "                for idx,cor in zip(error[::2],error[1::2]):\n",
    "                    error = line[int(idx)-1]\n",
    "                    gt_confusion[error].add(cor)\n",
    "    elif method == 'SIGHAN2015':\n",
    "        seqfilename, testGtfilename = testfile\n",
    "        gt_confusion = defaultdict(set)\n",
    "        with open(seqfilename, 'r', encoding='utf8') as seqFile,\\\n",
    "        open(testGtfilename, 'r', encoding='utf8') as gtFile:\n",
    "            for seq_line, gt_line in zip(seqFile, gtFile):\n",
    "                seq_id, seq = seq_line.strip().split('\\t')\n",
    "                gt_lst = gt_line.strip().split(', ')\n",
    "                gt_id, gt_errors = gt_lst[0], gt_lst[1:]\n",
    "                if seq_id[5:-1] == gt_id:\n",
    "                    for idx, corr_ch in zip(gt_errors[::2], gt_errors[1::2]):\n",
    "                        error_ch = seq[int(idx)-1]     \n",
    "                        gt_confusion[error_ch].add(corr_ch)\n",
    "    return gt_confusion"
   ]
  },
  {
   "cell_type": "code",
   "execution_count": 3,
   "metadata": {
    "collapsed": true
   },
   "outputs": [],
   "source": [
    "def sysExtract(confusionset_file):\n",
    "    ch5400 = set(ch.strip() for ch in open('./ch_5401.txt', 'r', encoding='utf8'))\n",
    "    ncm = pickle.load(open(confusionset_file, 'rb'))\n",
    "    sys_confusion = defaultdict(set)\n",
    "    for error, cands_info in ncm.items():\n",
    "        if error not in ch5400: continue\n",
    "        sys_confusion[error].update(cands_info.keys())\n",
    "        \n",
    "    return sys_confusion"
   ]
  },
  {
   "cell_type": "code",
   "execution_count": 4,
   "metadata": {
    "collapsed": true
   },
   "outputs": [],
   "source": [
    "def info(confusion, fig_token):\n",
    "    '''Get basic information about NCM \n",
    "    \n",
    "    '''\n",
    "    total_error = len(confusion)\n",
    "    cands = [(ch, len(cand)) for (ch, cand) in \n",
    "        sorted(confusion.items(), key= lambda x:len(x[1]), reverse=True)]\n",
    "\n",
    "    sum_cands = sum(cnt for _, cnt in cands)\n",
    "    max_cands = max(cnt for _, cnt in cands)\n",
    "    min_cands = min(cnt for _, cnt in cands)\n",
    "    mean_cands = sum_cands/total_error\n",
    "    \n",
    "    if total_error%2 == 0:\n",
    "        mid_cands = cands[total_error//2]\n",
    "    else:\n",
    "        mid_cands = cands[(total_error+1)//2]\n",
    "    \n",
    "    print('Total_error: {}\\nSum_cands: {}'.format(total_error, sum_cands))\n",
    "    print('Max_cands: {}\\nMin_cands: {}'.format(max_cands, min_cands))\n",
    "    print('Mean_cands: {:.2f}\\nMid_cands: {}'.format(mean_cands, mid_cands))\n",
    "    print('Top 20 cands:\\n {}'.format(cands[:20]))\n",
    "    \n",
    "    plt.plot([cnt for _, cnt in cands])\n",
    "    plt.xlabel('Index')\n",
    "    plt.ylabel('Number of candidates')\n",
    "    fig = plt.gcf()\n",
    "    plt.show()\n",
    "    fig.savefig('./confusionTable/confuInfo_{}.png'.format(fig_token), dpi=100)"
   ]
  },
  {
   "cell_type": "code",
   "execution_count": 5,
   "metadata": {
    "collapsed": true
   },
   "outputs": [],
   "source": [
    "file = './confusionTable/0601/confu_9999995_8_50.pkl'"
   ]
  },
  {
   "cell_type": "code",
   "execution_count": 6,
   "metadata": {
    "collapsed": true
   },
   "outputs": [],
   "source": [
    "sys_c = sysExtract(file)"
   ]
  },
  {
   "cell_type": "code",
   "execution_count": 7,
   "metadata": {
    "collapsed": true
   },
   "outputs": [
    {
     "name": "stdout",
     "output_type": "stream",
     "text": [
      "Total_error: 3411\n",
      "Sum_cands: 12465\n",
      "Max_cands: 24\n",
      "Min_cands: 2\n",
      "Mean_cands: 3.65\n",
      "Mid_cands: ('俱', 3)\n",
      "Top 20 cands:\n",
      " [('是', 24), ('事', 22), ('以', 18), ('至', 16), ('起', 15), ('經', 15), ('之', 14), ('付', 14), ('識', 13), ('師', 13), ('心', 13), ('正', 13), ('式', 13), ('一', 13), ('長', 13), ('知', 13), ('息', 13), ('決', 13), ('時', 13), ('機', 13)]\n"
     ]
    },
    {
     "data": {
      "image/png": "[encoded data removed]",
      "text/plain": [
       "<matplotlib.figure.Figure at 0x7f586d8>"
      ]
     },
     "metadata": {},
     "output_type": "display_data"
    }
   ],
   "source": [
    "info(sys_c,'myworking')"
   ]
  },
  {
   "cell_type": "code",
   "execution_count": null,
   "metadata": {
    "collapsed": true
   },
   "outputs": [],
   "source": []
  },
  {
   "cell_type": "code",
   "execution_count": 26,
   "metadata": {
    "collapsed": true
   },
   "outputs": [],
   "source": [
    "data_root = './confusionTable/basicExtact/'\n",
    "filelist = {file:os.path.join(data_root, file) for _,_,files in os.walk(data_root) for file in files if 'confu' in os.path.splitext(file)[0]}"
   ]
  },
  {
   "cell_type": "code",
   "execution_count": 27,
   "metadata": {},
   "outputs": [
    {
     "data": {
      "text/plain": [
       "{'confu_all.pkl': './confusionTable/basicExtact/confu_all.pkl',\n",
       " 'confu_in_1.pkl': './confusionTable/basicExtact/confu_in_1.pkl',\n",
       " 'confu_in_2.pkl': './confusionTable/basicExtact/confu_in_2.pkl',\n",
       " 'confu_in_3.pkl': './confusionTable/basicExtact/confu_in_3.pkl',\n",
       " 'confu_in_4.pkl': './confusionTable/basicExtact/confu_in_4.pkl',\n",
       " 'confu_in_5.pkl': './confusionTable/basicExtact/confu_in_5.pkl',\n",
       " 'confu_in_6.pkl': './confusionTable/basicExtact/confu_in_6.pkl'}"
      ]
     },
     "execution_count": 27,
     "metadata": {},
     "output_type": "execute_result"
    }
   ],
   "source": [
    "filelist"
   ]
  },
  {
   "cell_type": "code",
   "execution_count": 38,
   "metadata": {
    "collapsed": true
   },
   "outputs": [],
   "source": [
    "sys_c = sysExtract(filelist['confu_in_6.pkl'])"
   ]
  },
  {
   "cell_type": "code",
   "execution_count": 41,
   "metadata": {
    "collapsed": true
   },
   "outputs": [],
   "source": [
    "for ch, cands in sys_c.items():\n",
    "    if len(cands)==0:\n",
    "        print(ch)"
   ]
  },
  {
   "cell_type": "code",
   "execution_count": 44,
   "metadata": {},
   "outputs": [
    {
     "data": {
      "text/plain": [
       "{'清', '菁', '蜻', '輕', '青'}"
      ]
     },
     "execution_count": 44,
     "metadata": {},
     "output_type": "execute_result"
    }
   ],
   "source": [
    "sys_c['青']"
   ]
  },
  {
   "cell_type": "code",
   "execution_count": 40,
   "metadata": {},
   "outputs": [
    {
     "data": {
      "text/plain": [
       "5361"
      ]
     },
     "execution_count": 40,
     "metadata": {},
     "output_type": "execute_result"
    }
   ],
   "source": [
    "len(sys_c)"
   ]
  },
  {
   "cell_type": "code",
   "execution_count": 23,
   "metadata": {
    "collapsed": true
   },
   "outputs": [],
   "source": [
    "ch5400 = set(ch.strip() for ch in open('./ch_5401.txt', 'r', encoding='utf8'))"
   ]
  },
  {
   "cell_type": "code",
   "execution_count": 14,
   "metadata": {
    "collapsed": true
   },
   "outputs": [],
   "source": [
    "sys_c = pickle.load(open('./confusionTable/rule/rule_chPairs.pkl', 'rb'))"
   ]
  },
  {
   "cell_type": "code",
   "execution_count": 15,
   "metadata": {
    "collapsed": true
   },
   "outputs": [
    {
     "name": "stdout",
     "output_type": "stream",
     "text": [
      "Total_error: 3769\n",
      "Sum_cands: 9103\n",
      "Max_cands: 16\n",
      "Min_cands: 1\n",
      "Mean_cands: 2.42\n",
      "Mid_cands: ('鬱', 2)\n",
      "Top 20 cands:\n",
      " [('愉', 16), ('識', 14), ('息', 14), ('是', 13), ('如', 13), ('愚', 13), ('事', 12), ('付', 12), ('胡', 12), ('新', 11), ('折', 11), ('而', 11), ('俞', 11), ('資', 10), ('適', 10), ('余', 10), ('知', 10), ('緣', 10), ('游', 10), ('兒', 10)]\n"
     ]
    },
    {
     "data": {
      "image/png": "[encoded data removed]",
      "text/plain": [
       "<matplotlib.figure.Figure at 0x28502a95eb8>"
      ]
     },
     "metadata": {},
     "output_type": "display_data"
    }
   ],
   "source": [
    "info(sys_c, 'rule')"
   ]
  },
  {
   "cell_type": "code",
   "execution_count": 31,
   "metadata": {
    "collapsed": true
   },
   "outputs": [],
   "source": [
    "del sys_c"
   ]
  },
  {
   "cell_type": "code",
   "execution_count": 37,
   "metadata": {
    "collapsed": true
   },
   "outputs": [],
   "source": [
    "converageConfusion(data_root)"
   ]
  },
  {
   "cell_type": "code",
   "execution_count": 28,
   "metadata": {
    "collapsed": true
   },
   "outputs": [
    {
     "name": "stdout",
     "output_type": "stream",
     "text": [
      "==== confu_all.pkl\n",
      "Total_error: 5361\n",
      "Sum_cands: 1360288\n",
      "Max_cands: 1257\n",
      "Min_cands: 38\n",
      "Mean_cands: 253.74\n",
      "Mid_cands: ('滑', 211)\n",
      "Top 20 cands:\n",
      " [('厭', 1257), ('苑', 1130), ('齊', 1067), ('姬', 1033), ('錡', 1026), ('訢', 1012), ('邪', 1010), ('貍', 963), ('射', 958), ('熨', 957), ('拗', 957), ('圩', 905), ('咦', 892), ('禺', 875), ('沂', 871), ('湛', 862), ('芋', 860), ('髻', 860), ('菸', 849), ('揖', 845)]\n"
     ]
    },
    {
     "data": {
      "image/png": "[encoded data removed]",
      "text/plain": [
       "<matplotlib.figure.Figure at 0x8009ba8>"
      ]
     },
     "metadata": {},
     "output_type": "display_data"
    },
    {
     "name": "stdout",
     "output_type": "stream",
     "text": [
      "==== confu_in_1.pkl\n",
      "Total_error: 5361\n",
      "Sum_cands: 997132\n",
      "Max_cands: 1244\n",
      "Min_cands: 2\n",
      "Mean_cands: 186.00\n",
      "Mid_cands: ('瞞', 144)\n",
      "Top 20 cands:\n",
      " [('厭', 1244), ('苑', 1080), ('齊', 1002), ('錡', 957), ('邪', 948), ('貍', 934), ('射', 891), ('姬', 881), ('圩', 843), ('訢', 842), ('咦', 839), ('拗', 834), ('熨', 832), ('禺', 809), ('揖', 803), ('芋', 799), ('菸', 795), ('湛', 792), ('沂', 786), ('燠', 772)]\n"
     ]
    },
    {
     "data": {
      "image/png": "[encoded data removed]",
      "text/plain": [
       "<matplotlib.figure.Figure at 0x782be10>"
      ]
     },
     "metadata": {},
     "output_type": "display_data"
    },
    {
     "name": "stdout",
     "output_type": "stream",
     "text": [
      "==== confu_in_2.pkl\n",
      "Total_error: 5361\n",
      "Sum_cands: 130127\n",
      "Max_cands: 138\n",
      "Min_cands: 1\n",
      "Mean_cands: 24.27\n",
      "Mid_cands: ('勿', 23)\n",
      "Top 20 cands:\n",
      " [('雒', 138), ('瞿', 127), ('奪', 118), ('雅', 117), ('焦', 113), ('翟', 106), ('釁', 105), ('崔', 105), ('雍', 105), ('雉', 102), ('難', 102), ('霍', 99), ('雋', 96), ('養', 95), ('集', 92), ('隻', 91), ('穆', 91), ('雀', 90), ('雁', 90), ('截', 90)]\n"
     ]
    },
    {
     "data": {
      "image/png": "[encoded data removed]",
      "text/plain": [
       "<matplotlib.figure.Figure at 0x8918898>"
      ]
     },
     "metadata": {},
     "output_type": "display_data"
    },
    {
     "name": "stdout",
     "output_type": "stream",
     "text": [
      "==== confu_in_3.pkl\n",
      "Total_error: 5361\n",
      "Sum_cands: 306343\n",
      "Max_cands: 298\n",
      "Min_cands: 1\n",
      "Mean_cands: 57.14\n",
      "Mid_cands: ('倔', 45)\n",
      "Top 20 cands:\n",
      " [('居', 298), ('行', 288), ('癘', 287), ('藉', 284), ('吃', 252), ('戲', 250), ('祇', 239), ('枝', 239), ('釐', 236), ('圾', 229), ('契', 226), ('攜', 224), ('祭', 223), ('漆', 209), ('譏', 207), ('溪', 207), ('乩', 207), ('脊', 207), ('戟', 207), ('績', 207)]\n"
     ]
    },
    {
     "data": {
      "image/png": "[encoded data removed]",
      "text/plain": [
       "<matplotlib.figure.Figure at 0x81d81d0>"
      ]
     },
     "metadata": {},
     "output_type": "display_data"
    },
    {
     "name": "stdout",
     "output_type": "stream",
     "text": [
      "==== confu_in_4.pkl\n",
      "Total_error: 5361\n",
      "Sum_cands: 140584\n",
      "Max_cands: 31\n",
      "Min_cands: 1\n",
      "Mean_cands: 26.22\n",
      "Mid_cands: ('驅', 26)\n",
      "Top 20 cands:\n",
      " [('案', 31), ('太', 31), ('短', 31), ('寡', 31), ('從', 31), ('譏', 31), ('焜', 31), ('誌', 31), ('睿', 31), ('球', 31), ('臍', 31), ('奔', 31), ('嘻', 31), ('麗', 31), ('評', 31), ('璀', 31), ('狩', 31), ('綜', 31), ('脊', 31), ('緘', 31)]\n"
     ]
    },
    {
     "data": {
      "image/png": "[encoded data removed]",
      "text/plain": [
       "<matplotlib.figure.Figure at 0x813d978>"
      ]
     },
     "metadata": {},
     "output_type": "display_data"
    },
    {
     "name": "stdout",
     "output_type": "stream",
     "text": [
      "==== confu_in_5.pkl\n",
      "Total_error: 5361\n",
      "Sum_cands: 51655\n",
      "Max_cands: 38\n",
      "Min_cands: 1\n",
      "Mean_cands: 9.64\n",
      "Mid_cands: ('頤', 7)\n",
      "Top 20 cands:\n",
      " [('淅', 38), ('混', 38), ('淳', 38), ('淇', 38), ('液', 38), ('涿', 38), ('淑', 38), ('涸', 38), ('淘', 38), ('淹', 38), ('淞', 38), ('渚', 38), ('淚', 38), ('涯', 38), ('淦', 38), ('淮', 38), ('淪', 38), ('淵', 38), ('清', 38), ('淒', 38)]\n"
     ]
    },
    {
     "data": {
      "image/png": "[encoded data removed]",
      "text/plain": [
       "<matplotlib.figure.Figure at 0x85f39e8>"
      ]
     },
     "metadata": {},
     "output_type": "display_data"
    },
    {
     "name": "stdout",
     "output_type": "stream",
     "text": [
      "==== confu_in_6.pkl\n",
      "Total_error: 5361\n",
      "Sum_cands: 13658\n",
      "Max_cands: 17\n",
      "Min_cands: 1\n",
      "Mean_cands: 2.55\n",
      "Mid_cands: ('轂', 2)\n",
      "Top 20 cands:\n",
      " [('愉', 17), ('識', 15), ('息', 15), ('愚', 14), ('是', 14), ('如', 14), ('事', 13), ('付', 13), ('胡', 13), ('折', 12), ('俞', 12), ('而', 12), ('新', 12), ('余', 11), ('緣', 11), ('游', 11), ('適', 11), ('知', 11), ('資', 11), ('兒', 11)]\n"
     ]
    },
    {
     "data": {
      "image/png": "[encoded data removed]",
      "text/plain": [
       "<matplotlib.figure.Figure at 0x87b2b00>"
      ]
     },
     "metadata": {},
     "output_type": "display_data"
    }
   ],
   "source": [
    "for file, path in filelist.items():\n",
    "    print('==== {}'.format(file))\n",
    "    sys_c = sysExtract(path)\n",
    "    info(sys_c, os.path.splitext(file)[0])"
   ]
  },
  {
   "cell_type": "code",
   "execution_count": 9,
   "metadata": {
    "collapsed": true
   },
   "outputs": [],
   "source": [
    "def versus(gt_confusion, sys_confusion):\n",
    "    tp, fn, fp = 0, 0, 0\n",
    "    # s=gt\n",
    "    # t=sys\n",
    "    for er, gtcands in gt_confusion.items():\n",
    "        if er in sys_confusion:\n",
    "            sys_tmpSet = set(sys_confusion[er])\n",
    "            sys_tmpSet.discard(er)        \n",
    "            tp += len(sys_tmpSet.intersection(gtcands))\n",
    "            fn += len(gtcands.difference(sys_tmpSet))\n",
    "            fp += len(sys_tmpSet.difference(gtcands))\n",
    "\n",
    "    recall = tp/(tp+fn)\n",
    "    precision = tp/(tp+fp)\n",
    "\n",
    "    return recall, precision\n",
    "#     print('Recall= {}'.format(recall))\n",
    "#     print('Precision= {}'.format(precision))"
   ]
  },
  {
   "cell_type": "code",
   "execution_count": 34,
   "metadata": {
    "collapsed": true
   },
   "outputs": [],
   "source": [
    "def converageConfusion(dataroot):\n",
    "    filelist = {file:dataroot+file for _,_, files in os.walk(dataroot) for file in files if 'confu' in file}\n",
    "    converage_file = os.path.join(dataroot, 'converage.csv')\n",
    "    \n",
    "    testUDNname = './UDN_benchmark/UDN_testdata.txt'\n",
    "    testSIGname = ['./test_15/SIGHAN15_CSC_TestInput.txt', './test_15/SIGHAN15_CSC_TestTruth.txt']\n",
    "    \n",
    "    gt_cUDN = gtExtract(testUDNname, 'UDN')\n",
    "    gt_cSIG = gtExtract(testSIGname,'SIGHAN2015')\n",
    "    with open(converage_file, 'w', encoding='utf8') as wp:\n",
    "        wp.write('Filename,Chars,MeanCands,UDNRecall,UDNPrecision,SIGRecall,SIGPrecision\\n')\n",
    "        for file, path in filelist.items():\n",
    "            try:\n",
    "                sys_c = sysExtract(path)\n",
    "#                 sys_c = pickle.load(open(path, 'rb'))\n",
    "            except:\n",
    "                print(file)\n",
    "            ava_ch, mean_cands = len(sys_c), sum(len(i) for i in sys_c.values())/len(sys_c)\n",
    "            result_UDN = versus(gt_cUDN, sys_c)\n",
    "            result_SIG = versus(gt_cSIG, sys_c)\n",
    "            \n",
    "            wp.write('{},{},{},{u[0]},{u[1]},{s[0]},{s[1]}\\n'.format(\n",
    "                file,ava_ch,mean_cands,\n",
    "                u=result_UDN,\n",
    "                s=result_SIG\n",
    "                ))\n",
    "                        "
   ]
  },
  {
   "cell_type": "code",
   "execution_count": 8,
   "metadata": {
    "collapsed": true
   },
   "outputs": [],
   "source": [
    "    testUDNname = './UDN_benchmark/UDN_testdata.txt'\n",
    "    gt_cUDN = gtExtract(testUDNname, 'UDN')\n"
   ]
  },
  {
   "cell_type": "code",
   "execution_count": 6,
   "metadata": {
    "collapsed": true
   },
   "outputs": [],
   "source": [
    "a = './confusionTable/rule/rule_chPairs.pkl'"
   ]
  },
  {
   "cell_type": "code",
   "execution_count": 7,
   "metadata": {
    "collapsed": true
   },
   "outputs": [],
   "source": [
    "sys_c = pickle.load(open(a, 'rb'))"
   ]
  },
  {
   "cell_type": "code",
   "execution_count": 9,
   "metadata": {
    "collapsed": true
   },
   "outputs": [],
   "source": [
    "dataroot = './confusionTable/rule//'"
   ]
  },
  {
   "cell_type": "code",
   "execution_count": 10,
   "metadata": {
    "collapsed": true
   },
   "outputs": [],
   "source": [
    "converageConfusion(dataroot)"
   ]
  }
 ],
 "metadata": {
  "kernelspec": {
   "display_name": "Python 3",
   "language": "python",
   "name": "python3"
  },
  "language_info": {
   "codemirror_mode": {
    "name": "ipython",
    "version": 3
   },
   "file_extension": ".py",
   "mimetype": "text/x-python",
   "name": "python",
   "nbconvert_exporter": "python",
   "pygments_lexer": "ipython3",
   "version": "3.6.1"
  }
 },
 "nbformat": 4,
 "nbformat_minor": 2
}
