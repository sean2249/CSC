{
 "cells": [
  {
   "cell_type": "code",
   "execution_count": 33,
   "metadata": {
    "collapsed": true
   },
   "outputs": [],
   "source": [
    "import os "
   ]
  },
  {
   "cell_type": "code",
   "execution_count": 1,
   "metadata": {
    "collapsed": true
   },
   "outputs": [],
   "source": [
    "from collections import defaultdict"
   ]
  },
  {
   "cell_type": "code",
   "execution_count": 35,
   "metadata": {
    "collapsed": true
   },
   "outputs": [],
   "source": [
    "output_root = './UDN_freqeuncy/'"
   ]
  },
  {
   "cell_type": "code",
   "execution_count": 2,
   "metadata": {
    "collapsed": true
   },
   "outputs": [],
   "source": [
    "gtfileame = './extractUDN/all_groundtruth.txt'\n",
    "seqfilename = './extractUDN/all_input.txt'"
   ]
  },
  {
   "cell_type": "markdown",
   "metadata": {},
   "source": [
    "### Extract chararcter frequency"
   ]
  },
  {
   "cell_type": "code",
   "execution_count": 12,
   "metadata": {
    "collapsed": false
   },
   "outputs": [],
   "source": [
    "char_freq = dict()\n",
    "with open('UDN_charCount.txt', 'r', encoding='utf8') as fp:\n",
    "#     print(fp.readline())\n",
    "    for line in fp:\n",
    "        lst = line.strip().split(',')\n",
    "        char_freq[lst[0]] = int(lst[-1])"
   ]
  },
  {
   "cell_type": "markdown",
   "metadata": {},
   "source": [
    "### Extract error-correct paris"
   ]
  },
  {
   "cell_type": "code",
   "execution_count": 3,
   "metadata": {
    "collapsed": false
   },
   "outputs": [
    {
     "name": "stdout",
     "output_type": "stream",
     "text": [
      "Done.\n",
      "= Processing 54624 sequences\n",
      "= Total Error character 2653\n"
     ]
    }
   ],
   "source": [
    "bigDict = defaultdict(lambda: defaultdict(int))\n",
    "combine = defaultdict(lambda :[0,0])\n",
    "\n",
    "with open(gtfileame, 'r', encoding='utf8') as gtp,\\\n",
    "    open(seqfilename, 'r', encoding='utf8') as ip:\n",
    "    line_idx = 0\n",
    "    seq_line = ip.readline().strip('\\n')\n",
    "    dataID, seq = seq_line[:seq_line.find(',')], seq_line[seq_line.find(',')+2:]\n",
    "\n",
    "    gt_lst  = gtp.readline().strip('\\n').split(', ')\n",
    "    while seq!='' or gt_lst!=['']:\n",
    "        gt_lst  = gtp.readline().strip('\\n').split(', ')\n",
    "\n",
    "        seq_line = ip.readline().strip('\\n')\n",
    "        dataID, seq = seq_line[:seq_line.find(',')], seq_line[seq_line.find(',')+2:]\n",
    "\n",
    "        # Avoid some exception of sequence that have unwanted \\M\n",
    "        cntdown = 5\n",
    "        while dataID != gt_lst[0] and cntdown!=0:\n",
    "            seq_line = ip.readline().strip('\\n')\n",
    "            dataID, seq = seq_line[:seq_line.find(',')], seq_line[seq_line.find(',')+2:]\n",
    "            cntdown -= 1\n",
    "        # If the count of trial above, jump out for bad input data \n",
    "        if cntdown==0:\n",
    "            break\n",
    "\n",
    "        line_idx += 1    \n",
    "\n",
    "        gt = gt_lst[1:]    \n",
    "        for idx in range(0, len(gt), 2):\n",
    "            corr_ch = str(gt[idx+1])\n",
    "            try:\n",
    "                error_ch = str(seq[int(gt[idx])-1])\n",
    "            except IndexError:\n",
    "                continue\n",
    "                \n",
    "            if error_ch>corr_ch:\n",
    "                combine[(error_ch, corr_ch)][0] += 1\n",
    "            else:\n",
    "                combine[(corr_ch, error_ch)][1] += 1\n",
    "\n",
    "            bigDict[error_ch][corr_ch] += 1\n",
    "\n",
    "    print('Done.')\n",
    "    print('= Processing {} sequences'.format(line_idx))\n",
    "    print('= Total Error character {}'.format(len(bigDict)))"
   ]
  },
  {
   "cell_type": "markdown",
   "metadata": {},
   "source": [
    "## Data what we have\n",
    "1. combine[pair] = [cnt1, cnt2]\n",
    "2. char_freq[ch] = [cnt]"
   ]
  },
  {
   "cell_type": "markdown",
   "metadata": {},
   "source": [
    "### Most common case "
   ]
  },
  {
   "cell_type": "code",
   "execution_count": 75,
   "metadata": {
    "collapsed": true
   },
   "outputs": [],
   "source": [
    "mostCommonCase_pair = sorted(combine.items(), key= lambda x:max(x[1]), reverse=True)"
   ]
  },
  {
   "cell_type": "code",
   "execution_count": 80,
   "metadata": {
    "collapsed": false
   },
   "outputs": [],
   "source": [
    "mostCommonCase_char = []\n",
    "for pair, counts in mostCommonCase_pair:\n",
    "    try:\n",
    "        mostCommonCase_char.append(\n",
    "                    (pair[0],pair[1],counts[0],char_freq[pair[0]], char_freq[pair[1]]))\n",
    "        mostCommonCase_char.append(\n",
    "            (pair[1],pair[0],counts[1],char_freq[pair[1]], char_freq[pair[0]]))\n",
    "    except KeyError:\n",
    "        continue"
   ]
  },
  {
   "cell_type": "code",
   "execution_count": 81,
   "metadata": {
    "collapsed": true
   },
   "outputs": [],
   "source": [
    "mostCommonCase_char = sorted(mostCommonCase_char, key=lambda x:-x[2])"
   ]
  },
  {
   "cell_type": "code",
   "execution_count": 83,
   "metadata": {
    "collapsed": false
   },
   "outputs": [],
   "source": [
    "with open(os.path.join(output_root, 'mostCommonCase_withDigit.csv'), 'w', encoding='utf8') as wp:\n",
    "    wp.write('Error,Correct,Count,CountOfError,CountOfCorrect\\n')\n",
    "    for item in mostCommonCase:\n",
    "        wp.write('{p[0]},{p[1]},{p[2]},{p[3]},{p[4]}\\n'.format(p=item))"
   ]
  },
  {
   "cell_type": "markdown",
   "metadata": {},
   "source": [
    "#### Kick number"
   ]
  },
  {
   "cell_type": "code",
   "execution_count": 84,
   "metadata": {
    "collapsed": true
   },
   "outputs": [],
   "source": [
    "mostCommonCase_char_nodigit = []\n",
    "for item in mostCommonCase_char:\n",
    "    if item[0].isdigit() or item[1].isdigit():\n",
    "        pass\n",
    "    else:\n",
    "        mostCommonCase_char_nodigit.append(item)"
   ]
  },
  {
   "cell_type": "code",
   "execution_count": 88,
   "metadata": {
    "collapsed": true
   },
   "outputs": [],
   "source": [
    "with open(os.path.join(output_root, 'mostCommonCase_nodigit.csv'), 'w', encoding='utf8') as wp:\n",
    "    wp.write('Error,correct,count,ErFreq,CorFreq\\n')\n",
    "    for item in mostCommonCase_char_nodigit:\n",
    "        wp.write('{item[0]},{item[1]},{item[2]},{item[3]},{item[4]}\\n'.format(item=item))"
   ]
  },
  {
   "cell_type": "code",
   "execution_count": 90,
   "metadata": {
    "collapsed": true
   },
   "outputs": [],
   "source": [
    "mostCommonCase_pair_nodigit = []\n",
    "for pair, counts in mostCommonCase_pair:\n",
    "    if pair[0].isdigit() or pair[1].isdigit():\n",
    "        pass\n",
    "    else:\n",
    "        mostCommonCase_pair_nodigit.append((pair, counts))"
   ]
  },
  {
   "cell_type": "markdown",
   "metadata": {},
   "source": [
    "### Number transform case"
   ]
  },
  {
   "cell_type": "code",
   "execution_count": 45,
   "metadata": {
    "collapsed": false
   },
   "outputs": [
    {
     "data": {
      "text/plain": [
       "(('３', '3'), [63, 1])"
      ]
     },
     "execution_count": 45,
     "metadata": {},
     "output_type": "execute_result"
    }
   ],
   "source": [
    "mostCommonCase_pair[65]"
   ]
  },
  {
   "cell_type": "code",
   "execution_count": 59,
   "metadata": {
    "collapsed": false
   },
   "outputs": [],
   "source": [
    "numberTransform = []\n",
    "for pair, counts in mostCommonCase_pair:\n",
    "    if pair[0].isdigit() or pair[1].isdigit():\n",
    "        try:\n",
    "            numberTransform.append((pair,counts,[char_freq[pair[0]], char_freq[pair[1]]]))\n",
    "        except KeyError:\n",
    "            continue"
   ]
  },
  {
   "cell_type": "code",
   "execution_count": 62,
   "metadata": {
    "collapsed": false
   },
   "outputs": [],
   "source": [
    "with open(os.path.join(output_root, 'numberTransform.csv'), 'w', encoding='utf8') as wp:\n",
    "    wp.write('P1,P2,p1->_p2,p2->p1,Fp1,Fp2\\n')\n",
    "    for pair, counts, frequency in numberTransform:\n",
    "        wp.write('{p[0]},{p[1]},{c[0]},{c[1]},{f[0]},{f[1]}\\n'.format(p=pair, c=counts, f=frequency))"
   ]
  },
  {
   "cell_type": "code",
   "execution_count": 53,
   "metadata": {
    "collapsed": false
   },
   "outputs": [],
   "source": [
    "numbermatch = {\n",
    "    0:'零',\n",
    "    1:'一',\n",
    "    2:{'二','兩'},\n",
    "    3:'三',\n",
    "    4:'四',\n",
    "    5:'五',\n",
    "    6:'六',\n",
    "    7:'七',\n",
    "    8:'八',\n",
    "    9:'九'\n",
    "}"
   ]
  },
  {
   "cell_type": "markdown",
   "metadata": {},
   "source": [
    "### Mutual case (error->correct) and (correct->error)"
   ]
  },
  {
   "cell_type": "code",
   "execution_count": 103,
   "metadata": {
    "collapsed": false
   },
   "outputs": [
    {
     "data": {
      "text/plain": [
       "2"
      ]
     },
     "execution_count": 103,
     "metadata": {},
     "output_type": "execute_result"
    }
   ],
   "source": [
    "abs(3-5)"
   ]
  },
  {
   "cell_type": "code",
   "execution_count": 108,
   "metadata": {
    "collapsed": false
   },
   "outputs": [],
   "source": [
    "def select(x, method):\n",
    "    if method == 'sum':\n",
    "        if x[1][0]==0 or x[1][1]==0:\n",
    "            return 0\n",
    "        else:\n",
    "            return sum(x[1])\n",
    "    elif method == 'differ':\n",
    "        if x[1][0]==0 or x[1][1]==0:\n",
    "            return 0\n",
    "        else:\n",
    "            return -abs(x[1][0]-x[1][1])\n",
    "    \n",
    "mostCommoMutalCase = sorted(mostCommonCase_pair_nodigit, key=lambda x:select(x,'sum'),reverse=True)"
   ]
  },
  {
   "cell_type": "code",
   "execution_count": 102,
   "metadata": {
    "collapsed": false
   },
   "outputs": [],
   "source": [
    "with open(os.path.join(output_root, 'mostCommonMutualCase_sum.csv'), 'w', encoding='utf8') as wp:\n",
    "    wp.write('p1,p2,p1->p2,p2->p1,Fp1,Fp2\\n')\n",
    "    for pair, counts in mostCommoMutalCase:\n",
    "        try:\n",
    "            freq_pair = [char_freq[pair[0]], char_freq[pair[1]]]\n",
    "        except KeyError:\n",
    "            continue\n",
    "        wp.write('{p[0]},{p[1]},{c[0]},{c[1]},{fpF[0]},{fpF[1]}\\n'.\n",
    "                 format(p=pair,c=counts,fpF = freq_pair))"
   ]
  },
  {
   "cell_type": "code",
   "execution_count": 112,
   "metadata": {
    "collapsed": true
   },
   "outputs": [],
   "source": [
    "mostCommonCase_pair_nodigit_MutualOnly = [(pair, counts)\n",
    "    for pair, counts in mostCommonCase_pair_nodigit if counts[0] != 0 and counts[1] != 0]"
   ]
  },
  {
   "cell_type": "code",
   "execution_count": 114,
   "metadata": {
    "collapsed": true
   },
   "outputs": [],
   "source": [
    "mostCommoMutalCaseMean = sorted(mostCommonCase_pair_nodigit_MutualOnly, key=lambda x:select(x,'differ'), reverse=True)"
   ]
  },
  {
   "cell_type": "code",
   "execution_count": 121,
   "metadata": {
    "collapsed": false
   },
   "outputs": [],
   "source": [
    "with open(os.path.join(output_root, 'mostCommonMutualCase_diff.csv'), 'w', encoding='utf8') as wp:\n",
    "    wp.write('p1,p2,p1->p2,p2->p1,Fp1,Fp2\\n')\n",
    "    for pair, counts in mostCommoMutalCaseMean:\n",
    "        try:\n",
    "            freq_pair = [char_freq[pair[0]], char_freq[pair[1]]]\n",
    "        except KeyError:\n",
    "            continue\n",
    "        wp.write('{p[0]},{p[1]},{c[0]},{c[1]},{fpF[0]},{fpF[1]}\\n'.\n",
    "                 format(p=pair,c=counts,fpF = freq_pair))"
   ]
  },
  {
   "cell_type": "markdown",
   "metadata": {},
   "source": [
    "### Most transform mutual case "
   ]
  }
 ],
 "metadata": {
  "kernelspec": {
   "display_name": "Python 3",
   "language": "python",
   "name": "python3"
  },
  "language_info": {
   "codemirror_mode": {
    "name": "ipython",
    "version": 3
   },
   "file_extension": ".py",
   "mimetype": "text/x-python",
   "name": "python",
   "nbconvert_exporter": "python",
   "pygments_lexer": "ipython3",
   "version": "3.6.0"
  }
 },
 "nbformat": 4,
 "nbformat_minor": 2
}
