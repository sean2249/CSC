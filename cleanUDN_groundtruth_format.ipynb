{
 "cells": [
  {
   "cell_type": "code",
   "execution_count": null,
   "metadata": {
    "collapsed": true
   },
   "outputs": [],
   "source": []
  },
  {
   "cell_type": "code",
   "execution_count": 1,
   "metadata": {
    "collapsed": true
   },
   "outputs": [],
   "source": [
    "input_file = './extractUDN/withError_input.txt'\n",
    "groundtruth_file = './extractUDN/withError_groundtruth.txt'"
   ]
  },
  {
   "cell_type": "code",
   "execution_count": 46,
   "metadata": {
    "collapsed": true
   },
   "outputs": [],
   "source": [
    "def extract(inline, gtline):\n",
    "    seq = inline[1] if len(inline)==2 else ''\n",
    "        \n",
    "    errors = []\n",
    "    for i in range(1,len(gtline),3):\n",
    "        errors.append(gtline[i:i+3])\n",
    "\n",
    "#     print(errors)\n",
    "    \n",
    "    rep = list(seq)\n",
    "#     print(seq)\n",
    "    \n",
    "    move_cnt = 0\n",
    "    for idx, er_ch, co_ch in errors:\n",
    "#         print()\n",
    "        rep.insert(int(idx)+move_cnt, '({})'.format(co_ch))\n",
    "        move_cnt += 1\n",
    "    \n",
    "#     print(''.join(rep))\n",
    "    return ''.join(rep)"
   ]
  },
  {
   "cell_type": "code",
   "execution_count": 57,
   "metadata": {
    "collapsed": false
   },
   "outputs": [
    {
     "name": "stdout",
     "output_type": "stream",
     "text": [
      "['1108-225-05465-005-21,'] ['1108-225-05465-005-21', '9', '匯', '𥣡', '12', '劃', '畫']\n"
     ]
    }
   ],
   "source": [
    "idx = 0\n",
    "\n",
    "with open(input_file, 'r', encoding='utf8') as input_fp,\\\n",
    "    open(groundtruth_file, 'r', encoding='utf8') as gt_fp,\\\n",
    "    open('./extractUDN/withError_format.txt', 'w', encoding='utf8') as wp:\n",
    "            \n",
    "#         for i in range(30):\n",
    "#             input_line = input_fp.readline().strip().split(',')\n",
    "#             ground_line = gt_fp.readline().strip().split(',')\n",
    "        \n",
    "        \n",
    "        \n",
    "        for in_raw, gt_raw in zip(input_fp, gt_fp):                        \n",
    "            \n",
    "            in_line = in_raw.strip().split(', ')\n",
    "            gt_line = gt_raw.strip().split(', ')\n",
    "            \n",
    "            if in_line[0] != gt_line[0]:\n",
    "                print(in_line, gt_line)\n",
    "                _ = input_fp.readline()\n",
    "                continue\n",
    "#                 break\n",
    "            \n",
    "            out_line = extract(in_line, gt_line)\n",
    "            \n",
    "            wp.write('{}\\n'.format(in_line[0], out_line))\n",
    "#             print(out_line)\n",
    "            \n",
    "#             out_str = extract(input_line, ground_line)\n",
    "#             print(out_str)\n",
    "        \n",
    "        \n",
    "        \n",
    "        "
   ]
  },
  {
   "cell_type": "code",
   "execution_count": null,
   "metadata": {
    "collapsed": true
   },
   "outputs": [],
   "source": []
  }
 ],
 "metadata": {
  "kernelspec": {
   "display_name": "Python 3",
   "language": "python",
   "name": "python3"
  },
  "language_info": {
   "codemirror_mode": {
    "name": "ipython",
    "version": 3
   },
   "file_extension": ".py",
   "mimetype": "text/x-python",
   "name": "python",
   "nbconvert_exporter": "python",
   "pygments_lexer": "ipython3",
   "version": "3.6.0"
  }
 },
 "nbformat": 4,
 "nbformat_minor": 2
}
