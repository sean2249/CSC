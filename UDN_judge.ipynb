{
 "cells": [
  {
   "cell_type": "code",
   "execution_count": 1,
   "metadata": {
    "collapsed": true
   },
   "outputs": [],
   "source": [
    "import os"
   ]
  },
  {
   "cell_type": "code",
   "execution_count": 2,
   "metadata": {
    "collapsed": true
   },
   "outputs": [],
   "source": [
    "class CharJudge:\n",
    "    def __init__(self):\n",
    "        self._sys_chtotalErrors = 0\n",
    "        self._gt_chtotalErrors = 0\n",
    "        self._sys_chdetectErrors = 0\n",
    "        self._sys_chcorrectErrors = 0\n",
    "        \n",
    "    def itemInput(self, item):\n",
    "        self._gt_chtotalErrors += len(item['gt_set'])\n",
    "        self._sys_chtotalErrors += len(item['sys_set'])\n",
    "        self._sys_chdetectErrors += len(item['match'])\n",
    "        \n",
    "        for idx in item['match']:\n",
    "            if item['gt'][idx] == item['sys'][idx]:\n",
    "                self._sys_chcorrectErrors += 1\n",
    "                \n",
    "    def result(self):        \n",
    "        self.detect_precision = (self._sys_chdetectErrors / self._sys_chtotalErrors)\n",
    "        self.detect_recall = (self._sys_chdetectErrors / self._gt_chtotalErrors)\n",
    "\n",
    "        self.correct_precision = (self._sys_chcorrectErrors / self._sys_chtotalErrors)\n",
    "        self.correct_recall = (self._sys_chcorrectErrors / self._gt_chtotalErrors)\n",
    "\n",
    "        print('Char')\n",
    "        print('=== Detection Stage ===')\n",
    "        print('Precision(%) = {:.4f}'.format(self.detect_precision))\n",
    "        print('Recall(%) = {:.4f}'.format(self.detect_recall))\n",
    "        print('=== Correction Stage ===')\n",
    "        print('Precision(%) = {:.4f}'.format(self.correct_precision))\n",
    "        print('Recall(%) = {:.4f}'.format(self.correct_recall))\n",
    "        "
   ]
  },
  {
   "cell_type": "code",
   "execution_count": 3,
   "metadata": {
    "collapsed": true
   },
   "outputs": [],
   "source": [
    "class SeqJudge:\n",
    "    def __init__(self):\n",
    "        self._gtCorrectLine = 0        \n",
    "        \n",
    "        self._sysTrueCorrect = 0\n",
    "        self._fp = 0 \n",
    "        self._gtErrorLine = 0\n",
    "        self._sysTrueError = 0 \n",
    "        self._corsysTrueError = 0 \n",
    "        self._sysErrorLine = 0\n",
    "    def detail(self):\n",
    "        print(self._sysTrueCorrect)\n",
    "        print(self._fp) \n",
    "        print(self._gtErrorLine)\n",
    "        print(self._sysTrueError) \n",
    "        print(self._corsysTrueError) \n",
    "        print(self._sysErrorLine)\n",
    "    \n",
    "    def itemInput(self, item):\n",
    "        gt_set = item['gt_set']\n",
    "        sys_set = item['sys_set']\n",
    "        \n",
    "        if len(gt_set) == 0: \n",
    "            self._gtCorrectLine += 1\n",
    "            if len(sys_set) == 0:\n",
    "                self._sysTrueCorrect += 1                        \n",
    "            else:\n",
    "                self._fp += 1\n",
    "        else:\n",
    "            self._gtErrorLine += 1\n",
    "            if gt_set == sys_set:\n",
    "                self._sysTrueError += 1                \n",
    "                for idx in item['match']:\n",
    "                    if item['gt'][idx] != item['sys'][idx]:\n",
    "                        break\n",
    "                else:\n",
    "                    self._corsysTrueError += 1        \n",
    "        if len(sys_set) != 0:\n",
    "            self._sysErrorLine += 1            \n",
    "    \n",
    "    def result(self):\n",
    "        self.d_acc = (self._sysTrueError+self._sysTrueCorrect) / (self._gtCorrectLine + self._gtErrorLine)\n",
    "        self.d_recall = self._sysTrueError / (self._gtErrorLine)\n",
    "        self.d_precision = self._sysTrueError / (self._sysErrorLine)\n",
    "        self.d_fprate = self._fp / self._gtCorrectLine\n",
    "        self.d_f1 = (2*self.d_recall*self.d_precision)/(self.d_recall+self.d_precision)\n",
    "        \n",
    "        self.c_acc = (self._corsysTrueError+self._sysTrueCorrect) / (self._gtCorrectLine + self._gtErrorLine)\n",
    "        self.c_recall = self._corsysTrueError / (self._gtErrorLine)\n",
    "        self.c_precision = self._corsysTrueError / (self._sysErrorLine)\n",
    "        self.c_f1 = (2*self.c_recall*self.c_precision)/(self.c_recall+self.c_precision)        \n",
    "        \n",
    "#         print('Sentence')\n",
    "#         print('=== Detection Level ===')\n",
    "#         print('FPR = {:.4f}'.format(self.d_fprate))\n",
    "#         print('Accuracy = {:.4f}'.format(self.d_acc))\n",
    "#         print('Precision = {:.4f}'.format(self.d_precision))\n",
    "#         print('Recall = {:.4f}'.format(self.d_recall))\n",
    "#         print('F1 Score = {:.4f}'.format(self.d_f1))\n",
    "        \n",
    "#         print('=== Correction Level ===')\n",
    "#         print('Accuracy = {:.4f}'.format(self.c_acc))\n",
    "#         print('Precision = {:.4f}'.format(self.c_precision))\n",
    "#         print('Recall = {:.4f}'.format(self.c_recall))\n",
    "#         print('F1 Score = {:.4f}'.format(self.c_f1))\n",
    "        \n",
    "        return {'detection':[self.d_fprate, self.d_acc, self.d_precision, self.d_recall, self.d_f1], \n",
    "                'correction':[self.c_acc, self.c_precision, self.c_recall, self.c_f1]}"
   ]
  },
  {
   "cell_type": "code",
   "execution_count": 4,
   "metadata": {
    "collapsed": true
   },
   "outputs": [],
   "source": [
    "def fileJudge(judge_file):\n",
    "    chjudge = CharJudge()\n",
    "    seqjudge = SeqJudge()\n",
    "    with open(judge_file, 'r', encoding='utf8') as fp:\n",
    "        fp.readline()\n",
    "\n",
    "        for line_idx, line in enumerate(fp):\n",
    "            item = extract(line.strip().split('|||'))\n",
    "            chjudge.itemInput(item)\n",
    "            seqjudge.itemInput(item)\n",
    "\n",
    "#     chjudge.result()\n",
    "#     print()\n",
    "#     seqjudge.detail()\n",
    "    tt = seqjudge.result()\n",
    "    \n",
    "    return tt"
   ]
  },
  {
   "cell_type": "code",
   "execution_count": 5,
   "metadata": {
    "collapsed": true
   },
   "outputs": [],
   "source": [
    "def extract(lst):\n",
    "    gt = lst[2].split(', ')\n",
    "    ground_truth = {int(idx):ch for idx, ch in zip(gt[:-1:2], gt[1::2])}\n",
    "    st = lst[3].split(', ')\n",
    "    sys_truth = {int(idx):ch for idx, ch in zip(st[:-1:2], st[1::2])} if len(st)>0 else dict()\n",
    "\n",
    "    ground_set = set(ground_truth)\n",
    "    sys_set = set(sys_truth)\n",
    "\n",
    "    detect_correct_idx = ground_set.intersection(sys_set)\n",
    "    \n",
    "    return {'gt':ground_truth, 'sys':sys_truth, 'gt_set':ground_set, 'sys_set':sys_set, 'match':detect_correct_idx}"
   ]
  },
  {
   "cell_type": "code",
   "execution_count": 9,
   "metadata": {
    "collapsed": true
   },
   "outputs": [],
   "source": [
    "dataroot = './UDN_benchmark/0711_beam/'"
   ]
  },
  {
   "cell_type": "code",
   "execution_count": 10,
   "metadata": {
    "collapsed": true
   },
   "outputs": [],
   "source": [
    "filelist = {file:dataroot+file for _, _, files in os.walk(dataroot) for file in files if os.path.splitext}"
   ]
  },
  {
   "cell_type": "code",
   "execution_count": 11,
   "metadata": {
    "scrolled": true
   },
   "outputs": [
    {
     "name": "stdout",
     "output_type": "stream",
     "text": [
      "Current file = re_beam10_2_10.txt\n",
      "Current file = re_beam10_2_9.txt\n",
      "Current file = re_beam10_3_10.txt\n",
      "Current file = re_beam10_3_9.txt\n"
     ]
    }
   ],
   "source": [
    "detail_file = os.path.join(dataroot, 'detail.csv')\n",
    "with open(detail_file, 'w', encoding='utf8') as wp:\n",
    "    for file,path in filelist.items():\n",
    "        cur_filename, file_extension = os.path.splitext(file)\n",
    "        if file_extension != '.txt':\n",
    "            continue\n",
    "        \n",
    "        print('Current file = {}'.format(file))\n",
    "        try:\n",
    "            result = fileJudge(path)\n",
    "            fileinfo = ','.join(cur_filename.split('_')[1:])\n",
    "            wp.write('{},'.format(fileinfo))\n",
    "            wp.write('{de[0]},{de[1]},{de[2]},{de[3]},{de[4]},{co[0]},{co[1]},{co[2]},{co[3]}\\n'.\n",
    "                     format(de=result['detection'], co=result['correction']))\n",
    "\n",
    "        except:\n",
    "            print('Failed')\n",
    "            pass"
   ]
  },
  {
   "cell_type": "code",
   "execution_count": null,
   "metadata": {
    "collapsed": true
   },
   "outputs": [],
   "source": []
  }
 ],
 "metadata": {
  "kernelspec": {
   "display_name": "Python 3",
   "language": "python",
   "name": "python3"
  },
  "language_info": {
   "codemirror_mode": {
    "name": "ipython",
    "version": 3
   },
   "file_extension": ".py",
   "mimetype": "text/x-python",
   "name": "python",
   "nbconvert_exporter": "python",
   "pygments_lexer": "ipython3",
   "version": "3.6.1"
  }
 },
 "nbformat": 4,
 "nbformat_minor": 2
}
