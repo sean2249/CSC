{
 "cells": [
  {
   "cell_type": "code",
   "execution_count": 2,
   "metadata": {
    "collapsed": true
   },
   "outputs": [],
   "source": [
    "import os \n",
    "import csv \n",
    "import argparse\n",
    "import re\n",
    "from datetime import datetime"
   ]
  },
  {
   "cell_type": "code",
   "execution_count": 3,
   "metadata": {
    "collapsed": true
   },
   "outputs": [],
   "source": [
    "def run_eval(filelist, test_num, path):\n",
    "    task = {'1': 'SIGHAN15_CSC_DryTruth.txt',\n",
    "            '2': 'SIGHAN15_CSC_TestTruth.txt'}\n",
    "    judge_file = 'sighan15csc.jar'\n",
    "\n",
    "    for sys_file, sys_path in filelist.items():\n",
    "#     (de, t) = run_eval(i, 2, path)\n",
    "    \n",
    "#     (sys_file, sys_path) = sys_truth\n",
    "#         sys_token = sys_file[3:-4]\n",
    "\n",
    "    #     sys_filename = os.path.splitext(sys_truth[0])[0]\n",
    "    #     sys_token = sys_filename[sys_filename.find('_')+1:]\n",
    "\n",
    "        detail_path = '{}{}'.format(path, re.sub(r're', 'de', sys_file))\n",
    "\n",
    "    #     detail_path = 'de_' + sys_token + '.txt'\n",
    "    #     cmd_eval = 'java -jar %s -s %s -i %s -t %s -o %s'\\\n",
    "    #         % (judge, test_num, sys_truth, task[test_num], detail_path)\n",
    "\n",
    "\n",
    "        cmd_eval = 'java -jar {} -s {} -i {} -t {} -o {}'\\\n",
    "                .format(judge_file, str(test_num), sys_path, task[str(test_num)], detail_path)\n",
    "\n",
    "\n",
    "\n",
    "    #     print(cmd_eval)\n",
    "        if os.path.exists(judge_file) & os.path.exists(task[str(test_num)]):\n",
    "            os.system(cmd_eval)\n",
    "\n",
    "        print('Output file = {}'.format(detail_path))\n",
    "\n",
    "#     return (detail_path, sys_token)"
   ]
  },
  {
   "cell_type": "code",
   "execution_count": 4,
   "metadata": {
    "collapsed": true
   },
   "outputs": [],
   "source": [
    "def getVal(filename):\n",
    "    output = list()\n",
    "    with open(filename, 'r', encoding='utf8') as fp:\n",
    "        for idx,line in enumerate(fp,1):\n",
    "            # False Positive\n",
    "            if idx == 7:\n",
    "                output.append(line.split()[4])\n",
    "            elif idx >= 10:\n",
    "                tmp = line.split()\n",
    "                if len(tmp)==4:\n",
    "                    output.append(tmp[2])\n",
    "            elif idx > 22:\n",
    "                break\n",
    "\n",
    "    return output"
   ]
  },
  {
   "cell_type": "code",
   "execution_count": 5,
   "metadata": {
    "collapsed": false
   },
   "outputs": [],
   "source": [
    "def getResultList(path):\n",
    "    filelist = dict()\n",
    "    for dirpath, dirnames, filenames in os.walk(path):        \n",
    "        for file in filenames:\n",
    "            if re.search(r'^re', file):\n",
    "                filelist[file] = '{}{}'.format(dirpath, file) \n",
    "    return filelist"
   ]
  },
  {
   "cell_type": "code",
   "execution_count": 12,
   "metadata": {
    "collapsed": true
   },
   "outputs": [],
   "source": [
    "def getDetailList(path):\n",
    "    filelist = dict()\n",
    "    for dirpath, _, filenames in os.walk(path):\n",
    "        for file in filenames:\n",
    "            if re.search(r'^de', file):\n",
    "                filelist[file] = '{}{}'.format(dirpath,file)\n",
    "    \n",
    "    filelist_sort = sorted(filelist.items(), key=lambda x:x[0])\n",
    "    \n",
    "    log_files = []\n",
    "    for (file, filepath) in filelist_sort:                \n",
    "        output = [file[3:-4]]\n",
    "        with open(filepath, 'r', encoding='utf8') as fp:\n",
    "            for idx,line in enumerate(fp,1):\n",
    "                # False Positive\n",
    "                if idx == 7:\n",
    "                    output.append(line.split()[4])\n",
    "                elif idx >= 10:\n",
    "                    tmp = line.split()\n",
    "                    if len(tmp)==4:\n",
    "                        output.append(tmp[2])\n",
    "                elif idx > 22:\n",
    "                    break\n",
    "        log_files.append(output)\n",
    "    \n",
    "    t = datetime.now()\n",
    "    log_token = '{:02}{:02}_{:02}{:02}{:02}'.format(t.month,t.day,t.hour,t.minute,t.second)\n",
    "    with open('{}/log_{}.csv'.format(path, log_token), 'w', encoding='utf8', newline='') as fp:\n",
    "        print('Log file = log_{}.csv'.format(log_token))            \n",
    "        writer = csv.writer(fp) \n",
    "        writer.writerows(log_files)\n",
    "    \n",
    "#     print(filelist)\n",
    "#     print(log_files)"
   ]
  },
  {
   "cell_type": "code",
   "execution_count": 61,
   "metadata": {
    "collapsed": true
   },
   "outputs": [],
   "source": [
    "def process_command():\n",
    "    parser = argparse.ArgumentParser()\n",
    "    parser.add_argument('-p','--path', required=True)\n",
    "    parser.add_argument('-n','--num', required=True)\n",
    "    \n",
    "    return parser.parse_args()"
   ]
  },
  {
   "cell_type": "code",
   "execution_count": null,
   "metadata": {
    "collapsed": true
   },
   "outputs": [],
   "source": [
    "def main(args):    \n",
    "    filelist = getResultList(args.path)\n",
    "    run_eval(filelist,args.num,args.path)\n",
    "    getDetailList(args.path)"
   ]
  },
  {
   "cell_type": "code",
   "execution_count": null,
   "metadata": {
    "collapsed": true
   },
   "outputs": [],
   "source": [
    "if __name__ == '__main__':\n",
    "    args = process_command()\n",
    "    \n",
    "    main(args)\n",
    "    \n",
    "    "
   ]
  }
 ],
 "metadata": {
  "kernelspec": {
   "display_name": "Python [conda root]",
   "language": "python",
   "name": "conda-root-py"
  },
  "language_info": {
   "codemirror_mode": {
    "name": "ipython",
    "version": 3
   },
   "file_extension": ".py",
   "mimetype": "text/x-python",
   "name": "python",
   "nbconvert_exporter": "python",
   "pygments_lexer": "ipython3",
   "version": "3.5.2"
  }
 },
 "nbformat": 4,
 "nbformat_minor": 2
}
